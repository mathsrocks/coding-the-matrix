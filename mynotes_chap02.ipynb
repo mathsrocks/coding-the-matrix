{
 "cells": [
  {
   "cell_type": "markdown",
   "metadata": {},
   "source": [
    "# Latex Header Section: Skip\n",
    "$$\n",
    "%%%%%%%%%%%%%%%%%%%%%%%%%%%%%%%%%%%%%%%%%%%%%%%%%%%%%%%%%%%%%%%%%\n",
    "%\n",
    "%  The following are some simple LaTeX macros to give some\n",
    "%  commonly used letters in funny fonts. You may need more or less of\n",
    "%  these\n",
    "%\n",
    "\\newcommand{\\R}{\\mathbb{R}}\n",
    "\\newcommand{\\Q}{\\mathbb{Q}}\n",
    "\\newcommand{\\C}{\\mathbb{C}}\n",
    "\\newcommand{\\N}{\\mathbb{N}}\n",
    "\\newcommand{\\F}{\\mathbb{F}}\n",
    "\\newcommand{\\PP}{\\mathbb{P}}\n",
    "\\newcommand{\\T}{\\mathbb{T}}\n",
    "\\newcommand{\\Z}{\\mathbb{Z}}\n",
    "\\newcommand{\\B}{\\mathfrak{B}}\n",
    "\\newcommand{\\BB}{\\mathcal{B}}\n",
    "\\newcommand{\\M}{\\mathfrak{M}}\n",
    "\\newcommand{\\X}{\\mathfrak{X}}\n",
    "\\newcommand{\\Y}{\\mathfrak{Y}}\n",
    "\\newcommand{\\CC}{\\mathcal{C}}\n",
    "\\newcommand{\\E}{\\mathbb{E}}\n",
    "\\newcommand{\\cP}{\\mathcal{P}}\n",
    "\\newcommand{\\cS}{\\mathcal{S}}\n",
    "\\newcommand{\\A}{\\mathcal{A}}\n",
    "\\newcommand{\\ZZ}{\\mathcal{Z}}\n",
    "\\newcommand{\\cN}{\\mathcal{N}}\n",
    "%%%%%%%%%%%%%%%%%%%%%%%%%%%%%%%%%%%%%%%%%%%%%%%%%%%%%%%%%%%%%%%%%%%%%\n",
    "%\n",
    "% The following are much more esoteric commands that I have left in\n",
    "% so that this file still processes. Use or delete as you see fit\n",
    "%\n",
    "\\newcommand{\\bv}[1]{\\mbox{BV($#1$)}}\n",
    "\\newcommand{\\comb}[2]{\\left(\\!\\!\\!\\begin{array}{c}#1\\\\#2\\end{array}\\!\\!\\!\\right)\n",
    "}\n",
    "\\newcommand{\\Lat}{{\\rm Lat}}\n",
    "\\newcommand{\\var}{\\mathop{\\rm var}}\n",
    "\\newcommand{\\Pt}{{\\mathcal P}}\n",
    "\\def\\tr(#1){{\\rm trace}(#1)}\n",
    "\\def\\Exp(#1){{\\mathbb E}(#1)}\n",
    "\\def\\Exps(#1){{\\mathbb E}\\sparen(#1)}\n",
    "\\newcommand{\\floor}[1]{\\left\\lfloor #1 \\right\\rfloor}\n",
    "\\newcommand{\\ceil}[1]{\\left\\lceil #1 \\right\\rceil}\n",
    "\\newcommand{\\hatt}[1]{\\widehat #1}\n",
    "\\newcommand{\\modeq}[3]{#1 \\equiv #2 \\,(\\text{mod}\\, #3)}\n",
    "\\newcommand{\\rmod}{\\,\\mathrm{mod}\\,}\n",
    "\\newcommand{\\p}{\\hphantom{+}}\n",
    "\\newcommand{\\vect}[1]{\\mbox{\\boldmath $ #1 $}}\n",
    "\\newcommand{\\reff}[2]{\\ref{#1}.\\ref{#2}}\n",
    "\\newcommand{\\psum}[2]{\\sum_{#1}^{#2}\\!\\!\\!'\\,\\,}\n",
    "\\newcommand{\\bin}[2]{\\left( \\begin{array}{@{}c@{}}\n",
    "\t\t\t\t#1 \\\\ #2\n",
    "\t\t\t\\end{array}\\right)}\n",
    "%\n",
    "%  Macros - some of these are in plain TeX (gasp!)\n",
    "%\n",
    "\\newcommand{\\be}{($\\beta$)}\n",
    "\\newcommand{\\eqp}{\\mathrel{{=}_p}}\n",
    "\\newcommand{\\ltp}{\\mathrel{{\\prec}_p}}\n",
    "\\newcommand{\\lep}{\\mathrel{{\\preceq}_p}}\n",
    "\\def\\brack#1{\\left \\{ #1 \\right \\}}\n",
    "\\def\\bul{$\\bullet$\\ }\n",
    "\\def\\cl{{\\rm cl}}\n",
    "\\let\\del=\\partial\n",
    "\\def\\enditem{\\par\\smallskip\\noindent}\n",
    "\\def\\implies{\\Rightarrow}\n",
    "\\def\\inpr#1,#2{\\t \\hbox{\\langle #1 , #2 \\rangle} \\t}\n",
    "\\def\\ip<#1,#2>{\\langle #1,#2 \\rangle}\n",
    "\\def\\lp{\\ell^p}\n",
    "\\def\\maxb#1{\\max \\brack{#1}}\n",
    "\\def\\minb#1{\\min \\brack{#1}}\n",
    "\\def\\mod#1{\\left \\vert #1 \\right \\vert}\n",
    "\\def\\norm#1{\\left \\Vert #1 \\right \\Vert}\n",
    "\\def\\paren(#1){\\left( #1 \\right)}\n",
    "\\def\\qed{\\hfill \\hbox{$\\Box$} \\smallskip}\n",
    "\\def\\sbrack#1{\\Bigl \\{ #1 \\Bigr \\} }\n",
    "\\def\\ssbrack#1{ \\{ #1 \\} }\n",
    "\\def\\smod#1{\\Bigl \\vert #1 \\Bigr \\vert}\n",
    "\\def\\smmod#1{\\bigl \\vert #1 \\bigr \\vert}\n",
    "\\def\\ssmod#1{\\vert #1 \\vert}\n",
    "\\def\\sspmod#1{\\vert\\, #1 \\, \\vert}\n",
    "\\def\\snorm#1{\\Bigl \\Vert #1 \\Bigr \\Vert}\n",
    "\\def\\ssnorm#1{\\Vert #1 \\Vert}\n",
    "\\def\\sparen(#1){\\Bigl ( #1 \\Bigr )}\n",
    "%\n",
    "%%%%%%%%%%%%%%%%%%%%%%%%%%%%%%%\n",
    "%\n",
    "% These environments allow you to get nice numbered headings\n",
    "%  for your Theorems, Definitions etc.  \n",
    "%\n",
    "%  Environments\n",
    "%\n",
    "%%%%%%%%%%%%%%%%%%%%%%%%%%%%%%%\n",
    "%\n",
    "%\\newtheorem{theorem}{Theorem}[section]\n",
    "%\\newtheorem{lemma}[theorem]{Lemma}\n",
    "%\\newtheorem{proposition}[theorem]{Proposition}\n",
    "%\\newtheorem{corollary}[theorem]{Corollary}\n",
    "%\\newtheorem{conjecture}[theorem]{Conjecture}\n",
    "%\\newtheorem{definition}[theorem]{Definition}\n",
    "%\\newtheorem{example}[theorem]{Example}\n",
    "%\\newtheorem{remark}[theorem]{Remark}\n",
    "%\\newtheorem{question}[theorem]{Question}\n",
    "%\\newtheorem{notation}[theorem]{Notation}\n",
    "%\\numberwithin{equation}{section}\n",
    "%\n",
    "%%%%%%%%%%%%%%%%%%%%%%%%%%%%%%%%%%%%%%%%%%%%%%%%%%%%%%%%%%%%%%%%%%\n",
    "%\n",
    "%  If you've got some funny special words that LaTeX might not\n",
    "% hyphenate properly, you can give it a helping hand:\n",
    "%\n",
    "%\n",
    "%\\hyphenation{Mar-cin-kie-wicz Rade-macher}\n",
    "%\n",
    "%%%%%%%%%%%%%%%%%%%%%%%%%%%%%%%%%%%%%%%%%%%%%%%%%%%%%%%%%%%%%%%%%%\n",
    "%\n",
    "% Commands for easier typing\n",
    "%\n",
    "\\newcommand{\\code}[1]{\\texttt{#1}}\n",
    "\\newcommand{\\tit}[1]{\\textit{#1}}\n",
    "\\newcommand{\\tbf}[1]{\\textbf{#1}}\n",
    "\\newcommand{\\mbf}[1]{\\mathbf{#1}}\n",
    "\\newcommand{\\mbb}[1]{\\mathbb{#1}}\n",
    "\\newcommand{\\bs}[1]{\\boldsymbol{#1}}\n",
    "\\newcommand{\\bigo}[1]{\\mathcal{O}\\left(#1\\right)}\n",
    "%\n",
    "\\renewcommand{\\thefootnote}{\\fnsymbol{footnote}}\n",
    "%\n",
    "%%%%%%%%%%%%%%%%%%%%%%%%%%%%%%%%%%%%%%%%%%%%%%%%%%%%%%%%%%%%%%%%%%\n",
    "%\n",
    "% Other cnetralised settings for easy access\n",
    "%\n",
    "%\n",
    "%\\graphicspath{ {./images/} }\n",
    "%\\DeclareGraphicsExtensions{.pdf,.png,.jpg}\n",
    "\\DeclareMathOperator*{\\argmin}{argmin}\n",
    "\\DeclareMathOperator*{\\argmax}{argmax}\n",
    "%%%%%%%%%%%%%%%%%%%%%%%%%%%%%%%%%%%%%%%%%%%%%%%%%%%%%%%%%%%%%%%%%%\n",
    "%\n",
    "% New commands\n",
    "%\n",
    "\\newcommand{\\norm}[1]{\\left\\lVert#1\\right\\rVert}\n",
    "\\newcommand{\\phdot}{\\mathrel{\\,\\cdot\\,}}\n",
    "$$"
   ]
  },
  {
   "cell_type": "markdown",
   "metadata": {},
   "source": [
    "# Chapter 2 - The Vector"
   ]
  },
  {
   "cell_type": "markdown",
   "metadata": {},
   "source": [
    "We saw in Chapter 1 that the field of complex numbers makes it simple to describe transformations on points in the plane, such as translations, rotations, and scalings.\n",
    "\n",
    "Josiah Willard Gibbs developed _vector analysis_ as an alternative to quaternions (by Sir William Rowan Hamilton)."
   ]
  },
  {
   "cell_type": "markdown",
   "metadata": {},
   "source": [
    "## 2.1 What is a vector?"
   ]
  },
  {
   "cell_type": "markdown",
   "metadata": {},
   "source": [
    "The word _vector_ comes from the Latin for \"carrier\". The term comes from a vector's propensity to move something from one location to another.\n",
    "\n",
    "In some traditional math courses on linear algebra, we are taught to think of a vector as a _list of numbers_:\n",
    "$$\n",
    "[3.14159, 2.718281828, -1.0, 2.0]\n",
    "$$\n",
    "\n",
    "We need to know this way of writing a vector because it is commonly used. Indeed, we will sometimes represent vectors using Python's _lists_.\n",
    "\n",
    "**Definition 2.1.1:** A vector with four entires, each of which is a real number, is called a _4-vector over_ $\\R$.\n",
    "\n",
    "The entries of a vector must all be drawn from a single field. Three examples of fields are $\\R$, $\\C$ and _GF_(2). We can therefore have vectors over each of these fields.\n",
    "\n",
    "**Definition 2.1.2:** For a field $\\F$ and a positive integer $n$, a vector with $n$ entries, each belonging to $\\F$, is called a _n-vector over_ $\\F$. The set of $n$-vectors over $\\F$ is denoted $\\F^n$.\n",
    "\n",
    "For example, the set of 4-vectors over $\\R$ is written $\\R^4$.\n",
    "\n",
    "The above definition reminds us of the notation $\\F^D$ for the set of _functions_ from $D$ to $\\F$. Indeed, the author suggests us interpret $\\F^d$ as shorthand for $\\F^{\\{0, 1, 2, 3, \\dots, d - 1\\}}$. According to this interpretation, $\\F^d$ is the set of functions from $\\{0, 1, 2, \\dots, d - 1\\}$ to $\\F$.\n",
    "\n",
    "For example, the 4-vector $[3.14159, 2.718281828, -1.0, 2.0]$ is in fact the function\n",
    "$$\n",
    "\\begin{align}\n",
    "0 & \\mapsto 3.14159\\\\\n",
    "1 & \\mapsto 2.718281828\\\\\n",
    "2 & \\mapsto -1.0\\\\\n",
    "3 & \\mapsto 2.0\n",
    "\\end{align}\n",
    "$$"
   ]
  },
  {
   "cell_type": "markdown",
   "metadata": {},
   "source": [
    "## 2.2 Vectors are functions"
   ]
  },
  {
   "cell_type": "markdown",
   "metadata": {},
   "source": [
    "Once we embrace this interpretation - once we accept that vectors are functions - a world of new applications opens to us.\n",
    "\n",
    "**Example 2.2.1: Documents as vectors:** _WORDS-vector over_ $\\R$.\n",
    "\n",
    "**Definition 2.2.2:** For a finite set $D$ and a field $\\F$, a _$D$-vector over_ $\\F$ is a __function__ from $D$ to $\\F$.\n",
    "\n",
    "This is a computer scientist's definition; it lends itself to representation in a data structure. It differs in two important ways from a mathematician's definition.\n",
    "\n",
    "* The domain $D$ is required to be finite. This has important mathematical consequences: the author states theorems that would not be true if $D$ were allowed to be infinite. There are mathematical questions that are best modelled using functions with _infinite_ domains.\n",
    "* The traditional, abstract approach to linear algebra does not directly define vectors at all. Just as field is defined as a set of values with some operations $(+, -, *, /)$ that satisfy certain algebraic laws, a vector space is defined as a set with some operations that satisfy certain algebraic laws; then vectors are the elements in the set. This approach is more general but more abstract, hence harder for someone to grasp.\n",
    "\n",
    "Returning to the more concrete approach, according to the notation from Section 0.3.3, we use $\\F^D$ to denote the _set of functions_ with domain $D$ and co-domain $\\F$, i.e. the set of all _$D$-vectors over_ $\\F$.\n",
    "\n",
    "**Example 2.2.3:**\n",
    "\n",
    "(b) $GF(2)^{\\{0, 1, \\dots, n - 1\\}}$: The set of all $n$-vectors over $GF(2)$"
   ]
  },
  {
   "cell_type": "markdown",
   "metadata": {
    "collapsed": true
   },
   "source": [
    "### 2.2.1 Representation of vectors using Python dictionaries"
   ]
  },
  {
   "cell_type": "markdown",
   "metadata": {},
   "source": [
    "We will sometimes use Python's lists to represent vectors. However, the author has decreed that a vector is a _function with **finite** domain_, and Python's dictionaries are a convenient representation of functions with finite domain. Therefore, the author uses dictionaries in representing vectors.\n",
    "\n",
    "Representing vectors using Python dictionaries in some cases can be profligate. Instead, the author adopts the convention of allowing the omission of key-value pairs whose values are zero. This is called a _sparse representation_."
   ]
  },
  {
   "cell_type": "markdown",
   "metadata": {},
   "source": [
    "### 2.2.2 Sparsity"
   ]
  },
  {
   "cell_type": "markdown",
   "metadata": {},
   "source": [
    "A vector most of whose values are zero is called a _sparse vector_. If no more than $k$ of the entries are nonzero, we say the vector is _k-sparse_. A $k$-sparse vector can be represented using space proportional to $k$. Therefore, for example, when we represent a corpus of documents by WORD-vectors, the storage required is proportional to the total number of words comprising all the documents.\n",
    "\n",
    "Vectors that represent data acquired via physical sensors (e.g. images or sound) are not likely to be sparse. In a future chapter, the author introduces a computational problem in which the goal, given a vector and a parameter $k$, is to find the \"closest\" $k$-sparse vector. After we have learned what it means for vectors to be close, it will be straightforward to solve this computational problem.\n",
    "\n",
    "A solution to this computational problem would seem to be the key to _compressing_ images and audio segments, i.e. representing them compactly so more can be stored in the same amount of computer memory. This is correct, but there is a hitch: unfortunately, the vectors representing images or sound are not even close to sparse vectors. In Section 5.2, the author indicates the way around this obstacle. In Chapter 10, he explores some compression schemes based on the idea.\n",
    "\n",
    "n Chapter 4, the author introduces matrices and their representation. Because matrices are often sparse, in order to save on storage and computational time he will again use a dictionary representation in which zero values need _not_ be represented.\n",
    "\n",
    "However, many matrices arising in real-world problems are not sparse in the obvious sense. In Chapter 11, the author investigates another form of sparsity for matrices, _low rank_. Low-rank matrices arise in analysing data to discover factors that explain the data. He considers a computational problem in which the goal, given a matrix and a parameter $k$, is to find the closest matrix whose rank is at most $k$. We show that linear algebra provides a solution for this computational problem. It is at the heart of a widely used method called _principal component analysis_, and we will explore some of its applications."
   ]
  },
  {
   "cell_type": "markdown",
   "metadata": {
    "collapsed": true
   },
   "source": [
    "## 2.3 What can we represent with vectors?"
   ]
  },
  {
   "cell_type": "markdown",
   "metadata": {},
   "source": [
    "**Binary string**\n",
    "\n",
    "**Attributes**\n",
    "\n",
    "**State of a system**\n",
    "\n",
    "**Probability distribution** Since a finite probability distribution is a function from a _finite domain_ to the real numbers, e.g.\n",
    "\n",
    "`{1:1/6, 2:1/6, 3:1/6, 4:1/6, 5:1/6, 6:1/6}`,\n",
    "\n",
    "it can be considered a vector. We will see in Chapter 12 that linear algebra provides a way to analyse a random process that evolves over time according to simple probabilistic rules. One such random process underlies the original definition of PageRank, the method by which Google ranks pages.\n",
    "\n",
    "**Image** A black-and-white 1024 x 768 image can be viewed as a function from the set of pairs $\\left\\{(i, j): 0 \\le i < 1024, 0 \\le j < 768\\right\\}$ to the real numbers, and hence as a vector. The pixel-coordinate pair $(i, j)$ maps to a number, called the intensity of pixel $(i, j)$. We will study several applications of representing images by vectors, e.g. subsampling, blurring, searching for a specified subimage, and face detection.\n",
    "\n"
   ]
  },
  {
   "cell_type": "markdown",
   "metadata": {},
   "source": [
    "## 2.4 Vector addition"
   ]
  },
  {
   "cell_type": "markdown",
   "metadata": {},
   "source": [
    "We have seen examples of what vectors can represent. Now we study the operations performed with vectors. We have seen that vectors are useful for representing geometric points. The concept of a vector originated in _geometry_, and it is in the context of _geometry_ that the basic vector operations are most easily motivated. We start with _vector addition_."
   ]
  },
  {
   "cell_type": "markdown",
   "metadata": {},
   "source": [
    "### 2.4.1 Translation and vector addition"
   ]
  },
  {
   "cell_type": "markdown",
   "metadata": {
    "collapsed": true
   },
   "source": [
    "We saw in Chapter 1 that _translation_ was achieved in the complex plane by a function $f(z) = z_0 + z$ that adds a complex number $z_0$ to its input complex number; here we similarly achieve translation by a function $f(\\bs v) = \\bs v_0 + \\bs v$ that adds a vector to its input vector.\n",
    "\n",
    "**Definition 2.4.1:** Addition of $n$-vectors is defined in terms of addition of corresponding entries.\n",
    "\n",
    "**Question:** What is the best way to code this operation overloading in Python?\n",
    "\n",
    "Since a vector such as $[1, 2]$ corresponds to a translation, we can think of the vector as \"carrying\" something from one point to another. This is the sense in which a vector is a carrier."
   ]
  },
  {
   "cell_type": "markdown",
   "metadata": {},
   "source": [
    "**Task 2.4.3:**"
   ]
  },
  {
   "cell_type": "code",
   "execution_count": 12,
   "metadata": {
    "collapsed": false
   },
   "outputs": [],
   "source": [
    "def add2(v, w): return([v[0] + w[0], v[1] + w[1]])"
   ]
  },
  {
   "cell_type": "code",
   "execution_count": 13,
   "metadata": {
    "collapsed": true
   },
   "outputs": [],
   "source": [
    "L = [[2, 2], [3, 2], [1.75, 1], [2, 1], [2.25, 1], [2.5, 1], [2.75, 1], [3, 1], [3.25, 1]]"
   ]
  },
  {
   "cell_type": "code",
   "execution_count": 14,
   "metadata": {
    "collapsed": true
   },
   "outputs": [],
   "source": [
    "from plotting import plot"
   ]
  },
  {
   "cell_type": "code",
   "execution_count": 17,
   "metadata": {
    "collapsed": false
   },
   "outputs": [],
   "source": [
    "plot(L, 4)"
   ]
  },
  {
   "cell_type": "code",
   "execution_count": 15,
   "metadata": {
    "collapsed": false
   },
   "outputs": [],
   "source": [
    "plot([add2(v, [1,2]) for v in L], 4)"
   ]
  },
  {
   "cell_type": "markdown",
   "metadata": {},
   "source": [
    "**Quiz 2.4.4:**"
   ]
  },
  {
   "cell_type": "code",
   "execution_count": 4,
   "metadata": {
    "collapsed": true
   },
   "outputs": [],
   "source": [
    "def addn(v, w): return([v[i] + w[i] for i in range(len(v))])"
   ]
  },
  {
   "cell_type": "code",
   "execution_count": 5,
   "metadata": {
    "collapsed": true
   },
   "outputs": [],
   "source": [
    "def addn(v, w): return([x + y for (x, y) in zip(v, w)])"
   ]
  },
  {
   "cell_type": "code",
   "execution_count": 6,
   "metadata": {
    "collapsed": true
   },
   "outputs": [],
   "source": [
    "def multiplyn(v, w): return([x * y for (x, y) in zip(v, w)])"
   ]
  },
  {
   "cell_type": "code",
   "execution_count": 7,
   "metadata": {
    "collapsed": true
   },
   "outputs": [],
   "source": [
    "L1 = [1, 2, 3]\n",
    "L2 = [-1, -2, -3]"
   ]
  },
  {
   "cell_type": "code",
   "execution_count": 8,
   "metadata": {
    "collapsed": false
   },
   "outputs": [
    {
     "data": {
      "text/plain": [
       "[0, 0, 0]"
      ]
     },
     "execution_count": 8,
     "metadata": {},
     "output_type": "execute_result"
    }
   ],
   "source": [
    "addn(L1, L2)"
   ]
  },
  {
   "cell_type": "code",
   "execution_count": 9,
   "metadata": {
    "collapsed": false
   },
   "outputs": [
    {
     "data": {
      "text/plain": [
       "[-1, -4, -9]"
      ]
     },
     "execution_count": 9,
     "metadata": {},
     "output_type": "execute_result"
    }
   ],
   "source": [
    "multiplyn(L1, L2)"
   ]
  },
  {
   "cell_type": "markdown",
   "metadata": {},
   "source": [
    "Every field $\\F$ has a zero element, so the set $\\F^D$ of $D$-vectors over $\\F$ necessarily has a _zero vector_, whose entries all have value zero. This _zero vector_ is denoted by $\\bs 0_D$ or merely by $\\bs 0$ if it is unnecessary to specify $D$.\n",
    "\n",
    "The function $f(\\bs v) = \\bs v + \\bs 0$ is a translation that leaves its input _unchanged_."
   ]
  },
  {
   "cell_type": "markdown",
   "metadata": {},
   "source": [
    "### 2.4.2 Vector addition is associative and commutative"
   ]
  },
  {
   "cell_type": "markdown",
   "metadata": {},
   "source": [
    "Since vector addition is defined in terms of associative and commutative operation, it too is associative and commutative."
   ]
  },
  {
   "cell_type": "markdown",
   "metadata": {},
   "source": [
    "### 2.4.3 Vectors as arrows"
   ]
  },
  {
   "cell_type": "markdown",
   "metadata": {
    "collapsed": true
   },
   "source": [
    "Like complex numbers in the plane, $n$-vector over $\\R$ can be visualised as arrows in $\\R^n$.\n",
    "\n",
    "Vector addition can be interpreted as composition of translations."
   ]
  },
  {
   "cell_type": "markdown",
   "metadata": {},
   "source": [
    "## 2.5 Scalar-vector multiplication"
   ]
  },
  {
   "cell_type": "markdown",
   "metadata": {},
   "source": [
    "We saw in Chapter 1 that _scaling_ could be represented in the complex plane by a function $f(z) = rz$ that multiplies its complex-number input by a positive real number $r$, and that multiplying by a negative number achieves a simultaneous scaling and rotation by 180 degrees. The analogous operation for vectors is called _scalar-vector multiplication_. In the context of vectors, a _field element_ (e.g. a number) is called a _scalar_ because it can be used to _scale_ a vector via multiplication. In this book, the author typically uses Greek letters (e.g. $\\alpha, \\beta, \\gamma$) to denote scalars."
   ]
  },
  {
   "cell_type": "markdown",
   "metadata": {},
   "source": [
    "**Quiz 2.5.3:**"
   ]
  },
  {
   "cell_type": "code",
   "execution_count": 4,
   "metadata": {
    "collapsed": false
   },
   "outputs": [],
   "source": [
    "def scalar_vector_mult(alpha, v): return [alpha * x for x in v]"
   ]
  },
  {
   "cell_type": "code",
   "execution_count": 9,
   "metadata": {
    "collapsed": true
   },
   "outputs": [],
   "source": [
    "def scalar_vector_mult(alpha, v): return [alpha * v[i] for i in range(len(v))]"
   ]
  },
  {
   "cell_type": "markdown",
   "metadata": {},
   "source": [
    "**Task 2.5.4:**"
   ]
  },
  {
   "cell_type": "code",
   "execution_count": 3,
   "metadata": {
    "collapsed": true
   },
   "outputs": [],
   "source": [
    "from plotting import plot\n",
    "\n",
    "L = [[2, 2], [3, 2], [1.75, 1], [2, 1], [2.25, 1], [2.5, 1], [2.75, 1], [3, 1], [3.25, 1]]"
   ]
  },
  {
   "cell_type": "code",
   "execution_count": 8,
   "metadata": {
    "collapsed": false
   },
   "outputs": [],
   "source": [
    "plot([scalar_vector_mult(0.5, x) for x in L], 2)"
   ]
  },
  {
   "cell_type": "code",
   "execution_count": 9,
   "metadata": {
    "collapsed": true
   },
   "outputs": [],
   "source": [
    "plot([scalar_vector_mult(-0.5, x) for x in L], 2)"
   ]
  },
  {
   "cell_type": "markdown",
   "metadata": {
    "collapsed": true
   },
   "source": [
    "### 2.5.1 Scaling arrows"
   ]
  },
  {
   "cell_type": "markdown",
   "metadata": {},
   "source": [
    "Scaling a vector over $\\R$ by a positive real number changes the length of the corresponding arrow without changing its direction.\n",
    "\n",
    "The vector `[3, 1.5]` corresponds to the translation $f(\\bs v) = [3, 1.5] + \\bs v$, and two times this vector (`[6, 3]`) corresponds to a translation in the same direction but twice as far.\n",
    "\n",
    "3]) corresponds to a translation in the same direction but twice as far. Multiplying a vector by a negative number negates all the entries. As we have seen in connection with complex numbers, this reverses the direction of the corresponding arrow."
   ]
  },
  {
   "cell_type": "markdown",
   "metadata": {},
   "source": [
    "### 2.5.2 Associativity of scalar-vector multiplication"
   ]
  },
  {
   "cell_type": "markdown",
   "metadata": {},
   "source": [
    "The associativity stems from the field's associative law."
   ]
  },
  {
   "cell_type": "markdown",
   "metadata": {},
   "source": [
    "### 2.5.3 Line segments through the origin"
   ]
  },
  {
   "cell_type": "code",
   "execution_count": 6,
   "metadata": {
    "collapsed": true
   },
   "outputs": [],
   "source": [
    "from plotting import plot"
   ]
  },
  {
   "cell_type": "code",
   "execution_count": 15,
   "metadata": {
    "collapsed": false
   },
   "outputs": [],
   "source": [
    "v = [3, 2]\n",
    "plot([scalar_vector_mult(i/10, v) for i in range(11)], 5)"
   ]
  },
  {
   "cell_type": "markdown",
   "metadata": {},
   "source": [
    "The plot seems to be tracing out the line segment from the origin to the point `(3, 2)`. The set of points\n",
    "\n",
    "$$\n",
    "\\{\\alpha \\bs v: \\alpha\\in\\R,\\, 0\\le \\alpha\\le 1\\}\n",
    "$$\n",
    "\n",
    "\n",
    "forms the line segment between the origin and $\\bs v$. We can visualise this by plotting not all such points (even Python lacks the power to process an uncountably infinite set of points) but a sufficiently dense sample, say a hundred points:"
   ]
  },
  {
   "cell_type": "code",
   "execution_count": 14,
   "metadata": {
    "collapsed": true
   },
   "outputs": [],
   "source": [
    "plot([scalar_vector_mult(i/100, v) for i in range(101)], 5)"
   ]
  },
  {
   "cell_type": "markdown",
   "metadata": {},
   "source": [
    "### 2.5.4 Lines through the origin"
   ]
  },
  {
   "cell_type": "markdown",
   "metadata": {},
   "source": [
    "As long as we have permitted an infinite set of scales, let's go all out. What shape do we obtain when $\\alpha$ ranges over all real numbers? The scalars bigger than 1 give rise to somewhat larger copies of $\\bs v$. The negative scalars give rise to vectors pointing in the opposite direction. Putting these together, we see that the points of\n",
    "$$\n",
    "\\{\\alpha\\bs v:\\,\\alpha\\in\\R\\}\n",
    "$$\n",
    "forms the (infinite) _line through the **origin**_ and through $\\bs v$.\n",
    "\n",
    "**Review question:** Express the line segment between the origin and another point $\\bs v$ through the origin (two end points given) as a set of scalar multiples of a single vector. \n",
    "$$\n",
    "\\left\\{\\alpha\\bs v:\\,\\alpha\\in\\R, 0\\le\\alpha\\le 1\\right\\}\n",
    "$$\n",
    "\n",
    "**Review question:** Express a line through origin as the set of scalar multiples of a single vector $\\bs v$.\n",
    "$$\n",
    "\\left\\{\\alpha\\bs v:\\,\\alpha\\in\\R\\right\\}\n",
    "$$"
   ]
  },
  {
   "cell_type": "markdown",
   "metadata": {
    "collapsed": true
   },
   "source": [
    "## 2.6 Combining vector addition and scalar multiplication"
   ]
  },
  {
   "cell_type": "markdown",
   "metadata": {},
   "source": [
    "### 2.6.1 Line segments and lines that don't go through the origin"
   ]
  },
  {
   "cell_type": "markdown",
   "metadata": {},
   "source": [
    "Great - we can describe the set of points forming a line or line segment through the _origin_. We already know that the points forming the segment from $(0, 0)$ to $(3, 2)$ are $\\left\\{\\alpha(3, 2):\\,\\alpha\\in\\R, 0\\le\\alpha\\le 1\\right\\}$. Accordingly, we can plot the line segment using the following statements:"
   ]
  },
  {
   "cell_type": "code",
   "execution_count": 6,
   "metadata": {
    "collapsed": false
   },
   "outputs": [],
   "source": [
    "from plotting import plot"
   ]
  },
  {
   "cell_type": "code",
   "execution_count": 7,
   "metadata": {
    "collapsed": true
   },
   "outputs": [],
   "source": [
    "plot([addn(scalar_vector_mult(i/100, [3, 2]), [0.5, 1]) for i in range(101)], 4)"
   ]
  },
  {
   "cell_type": "markdown",
   "metadata": {},
   "source": [
    "We can similarly represent the _entire_ line through two given points."
   ]
  },
  {
   "cell_type": "markdown",
   "metadata": {},
   "source": [
    "**Exercise 2.6.1:** Given points $\\bs u = (2, 3)$ and $\\bs v = (5, 7)$ in $\\R^2$"
   ]
  },
  {
   "cell_type": "markdown",
   "metadata": {},
   "source": [
    "$\\bs w = \\bs v - \\bs u = (5, 7) - (2, 3) = (3, 4)$ is the point such that the origin-to-$\\bs w$ line segment can be translated to yield the $\\bs u$-to-$\\bs v$ line segment. Further, the translation vector applied to both end points is $\\bs u = (2, 3)$ itself."
   ]
  },
  {
   "cell_type": "markdown",
   "metadata": {},
   "source": [
    "**Exercise 2.6.2:** Given a pair of points, $\\bs u = (1, 4)$ and $\\bs v = (6, 3)$ in $\\R^2$, write a mathematical\n",
    "expressing giving the set of points making up the line segment between the points."
   ]
  },
  {
   "cell_type": "markdown",
   "metadata": {},
   "source": [
    "$$\n",
    "\\left\\{\\bs u + \\alpha(\\bs v - \\bs u):\\,0\\le\\alpha\\le 1\\right\\} = \\left\\{(1, 4) + \\alpha(5, -1):\\,0\\le\\alpha\\le 1\\right\\}\n",
    "$$"
   ]
  },
  {
   "cell_type": "markdown",
   "metadata": {
    "collapsed": true
   },
   "source": [
    "### 2.6.2 Distributive laws for scalar-vector multiplication vector addition"
   ]
  },
  {
   "cell_type": "markdown",
   "metadata": {},
   "source": [
    "To get a better understanding of this formulation of line segments and lines, we make use of two properties that arise in combining scalar-vector multiplication and vector addition. Both arise from the distributive law for fields, $x(y + z) = xy + xz$.\n",
    "\n",
    "**Proposition 2.6.3 (Scalar-vector multiplication distributes over vector addition):**\n",
    "$$\n",
    "\\alpha(\\bs u + \\bs v) = \\alpha\\bs u + \\alpha\\bs v\n",
    "$$\n",
    "\n",
    "**Proposition 2.6.5 (scalar-vector multiplication distributes over scalar addition):**\n",
    "$$\n",
    "(\\alpha + \\beta)\\bs u = \\alpha\\bs u + \\beta\\bs u\n",
    "$$"
   ]
  },
  {
   "cell_type": "markdown",
   "metadata": {},
   "source": [
    "### 2.6.3 First look at convex combinations"
   ]
  },
  {
   "cell_type": "markdown",
   "metadata": {},
   "source": [
    "It might seem odd that the form of the expression for the set of points making up a line segment $\\left\\{\\alpha(3, 2) + (0.5, 1):\\,\\alpha\\in\\R, 0\\le\\alpha\\le 1\\right\\}$, mentions one endpoint but not the other. This asymmetry is infelicitous. Using a bit of vector algebra, we can obtain a nicer expression:\n",
    "$$\n",
    "\\begin{align}\n",
    "\\alpha (3, 2) + (0.5, 1) & = \\alpha ((3.5, 3) - (0.5, 1)) + (0.5, 1)\\\\\n",
    " & = \\alpha (3.5, 3) + (1 - \\alpha)(0.5, 1)\\\\\n",
    " & = \\alpha (3.5, 3) + \\beta (0.5, 1)\n",
    "\\end{align}\n",
    "$$\n",
    "where $\\beta = 1 - \\alpha$. Now we can write an expression for the `(0.5,1)`-to-`(3.5,3)` segment\n",
    "$$\n",
    "\\left\\{\\alpha(3.5, 3) + \\beta(0.5, 1):\\,\\alpha, \\beta \\in \\R,\\, \\alpha, \\beta \\ge 0,\\,\\alpha + \\beta = 1\\right\\}\n",
    "$$\n",
    "that is _symmetric_ in two endpoints.\n",
    "\n",
    "An expression of the form $\\alpha\\bs u + \\beta\\bs v$ where $\\alpha + \\beta = 1$ is called a _convex combination_ of $\\bs u$ and $\\bs v$.\n",
    "\n",
    "**Proposition 2.6.7:** The $\\bs u$-to-$\\bs v$ line segment consists of the set of convex combinations of $\\bs u$ and $\\bs v$.\n",
    "\n",
    "**Task 2.6.9:**"
   ]
  },
  {
   "cell_type": "code",
   "execution_count": 8,
   "metadata": {
    "collapsed": true
   },
   "outputs": [],
   "source": [
    "def addn(v, w): return [x + y for (x, y) in zip(v, w)]"
   ]
  },
  {
   "cell_type": "code",
   "execution_count": 9,
   "metadata": {
    "collapsed": true
   },
   "outputs": [],
   "source": [
    "def minusn(v, w): return [x - y for (x, y) in zip(v, w)]"
   ]
  },
  {
   "cell_type": "code",
   "execution_count": 10,
   "metadata": {
    "collapsed": true
   },
   "outputs": [],
   "source": [
    "def scalar_vector_mult(alpha, v): return [alpha * v[i] for i in v]"
   ]
  },
  {
   "cell_type": "code",
   "execution_count": 12,
   "metadata": {
    "collapsed": true
   },
   "outputs": [],
   "source": [
    "# NOT working: there must be a better way!\n",
    "def segment(pt1, pt2, steps = 100):\n",
    "    return [addn(pt1, step) for step in range(pt1, pt2 + (pt2 - pt1)/steps, (pt2 - pt1)/steps)]"
   ]
  },
  {
   "cell_type": "code",
   "execution_count": 5,
   "metadata": {
    "collapsed": true
   },
   "outputs": [],
   "source": [
    "def segment(pt1, pt2):\n",
    "    steps = 100\n",
    "    pt1s, pt2s = [pt1[0] + i/steps * (pt2[0] - pt1[0]) for i in range(steps + 1)], [pt1[1] + i/steps * (pt2[1] - pt1[1]) for i in range(steps + 1)]\n",
    "    \n",
    "    return(list(zip(pt1s, pt2s)))"
   ]
  },
  {
   "cell_type": "code",
   "execution_count": 7,
   "metadata": {
    "collapsed": false
   },
   "outputs": [
    {
     "data": {
      "text/plain": [
       "[(3.5, 3.0),\n",
       " (3.47, 2.98),\n",
       " (3.44, 2.96),\n",
       " (3.41, 2.94),\n",
       " (3.38, 2.92),\n",
       " (3.35, 2.9),\n",
       " (3.32, 2.88),\n",
       " (3.29, 2.86),\n",
       " (3.26, 2.84),\n",
       " (3.23, 2.82),\n",
       " (3.2, 2.8),\n",
       " (3.17, 2.78),\n",
       " (3.14, 2.76),\n",
       " (3.11, 2.74),\n",
       " (3.08, 2.7199999999999998),\n",
       " (3.05, 2.7),\n",
       " (3.02, 2.68),\n",
       " (2.99, 2.66),\n",
       " (2.96, 2.64),\n",
       " (2.9299999999999997, 2.62),\n",
       " (2.9, 2.6),\n",
       " (2.87, 2.58),\n",
       " (2.84, 2.56),\n",
       " (2.81, 2.54),\n",
       " (2.7800000000000002, 2.52),\n",
       " (2.75, 2.5),\n",
       " (2.7199999999999998, 2.48),\n",
       " (2.69, 2.46),\n",
       " (2.66, 2.44),\n",
       " (2.63, 2.42),\n",
       " (2.6, 2.4),\n",
       " (2.5700000000000003, 2.38),\n",
       " (2.54, 2.36),\n",
       " (2.51, 2.34),\n",
       " (2.48, 2.32),\n",
       " (2.45, 2.3),\n",
       " (2.42, 2.2800000000000002),\n",
       " (2.39, 2.26),\n",
       " (2.36, 2.24),\n",
       " (2.33, 2.2199999999999998),\n",
       " (2.3, 2.2),\n",
       " (2.27, 2.18),\n",
       " (2.24, 2.16),\n",
       " (2.21, 2.14),\n",
       " (2.1799999999999997, 2.12),\n",
       " (2.15, 2.1),\n",
       " (2.12, 2.08),\n",
       " (2.09, 2.06),\n",
       " (2.06, 2.04),\n",
       " (2.0300000000000002, 2.02),\n",
       " (2.0, 2.0),\n",
       " (1.97, 1.98),\n",
       " (1.94, 1.96),\n",
       " (1.91, 1.94),\n",
       " (1.88, 1.92),\n",
       " (1.8499999999999999, 1.9),\n",
       " (1.8199999999999998, 1.88),\n",
       " (1.79, 1.86),\n",
       " (1.7600000000000002, 1.84),\n",
       " (1.73, 1.82),\n",
       " (1.7000000000000002, 1.8),\n",
       " (1.67, 1.78),\n",
       " (1.6400000000000001, 1.76),\n",
       " (1.6099999999999999, 1.74),\n",
       " (1.58, 1.72),\n",
       " (1.5499999999999998, 1.7),\n",
       " (1.52, 1.68),\n",
       " (1.4899999999999998, 1.66),\n",
       " (1.46, 1.64),\n",
       " (1.4300000000000002, 1.62),\n",
       " (1.4000000000000004, 1.6),\n",
       " (1.37, 1.58),\n",
       " (1.3399999999999999, 1.56),\n",
       " (1.31, 1.54),\n",
       " (1.2800000000000002, 1.52),\n",
       " (1.25, 1.5),\n",
       " (1.2199999999999998, 1.48),\n",
       " (1.19, 1.46),\n",
       " (1.1600000000000001, 1.44),\n",
       " (1.13, 1.42),\n",
       " (1.0999999999999996, 1.4),\n",
       " (1.0699999999999998, 1.38),\n",
       " (1.04, 1.36),\n",
       " (1.0100000000000002, 1.34),\n",
       " (0.98, 1.32),\n",
       " (0.9500000000000002, 1.3),\n",
       " (0.9199999999999999, 1.28),\n",
       " (0.8900000000000001, 1.26),\n",
       " (0.8599999999999999, 1.24),\n",
       " (0.8300000000000001, 1.22),\n",
       " (0.7999999999999998, 1.2),\n",
       " (0.77, 1.18),\n",
       " (0.7399999999999998, 1.16),\n",
       " (0.71, 1.14),\n",
       " (0.6800000000000002, 1.12),\n",
       " (0.6500000000000004, 1.1),\n",
       " (0.6200000000000001, 1.08),\n",
       " (0.5899999999999999, 1.06),\n",
       " (0.56, 1.04),\n",
       " (0.5300000000000002, 1.02),\n",
       " (0.5, 1.0)]"
      ]
     },
     "execution_count": 7,
     "metadata": {},
     "output_type": "execute_result"
    }
   ],
   "source": [
    "pt1 = [3.5, 3]\n",
    "pt2 = [0.5, 1]\n",
    "\n",
    "segment(pt1, pt2)"
   ]
  },
  {
   "cell_type": "code",
   "execution_count": 13,
   "metadata": {
    "collapsed": true
   },
   "outputs": [],
   "source": [
    "from plotting import plot\n",
    "\n",
    "plot(segment(pt1, pt2), 4)"
   ]
  },
  {
   "cell_type": "markdown",
   "metadata": {},
   "source": [
    "**Example 2.6.10:** We consider convex combinations of a pair of vectors that represent images. By using images as frames in a video, we get the effect of a crossfade."
   ]
  },
  {
   "cell_type": "markdown",
   "metadata": {
    "collapsed": true
   },
   "source": [
    "### 2.6.4 First look at affine combinations"
   ]
  },
  {
   "cell_type": "markdown",
   "metadata": {},
   "source": [
    "What about the _infinite line_ through two points, e.g. $(0.5, 1)$ and $(3.5, 3)$? We already saw that this line consists of the points $\\left\\{(0.5, 1) + \\alpha(3, 2):\\:\\alpha\\in\\R\\right\\}$. Using a similar argument, we can rewrite this set as\n",
    "$$\n",
    "\\left\\{\\alpha(3.5, 3) + \\beta(0.5, 1):\\:\\alpha\\in\\R,\\,\\beta\\in\\R,\\,\\alpha + \\beta = 1\\right\\}\n",
    "$$\n",
    "An expression of the form $\\alpha\\bs u + \\beta\\bs v$ where $\\alpha + \\beta = 1$ is called an _affine_ combination of $\\bs u$ and $\\bs v$.\n",
    "\n",
    "**Hypothesis 2.6.11:** The _line through_ $\\bs u$ and $\\bs v$ consists of the set of _affine combinations_ of $\\bs u$ and $\\bs v$."
   ]
  },
  {
   "cell_type": "markdown",
   "metadata": {},
   "source": [
    "**Note:** The definitions of affine and convex combinations dictate that affine combinations are more general than their convex counterparts. Geometrically, line segments are part of the infinite line through the same set of points."
   ]
  },
  {
   "cell_type": "markdown",
   "metadata": {},
   "source": [
    "## 2.7 Dictionary-based representations of vectors"
   ]
  },
  {
   "cell_type": "markdown",
   "metadata": {},
   "source": [
    "The author has proposed in Section 2.2 that a vector is a _function_ from some domain $D$ to a field that can be represented using a Python dictionary. It is convenient to define a Python class `Vec` so that an instance has two fields (a.k.a. _instance variables_ or _attributes_):\n",
    "\n",
    "* `f`, the function, represented by a Python dictionary, and\n",
    "* `D`, the domain of the function, represented by a Python set.\n",
    "\n",
    "We also adopt the convention that entries with zero values may be _omitted_ from the dictionary `f`. This enables sparse vectors to be represented _compactly_.\n",
    "\n",
    "It might seem a bad idea to require that each instance of `Vec` keep track of the domain. Fortunately, Python allows many variables (or instance variables) to point to the same set in memory. Thus, if we are careful, we can ensure that all the vectors representing documents point to the same domain.\n",
    "\n",
    "The Python code required to define the class `Vec` is"
   ]
  },
  {
   "cell_type": "code",
   "execution_count": 1,
   "metadata": {
    "collapsed": true
   },
   "outputs": [],
   "source": [
    "class Vec:\n",
    "    def __init__(self, labels, function):\n",
    "        self.D = labels\n",
    "        self.f = function"
   ]
  },
  {
   "cell_type": "code",
   "execution_count": 2,
   "metadata": {
    "collapsed": true
   },
   "outputs": [],
   "source": [
    "# create an instance of Vec:\n",
    "v = Vec({'A', 'B', 'C'}, {'A': 1})"
   ]
  },
  {
   "cell_type": "code",
   "execution_count": 4,
   "metadata": {
    "collapsed": false
   },
   "outputs": [
    {
     "name": "stdout",
     "output_type": "stream",
     "text": [
      "1\n"
     ]
    }
   ],
   "source": [
    "# subsequently access the two fields\n",
    "for d in v.D:\n",
    "    if d in v.f:\n",
    "        print(v.f[d])"
   ]
  },
  {
   "cell_type": "markdown",
   "metadata": {},
   "source": [
    "**Quiz 2.7.1:**"
   ]
  },
  {
   "cell_type": "markdown",
   "metadata": {},
   "source": [
    "Exploiting the sparse-representation convention, we can write the procedure like this:"
   ]
  },
  {
   "cell_type": "code",
   "execution_count": 7,
   "metadata": {
    "collapsed": true
   },
   "outputs": [],
   "source": [
    "def zero_vec(D): return Vec(D, {})"
   ]
  },
  {
   "cell_type": "markdown",
   "metadata": {},
   "source": [
    "Without the convention, one could write:"
   ]
  },
  {
   "cell_type": "code",
   "execution_count": 8,
   "metadata": {
    "collapsed": true
   },
   "outputs": [],
   "source": [
    "def zero_vec(D): return(Vec(D, {d:0 for d in D}))"
   ]
  },
  {
   "cell_type": "markdown",
   "metadata": {},
   "source": [
    "The procedure `zero_vec(D)` is defined in the provided file `vecutil.py`."
   ]
  },
  {
   "cell_type": "code",
   "execution_count": null,
   "metadata": {
    "collapsed": true
   },
   "outputs": [],
   "source": []
  }
 ],
 "metadata": {
  "anaconda-cloud": {},
  "kernelspec": {
   "display_name": "Python 3",
   "language": "python",
   "name": "python3"
  },
  "language_info": {
   "codemirror_mode": {
    "name": "ipython",
    "version": 3
   },
   "file_extension": ".py",
   "mimetype": "text/x-python",
   "name": "python",
   "nbconvert_exporter": "python",
   "pygments_lexer": "ipython3",
   "version": "3.5.2+"
  }
 },
 "nbformat": 4,
 "nbformat_minor": 1
}
