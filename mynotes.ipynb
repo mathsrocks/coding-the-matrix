{
 "cells": [
  {
   "cell_type": "markdown",
   "metadata": {},
   "source": [
    "# Latex Header Section: Skip\n",
    "$$\n",
    "%%%%%%%%%%%%%%%%%%%%%%%%%%%%%%%%%%%%%%%%%%%%%%%%%%%%%%%%%%%%%%%%%\n",
    "%\n",
    "%  The following are some simple LaTeX macros to give some\n",
    "%  commonly used letters in funny fonts. You may need more or less of\n",
    "%  these\n",
    "%\n",
    "\\newcommand{\\R}{\\mathbb{R}}\n",
    "\\newcommand{\\Q}{\\mathbb{Q}}\n",
    "\\newcommand{\\C}{\\mathbb{C}}\n",
    "\\newcommand{\\N}{\\mathbb{N}}\n",
    "\\newcommand{\\F}{\\mathbb{F}}\n",
    "\\newcommand{\\PP}{\\mathbb{P}}\n",
    "\\newcommand{\\T}{\\mathbb{T}}\n",
    "\\newcommand{\\Z}{\\mathbb{Z}}\n",
    "\\newcommand{\\B}{\\mathfrak{B}}\n",
    "\\newcommand{\\BB}{\\mathcal{B}}\n",
    "\\newcommand{\\M}{\\mathfrak{M}}\n",
    "\\newcommand{\\X}{\\mathfrak{X}}\n",
    "\\newcommand{\\Y}{\\mathfrak{Y}}\n",
    "\\newcommand{\\CC}{\\mathcal{C}}\n",
    "\\newcommand{\\E}{\\mathbb{E}}\n",
    "\\newcommand{\\cP}{\\mathcal{P}}\n",
    "\\newcommand{\\cS}{\\mathcal{S}}\n",
    "\\newcommand{\\A}{\\mathcal{A}}\n",
    "\\newcommand{\\ZZ}{\\mathcal{Z}}\n",
    "\\newcommand{\\cN}{\\mathcal{N}}\n",
    "%%%%%%%%%%%%%%%%%%%%%%%%%%%%%%%%%%%%%%%%%%%%%%%%%%%%%%%%%%%%%%%%%%%%%\n",
    "%\n",
    "% The following are much more esoteric commands that I have left in\n",
    "% so that this file still processes. Use or delete as you see fit\n",
    "%\n",
    "\\newcommand{\\bv}[1]{\\mbox{BV($#1$)}}\n",
    "\\newcommand{\\comb}[2]{\\left(\\!\\!\\!\\begin{array}{c}#1\\\\#2\\end{array}\\!\\!\\!\\right)\n",
    "}\n",
    "\\newcommand{\\Lat}{{\\rm Lat}}\n",
    "\\newcommand{\\var}{\\mathop{\\rm var}}\n",
    "\\newcommand{\\Pt}{{\\mathcal P}}\n",
    "\\def\\tr(#1){{\\rm trace}(#1)}\n",
    "\\def\\Exp(#1){{\\mathbb E}(#1)}\n",
    "\\def\\Exps(#1){{\\mathbb E}\\sparen(#1)}\n",
    "\\newcommand{\\floor}[1]{\\left\\lfloor #1 \\right\\rfloor}\n",
    "\\newcommand{\\ceil}[1]{\\left\\lceil #1 \\right\\rceil}\n",
    "\\newcommand{\\hatt}[1]{\\widehat #1}\n",
    "\\newcommand{\\modeq}[3]{#1 \\equiv #2 \\,(\\text{mod}\\, #3)}\n",
    "\\newcommand{\\rmod}{\\,\\mathrm{mod}\\,}\n",
    "\\newcommand{\\p}{\\hphantom{+}}\n",
    "\\newcommand{\\vect}[1]{\\mbox{\\boldmath $ #1 $}}\n",
    "\\newcommand{\\reff}[2]{\\ref{#1}.\\ref{#2}}\n",
    "\\newcommand{\\psum}[2]{\\sum_{#1}^{#2}\\!\\!\\!'\\,\\,}\n",
    "\\newcommand{\\bin}[2]{\\left( \\begin{array}{@{}c@{}}\n",
    "\t\t\t\t#1 \\\\ #2\n",
    "\t\t\t\\end{array}\\right)}\n",
    "%\n",
    "%  Macros - some of these are in plain TeX (gasp!)\n",
    "%\n",
    "\\newcommand{\\be}{($\\beta$)}\n",
    "\\newcommand{\\eqp}{\\mathrel{{=}_p}}\n",
    "\\newcommand{\\ltp}{\\mathrel{{\\prec}_p}}\n",
    "\\newcommand{\\lep}{\\mathrel{{\\preceq}_p}}\n",
    "\\def\\brack#1{\\left \\{ #1 \\right \\}}\n",
    "\\def\\bul{$\\bullet$\\ }\n",
    "\\def\\cl{{\\rm cl}}\n",
    "\\let\\del=\\partial\n",
    "\\def\\enditem{\\par\\smallskip\\noindent}\n",
    "\\def\\implies{\\Rightarrow}\n",
    "\\def\\inpr#1,#2{\\t \\hbox{\\langle #1 , #2 \\rangle} \\t}\n",
    "\\def\\ip<#1,#2>{\\langle #1,#2 \\rangle}\n",
    "\\def\\lp{\\ell^p}\n",
    "\\def\\maxb#1{\\max \\brack{#1}}\n",
    "\\def\\minb#1{\\min \\brack{#1}}\n",
    "\\def\\mod#1{\\left \\vert #1 \\right \\vert}\n",
    "\\def\\norm#1{\\left \\Vert #1 \\right \\Vert}\n",
    "\\def\\paren(#1){\\left( #1 \\right)}\n",
    "\\def\\qed{\\hfill \\hbox{$\\Box$} \\smallskip}\n",
    "\\def\\sbrack#1{\\Bigl \\{ #1 \\Bigr \\} }\n",
    "\\def\\ssbrack#1{ \\{ #1 \\} }\n",
    "\\def\\smod#1{\\Bigl \\vert #1 \\Bigr \\vert}\n",
    "\\def\\smmod#1{\\bigl \\vert #1 \\bigr \\vert}\n",
    "\\def\\ssmod#1{\\vert #1 \\vert}\n",
    "\\def\\sspmod#1{\\vert\\, #1 \\, \\vert}\n",
    "\\def\\snorm#1{\\Bigl \\Vert #1 \\Bigr \\Vert}\n",
    "\\def\\ssnorm#1{\\Vert #1 \\Vert}\n",
    "\\def\\sparen(#1){\\Bigl ( #1 \\Bigr )}\n",
    "%\n",
    "%%%%%%%%%%%%%%%%%%%%%%%%%%%%%%%\n",
    "%\n",
    "% These environments allow you to get nice numbered headings\n",
    "%  for your Theorems, Definitions etc.  \n",
    "%\n",
    "%  Environments\n",
    "%\n",
    "%%%%%%%%%%%%%%%%%%%%%%%%%%%%%%%\n",
    "%\n",
    "%\\newtheorem{theorem}{Theorem}[section]\n",
    "%\\newtheorem{lemma}[theorem]{Lemma}\n",
    "%\\newtheorem{proposition}[theorem]{Proposition}\n",
    "%\\newtheorem{corollary}[theorem]{Corollary}\n",
    "%\\newtheorem{conjecture}[theorem]{Conjecture}\n",
    "%\\newtheorem{definition}[theorem]{Definition}\n",
    "%\\newtheorem{example}[theorem]{Example}\n",
    "%\\newtheorem{remark}[theorem]{Remark}\n",
    "%\\newtheorem{question}[theorem]{Question}\n",
    "%\\newtheorem{notation}[theorem]{Notation}\n",
    "%\\numberwithin{equation}{section}\n",
    "%\n",
    "%%%%%%%%%%%%%%%%%%%%%%%%%%%%%%%%%%%%%%%%%%%%%%%%%%%%%%%%%%%%%%%%%%\n",
    "%\n",
    "%  If you've got some funny special words that LaTeX might not\n",
    "% hyphenate properly, you can give it a helping hand:\n",
    "%\n",
    "%\n",
    "%\\hyphenation{Mar-cin-kie-wicz Rade-macher}\n",
    "%\n",
    "%%%%%%%%%%%%%%%%%%%%%%%%%%%%%%%%%%%%%%%%%%%%%%%%%%%%%%%%%%%%%%%%%%\n",
    "%\n",
    "% Commands for easier typing\n",
    "%\n",
    "\\newcommand{\\code}[1]{\\texttt{#1}}\n",
    "\\newcommand{\\tit}[1]{\\textit{#1}}\n",
    "\\newcommand{\\tbf}[1]{\\textbf{#1}}\n",
    "\\newcommand{\\mbf}[1]{\\mathbf{#1}}\n",
    "\\newcommand{\\mbb}[1]{\\mathbb{#1}}\n",
    "\\newcommand{\\bs}[1]{\\boldsymbol{#1}}\n",
    "\\newcommand{\\bigo}[1]{\\mathcal{O}\\left(#1\\right)}\n",
    "%\n",
    "\\renewcommand{\\thefootnote}{\\fnsymbol{footnote}}\n",
    "%\n",
    "%%%%%%%%%%%%%%%%%%%%%%%%%%%%%%%%%%%%%%%%%%%%%%%%%%%%%%%%%%%%%%%%%%\n",
    "%\n",
    "% Other cnetralised settings for easy access\n",
    "%\n",
    "%\n",
    "%\\graphicspath{ {./images/} }\n",
    "%\\DeclareGraphicsExtensions{.pdf,.png,.jpg}\n",
    "\\DeclareMathOperator*{\\argmin}{argmin}\n",
    "\\DeclareMathOperator*{\\argmax}{argmax}\n",
    "%%%%%%%%%%%%%%%%%%%%%%%%%%%%%%%%%%%%%%%%%%%%%%%%%%%%%%%%%%%%%%%%%%\n",
    "%\n",
    "% New commands\n",
    "%\n",
    "\\newcommand{\\norm}[1]{\\left\\lVert#1\\right\\rVert}\n",
    "\\newcommand{\\phdot}{\\mathrel{\\,\\cdot\\,}}\n",
    "$$"
   ]
  },
  {
   "cell_type": "markdown",
   "metadata": {},
   "source": [
    "# Chapter 0 - The Function (and other mathematical and computational preliminaries)"
   ]
  },
  {
   "cell_type": "markdown",
   "metadata": {},
   "source": [
    "The basic mathematical concepts that inform our study of vectors and matrices are sets,\n",
    "sequences (lists), functions, and probability theory.\n",
    "\n",
    "This chapter also includes an introduction to Python, the programming language we use to (i) model the mathematical objects of interest, (ii) write computational procedures, and (iii) carry out data analyses."
   ]
  },
  {
   "cell_type": "markdown",
   "metadata": {},
   "source": [
    "## 0.3 The function"
   ]
  },
  {
   "cell_type": "markdown",
   "metadata": {},
   "source": [
    "_Mathematicians never die - they just lose function._\n",
    "\n",
    "Loosely speaking, a function is a _rule_ that, for each element in some set $D$ of possible inputs, assigns a possible output:\n",
    "* The output is said to be the _image_ of the input under the function.\n",
    "* The input is a _pre-image_ of the output.\n",
    "* The set $D$ of possible imputs is called the _domain_ of the function.\n",
    "\n",
    "Formally, a _function_ is a (possibly infinite) set of pairs $(a, b)$, no two of which share the same first entry.\n",
    "\n",
    "For a function named $f$, the image of $q$ under $f$ is denoted by $f(q)$. If $r = f(q)$, we say that $q$ _maps to $r$ under_ $f$. The notation for \"$q$ maps to $r$\" is $q\\mapsto r$.\n",
    "\n",
    "It is convenient when specifying a function to specify a _co-domain_ for the function. The co-domain is a set from which the function's output values are chosen. Note that one has some leeway in choosing the co-domain since not all of its members need to be outputs.\n",
    "\n",
    "The notation\n",
    "$$\n",
    "f: D \\longrightarrow F\n",
    "$$\n",
    "means that $f$ is a function whose domain is the set $D$ and whose _co-domain_ (the set of possible outputs) is the set $F$. (More briefly: \"a function from $D$ to $F$\", or \"a function that maps $D$ to $F$.\")\n",
    "\n",
    "The _image_ of a function $f$ is the set of images of all domain elements. That is, the image of $f$ is the set of elements of the co-domain that actually occur as _outputs_.\n",
    "\n",
    "**Example 0.3.5:** Consider the function prod that takes as input a pair of integers greater than 1 and outputs their product. The domain (set of inputs) is the set of pairs of integers greater than 1. We choose to define the co-domain to be the set of all integers greater than 1. The\n",
    "image of the function, however, is the set of _composite_ integers since no domain element maps to a prime number."
   ]
  },
  {
   "cell_type": "markdown",
   "metadata": {
    "collapsed": true
   },
   "source": [
    "### 0.3.1 Functions versus procedures, versus computational problems"
   ]
  },
  {
   "cell_type": "markdown",
   "metadata": {},
   "source": [
    "### 0.3.2 The two computational problems related to a function\n",
    "To misquote _Spiderman_,\n",
    "\n",
    "_With great generality comes great computational difficulty._"
   ]
  },
  {
   "cell_type": "markdown",
   "metadata": {},
   "source": [
    "### 0.3.3 Notation for the set of functions with given domain and co-domain\n",
    "For sets $D$ and $F$, we use the notation $F^D$ to denote all functions from $D$ to $F$. For example, the set of functions from the set $W$ of words to the set $\\R$ of real numbers is denoted $\\R^W$.\n",
    "\n",
    "This notation derives from a mathematical \"pun\":\n",
    "\n",
    "**Fact 0.3.9:** For any _finite_ sets $D$ and $F$, $\\left|F^D\\right| = \\left|F\\right|^{|D|}$."
   ]
  },
  {
   "cell_type": "markdown",
   "metadata": {},
   "source": [
    "### 0.3.4 Identity function\n",
    "For any domain $D$, there is a function $id_D: D\\longrightarrow D$ called the _identity function_ for $D$, defined by\n",
    "$$\n",
    "\\text{id}_D(d) = d\n",
    "$$\n",
    "for every $d\\in D$."
   ]
  },
  {
   "cell_type": "markdown",
   "metadata": {},
   "source": [
    "### 0.3.5 Composition of functions\n",
    "The operation _functional composition_ combines two functions to get a new function. We will later define matrix multiplication in terms of functional composition. Given two functions $f: A\\longrightarrow B$ and $g: B\\longrightarrow C$, the _function_ $g\\circ f$, called the composition of $g$ and $f$, is a function whose domain is $A$ and its co-domain is $C$. It is defined by the rule\n",
    "$$\n",
    "(g\\circ f)(x) = g(f(x))\n",
    "$$\n",
    "for every $x\\in A$.\n",
    "\n",
    "If the image of $f$ is not contained in the domain of $g$ then $g\\circ f$ is not a legal expression."
   ]
  },
  {
   "cell_type": "markdown",
   "metadata": {},
   "source": [
    "### 0.3.6 Associativity of function composition\n",
    "**Proposition 0.3.12 (Associativity of composition):** For functions $f, g, h$,\n",
    "$$\n",
    "h\\circ (g\\circ f) = (h\\circ g)\\circ f\n",
    "$$\n",
    "if the compositions are legal. The proof repetitively makes use of the defintion $(g\\circ f)(x) = g(f(x)),\\:\\forall x\\in A$.\n",
    "\n",
    "Associativity means that parentheses are unnecessary in composition expression: since $h\\circ(g\\circ f)$ is the same as $(h\\circ g)\\circ f$, we can write either of them as simply $h\\circ g\\circ f$."
   ]
  },
  {
   "cell_type": "markdown",
   "metadata": {},
   "source": [
    "### 0.3.7 Functional inverse\n",
    "Functional inverses reverse the effect of each other, e.g. encryption and decryption functions. In general,\n",
    "\n",
    "**Definition 0.3.13:** We say that functions $f$ and $g$ are _functional inverses_ of each other if\n",
    "* $f\\circ g$ is defined and is the identity function on the domain of $g$, and\n",
    "* $g\\circ f$ is defined and is the identity function on the domain of $f$.\n",
    "\n",
    "Not every function has an inverse. A function that has an inverse is said to be _invertible_. Notice the concepts of **_one-to-one_** and **_onto_**\n",
    "are introduced here.\n",
    "\n",
    "**Definition 0.3.14:** Consider a function $f: D\\longmapsto F$:\n",
    "* $f$ is _one-to-one_ if $\\forall x, y\\in D,\\; f(x) = f(y) \\Rightarrow x = y$.\n",
    "* $f$ is _onto_ if $\\forall z\\in F,\\;\\exists x\\in D: f(x) = z$.\n",
    "\n",
    "Figure 2 & 3 are examples of functions that are not onto nor one-to-one respectively.\n",
    "\n",
    "**Example 0.3.15:** Consider the function `prod` defined in Example 0.3.4 (Page 4). Since a prime number has no pre-image, this function is not onto. Since there are multiple pairs of inters, e.g. $(2, 3)$ and $(3, 2)$, that map to the same integer, the function also is not one-to-one.\n",
    "\n",
    "**Lemma 0.3.16:** An invertible function is one-to-one.\n",
    "\n",
    "**Lemma 0.3.17:** An invertible function is onto.\n",
    "\n",
    "Both lemmas can be shown to hold via contradiction.\n",
    "\n",
    "**Theorem 0.3.18 (Function Invertibility Theorem):** A function is invertible _iff_ it is **one-to-one** and **onto**.\n",
    "\n",
    "**Proof**\n",
    "\n",
    "Lemma 0.3.16 and 0.3.17 show that an invertible function is one-to-one and onto. Our task here is to show the other direction also holds. Suppose conversely that $f$ is a function that is one-to-one and onto. The trick here is defining a function $g$ whose domain is the co-domain of $f$ as follows:\n",
    "\n",
    "For each element $\\tilde{y}$ of the co-domain of $f$, since $f$ is onto and one-to-one, $f$'s domain contains a unique element $\\tilde{x}$ such that $f(\\tilde x) = \\tilde y$; we define $g(\\tilde y) = \\tilde x$.\n",
    "\n",
    "Next we show that $g \\circ f$ and $f \\circ g$ are both the identity function on $f$ and $g$'s domain respectively:\n",
    "\n",
    "$g\\circ f(\\tilde x) = \\tilde x$ and $f\\circ g(\\tilde y) = \\tilde y$.\n",
    "\n",
    "**Lemma 0.3.19:** Every function has at most one functional inverse.\n",
    "\n",
    "**Proof**\n",
    "\n",
    "Let $f: U\\longmapsto V$ be any invertible function. Suppose that $g_1$ and $g_2$ are inverses of $f$. We show that $\\forall v\\in V: g_1(v) = g_2(v)$, i.e. $g_1$ and $g_2$ are the same function.\n",
    "\n",
    "Let $v\\in V$ be any element of the co-domain of $f$. Since f is onto and one-to-one, there is a unique element $u\\in U$ such that $f(u) = v$. By the definition of an inverse, $g_1(v) = u = g_2(v)$. Hence $g_1 = g_2$.\n",
    "\n",
    "This proof should follow naturally from Thorem 0.3.18 (Function Invertibility Theorem).\n",
    "\n",
    "Here comes the subtle questions: how to show two _functions_ are equal? Ultimately, we need to show that all of the (element, image) pairs are equal (most likely infinitely many)."
   ]
  },
  {
   "cell_type": "markdown",
   "metadata": {
    "collapsed": true
   },
   "source": [
    "### 0.3.8 Invertibility of the composition of invertible functions\n",
    "**Lemma 0.3.20:** If $f$ and $g$ are invertible functions and $f\\circ g$ exists then $f\\circ g$ is invertible and $(f\\circ g)^{-1} = g^{-1}\\circ f^{-1}$.\n",
    "\n",
    "**Problem 0.3.21:** Prove Lemma 0.3.20.\n",
    "\n",
    "Think of matrix inversion: $(AB)^{-1} = B^{-1}A^{-1}$.\n",
    "\n",
    "**Problem 0.3.22:** Use diagrams/words to specify functions $g$ and $f$ that are a counterexample to the following:\n",
    "\n",
    "**False Assertion 0.3.23:** Suppose that $f$ and $g$ are functions and $f \\circ g$ is invertible, then $f$ and $g$ are invertible.\n",
    "\n",
    "[Can the composition of two non-invertible functions be invertible?](http://math.stackexchange.com/questions/1169039/can-the-composition-of-two-non-invertible-functions-be-invertible)\n",
    "\n",
    "For $f\\circ g$ to be invertible, $f$ only needs to be invertible when restricted to the _range_ of $g$. $f$ may not be invertible on its whole domain. For example, take $f(x) = x^2$ and $g(x) = e^x$. It then follows that $(f \\circ g)(x) = e^{2x}$ is invertible but $f$ itself is not on its whole domain."
   ]
  },
  {
   "cell_type": "markdown",
   "metadata": {
    "collapsed": true
   },
   "source": [
    "## 0.4 Probability"
   ]
  },
  {
   "cell_type": "markdown",
   "metadata": {},
   "source": [
    "## 0.5 Lab: Introduction to Python - sets, lists, dictionaries and comprehensions"
   ]
  },
  {
   "cell_type": "markdown",
   "metadata": {},
   "source": [
    "\n",
    "We will be writing all our code in Python (Version 3.x). In writing Python code, we emphasise the use of _comprehensions_ that allow us to express computations over the elements of a set, list or dictionary without a traditional `for`-loop. Use of comprehensions leads to more compact and more readable code that more clearly expresses the mathematical ideas behind the computation."
   ]
  },
  {
   "cell_type": "markdown",
   "metadata": {},
   "source": [
    "### 0.5.1 Simple expressions"
   ]
  },
  {
   "cell_type": "markdown",
   "metadata": {},
   "source": [
    "**Arithmetic and numbers**\n",
    "\n",
    "* `-`: Taking the negative of a number, a _unary_ operator.\n",
    "* `**`: Exponentiation, a binary operator.\n",
    "* `//`: Truncating integer division.\n",
    "* `%`: Modulo (finding the remainder).\n",
    "\n",
    "As usual, `**` has _precedence_ over `*`, `/` and `//` which in turn have precedence over `+` and `-`, and parentheses can be used for grouping.\n",
    "\n",
    "**Strings**\n",
    "\n",
    "Below, Python is doing what it usually does: it _evaluates_ (finds the value of) the expression it is given and prints the value. The value of a string is just the string itself.\n",
    "\n",
    "**Comparisons and conditions and Booleans**"
   ]
  },
  {
   "cell_type": "code",
   "execution_count": 1,
   "metadata": {
    "collapsed": false
   },
   "outputs": [
    {
     "data": {
      "text/plain": [
       "\"So's this one.\""
      ]
     },
     "execution_count": 1,
     "metadata": {},
     "output_type": "execute_result"
    }
   ],
   "source": [
    "\"So's this one.\""
   ]
  },
  {
   "cell_type": "markdown",
   "metadata": {},
   "source": [
    "### 0.5.2 Assignment statements\n",
    "\n",
    "A variable name must start with a letter and must exclude certain special symbols such as the dot (period). The underscore `_` is allowed in a variable name. A variable can be bound to a value of _any_ type.\n",
    "\n",
    "It is important to remember (and second nature to most experienced programmers) that an assignment statement binds a variable to the _value_ of an expression, not to the expression itself. Python first _evaluates_ the RHS and only then assigns the resulting value to the LHS. This is the behaviour of most programming languages."
   ]
  },
  {
   "cell_type": "markdown",
   "metadata": {},
   "source": [
    "### 0.5.3 Conditional expressions\n",
    "\n",
    "There is a syntax for conditional expressions:\n",
    "\n",
    "`<expression> if <condition> else <expression>`\n",
    "\n",
    "Python evaluates the condition; depending on whether it is `True` or `False`, Python then evaluates either the first or second _expression_, and uses the result as the output of the entire conditional expression.\n",
    "\n",
    "\n",
    "For example, the following is the absolute value of `x`:"
   ]
  },
  {
   "cell_type": "code",
   "execution_count": 4,
   "metadata": {
    "collapsed": false
   },
   "outputs": [
    {
     "data": {
      "text/plain": [
       "5"
      ]
     },
     "execution_count": 4,
     "metadata": {},
     "output_type": "execute_result"
    }
   ],
   "source": [
    "x = -5\n",
    "\n",
    "x if x >= 0 else -x"
   ]
  },
  {
   "cell_type": "markdown",
   "metadata": {},
   "source": [
    "\n",
    "**Task 0.5.4**"
   ]
  },
  {
   "cell_type": "code",
   "execution_count": 5,
   "metadata": {
    "collapsed": false
   },
   "outputs": [
    {
     "data": {
      "text/plain": [
       "1.0"
      ]
     },
     "execution_count": 5,
     "metadata": {},
     "output_type": "execute_result"
    }
   ],
   "source": [
    "x = -9\n",
    "y = 1/2\n",
    "\n",
    "2**(y + 1/2) if x + 10 < 0 else 2**(y - 1/2)"
   ]
  },
  {
   "cell_type": "markdown",
   "metadata": {},
   "source": [
    "### Collections\n",
    "\n",
    "Python provides some simple data structures for grouping together _multiple_ values, and integrates them with the rest of the language. These data structures are called _collections_. We start with sets."
   ]
  },
  {
   "cell_type": "markdown",
   "metadata": {},
   "source": [
    "### 0.5.4 Sets\n",
    "\n",
    "A set is an _unordered_ collection in which each value occurs _at most once_. We can use curly braces (`{}`) to give an expression whose value is a set."
   ]
  },
  {
   "cell_type": "code",
   "execution_count": 6,
   "metadata": {
    "collapsed": false
   },
   "outputs": [
    {
     "data": {
      "text/plain": [
       "{3, 'a'}"
      ]
     },
     "execution_count": 6,
     "metadata": {},
     "output_type": "execute_result"
    }
   ],
   "source": [
    "{1+2, 3, \"a\"}"
   ]
  },
  {
   "cell_type": "code",
   "execution_count": 7,
   "metadata": {
    "collapsed": false
   },
   "outputs": [
    {
     "data": {
      "text/plain": [
       "{1, 2, 3}"
      ]
     },
     "execution_count": 7,
     "metadata": {},
     "output_type": "execute_result"
    }
   ],
   "source": [
    "{2, 1, 3}"
   ]
  },
  {
   "cell_type": "markdown",
   "metadata": {},
   "source": [
    "Note that _duplicates_ are _eliminated_ and that the order in which the elements of the output are printed does not necessarily match the input.\n",
    "\n",
    "The _cardinality_ of a set $S$ is the number of elements in the set, denoted $|S|$. In Python, this is obtained using the procedure `len()`:"
   ]
  },
  {
   "cell_type": "code",
   "execution_count": 10,
   "metadata": {
    "collapsed": false
   },
   "outputs": [
    {
     "data": {
      "text/plain": [
       "3"
      ]
     },
     "execution_count": 10,
     "metadata": {},
     "output_type": "execute_result"
    }
   ],
   "source": [
    "len({'a', 'b', 'c', 'a', 'a'})\n",
    "# note the cardinality of this set is NOT 5"
   ]
  },
  {
   "cell_type": "markdown",
   "metadata": {},
   "source": [
    "**Summing**\n",
    "\n",
    "The sum of elements of a _collection_ of values is obtained via the procedure `sum()`: "
   ]
  },
  {
   "cell_type": "code",
   "execution_count": 11,
   "metadata": {
    "collapsed": false
   },
   "outputs": [
    {
     "data": {
      "text/plain": [
       "6"
      ]
     },
     "execution_count": 11,
     "metadata": {},
     "output_type": "execute_result"
    }
   ],
   "source": [
    "sum({1, 2, 3})"
   ]
  },
  {
   "cell_type": "markdown",
   "metadata": {},
   "source": [
    "For some reason we would like to start the sum not at zero but at some other value, supply this value as the second argument to `sum()`:"
   ]
  },
  {
   "cell_type": "code",
   "execution_count": 12,
   "metadata": {
    "collapsed": false
   },
   "outputs": [
    {
     "data": {
      "text/plain": [
       "16"
      ]
     },
     "execution_count": 12,
     "metadata": {},
     "output_type": "execute_result"
    }
   ],
   "source": [
    "sum({1, 2, 3}, 10)"
   ]
  },
  {
   "cell_type": "markdown",
   "metadata": {},
   "source": [
    "**Testing set membership**\n",
    "\n",
    "Membership in a set can be tested using the `in` and `not in` operator. This is consistent with maths and `LaTex` convention."
   ]
  },
  {
   "cell_type": "code",
   "execution_count": 15,
   "metadata": {
    "collapsed": false
   },
   "outputs": [
    {
     "name": "stdout",
     "output_type": "stream",
     "text": [
      "True\n",
      "False\n",
      "True\n"
     ]
    }
   ],
   "source": [
    "S = {1, 2, 3}\n",
    "\n",
    "print(2 in S)\n",
    "print(4 in S)\n",
    "print(4 not in S)"
   ]
  },
  {
   "cell_type": "markdown",
   "metadata": {
    "collapsed": true
   },
   "source": [
    "** Set union and intersection**\n",
    "\n",
    "The _union_ and _intersection_ of two sets are used to generate _new_ sets. Python use the vertical bar `|` and the ampersand `&` as the _union_ and _intersection_ operator:"
   ]
  },
  {
   "cell_type": "code",
   "execution_count": 1,
   "metadata": {
    "collapsed": false
   },
   "outputs": [
    {
     "name": "stdout",
     "output_type": "stream",
     "text": [
      "{1, 2, 3, 4}\n",
      "{2, 3}\n"
     ]
    }
   ],
   "source": [
    "S = {1, 2, 3}\n",
    "T = {2, 3, 4}\n",
    "\n",
    "print(S | T)\n",
    "print(S & T)"
   ]
  },
  {
   "cell_type": "markdown",
   "metadata": {},
   "source": [
    "**Mutating a set**\n",
    "\n",
    "A value that cna be **altered** is a **_mutable_** value. Sets are _mutable_; elements can be added and removed using the `add()` and `remove()` methods:"
   ]
  },
  {
   "cell_type": "code",
   "execution_count": 2,
   "metadata": {
    "collapsed": false
   },
   "outputs": [
    {
     "data": {
      "text/plain": [
       "{1, 3, 4}"
      ]
     },
     "execution_count": 2,
     "metadata": {},
     "output_type": "execute_result"
    }
   ],
   "source": [
    "S = {1, 2, 3}\n",
    "S.add(4)\n",
    "S.remove(2)\n",
    "S"
   ]
  },
  {
   "cell_type": "markdown",
   "metadata": {},
   "source": [
    "The syntax of dot is for _methods_ in _object-oriented_ programming languages. We can think of a method as a _procedure_ that takes an _extra argument_, the value of the expression to the left of the dot.\n",
    "\n",
    "Python provides a method `update()` to add to a set _all_ the elements of another collection (e.g. a set or a list):"
   ]
  },
  {
   "cell_type": "code",
   "execution_count": 3,
   "metadata": {
    "collapsed": false
   },
   "outputs": [
    {
     "data": {
      "text/plain": [
       "{1, 3, 4, 5, 6}"
      ]
     },
     "execution_count": 3,
     "metadata": {},
     "output_type": "execute_result"
    }
   ],
   "source": [
    "S.update({4, 5, 6})\n",
    "S"
   ]
  },
  {
   "cell_type": "markdown",
   "metadata": {},
   "source": [
    "Similarly, one can intersect a set with another collection, removing from the set all elements not in the other \n",
    "collection."
   ]
  },
  {
   "cell_type": "code",
   "execution_count": 4,
   "metadata": {
    "collapsed": false
   },
   "outputs": [
    {
     "data": {
      "text/plain": [
       "{5, 6}"
      ]
     },
     "execution_count": 4,
     "metadata": {},
     "output_type": "execute_result"
    }
   ],
   "source": [
    "S.intersection_update({5, 6, 7, 8, 9})\n",
    "S"
   ]
  },
  {
   "cell_type": "markdown",
   "metadata": {},
   "source": [
    "Suppose two variables are _bound_ to the same value. A mutation to the value made through one variable isis visible in the other variable.\n",
    "\n",
    "This behaviour reflects the fact that Python stores _only one copy_ of the underlying data structure. Both `T` and `S` below point to the same data structure. This aspect of Python will be important to us: many different variables can point to the same huge set _without_ causing a blow-up of storage."
   ]
  },
  {
   "cell_type": "code",
   "execution_count": 6,
   "metadata": {
    "collapsed": false
   },
   "outputs": [
    {
     "data": {
      "text/plain": [
       "{6}"
      ]
     },
     "execution_count": 6,
     "metadata": {},
     "output_type": "execute_result"
    }
   ],
   "source": [
    "T = S\n",
    "T.remove(5)\n",
    "S"
   ]
  },
  {
   "cell_type": "markdown",
   "metadata": {},
   "source": [
    "Python provides a _method_ for _copying_ a collection such as a set:"
   ]
  },
  {
   "cell_type": "code",
   "execution_count": 9,
   "metadata": {
    "collapsed": false
   },
   "outputs": [
    {
     "name": "stdout",
     "output_type": "stream",
     "text": [
      "{5, 6}\n",
      "{6}\n"
     ]
    }
   ],
   "source": [
    "# The assignment statement binds U not to the value of S but to a copy of it,\n",
    "# so mutations to the value of U don't affect the value of S.\n",
    "U = S.copy()\n",
    "U.add(5)\n",
    "print(U)\n",
    "print(S)"
   ]
  },
  {
   "cell_type": "markdown",
   "metadata": {},
   "source": [
    "**Set comprehensions**\n",
    "\n",
    "Python provides for expressions (e.g. a functionality) called _comprehensions_ that let us _build collections out of other collections_. In this book, the author uses comprehensions a lot not only because they are useful in constructing collections but also because comprehensions **mimic traditional methematical notation**. For example,"
   ]
  },
  {
   "cell_type": "code",
   "execution_count": 10,
   "metadata": {
    "collapsed": false
   },
   "outputs": [
    {
     "data": {
      "text/plain": [
       "{2, 4, 6}"
      ]
     },
     "execution_count": 10,
     "metadata": {},
     "output_type": "execute_result"
    }
   ],
   "source": [
    "{2 * x for x in {1, 2, 3}}"
   ]
  },
  {
   "cell_type": "markdown",
   "metadata": {
    "collapsed": true
   },
   "source": [
    "The above notation is similar to traditional mathematical notation for expressing sets in terms of other sets, in this case $\\{2x: x \\in \\{1, 2, 3\\}\\}$. To compute the value, Python _iterates_ over the elements of the set $\\{1, 2, 3\\}$, _temporarily_ binding the _control variable_ `x` to each element in turn and evaluating the expression `2*x` in the context of that binding. Each of the values obtained is an element of the final set. However, the bindings of `x` during the evaluation of the comprehension do not persist after the evaluation completes."
   ]
  },
  {
   "cell_type": "markdown",
   "metadata": {},
   "source": [
    "**Task 0.5.5**: Write a comprehension over $\\{1, 2, 3, 4, 5\\}$ whose value is the set consisting of the squares of the first five positive integers."
   ]
  },
  {
   "cell_type": "code",
   "execution_count": 5,
   "metadata": {
    "collapsed": false
   },
   "outputs": [
    {
     "data": {
      "text/plain": [
       "{1, 4, 9, 16, 25}"
      ]
     },
     "execution_count": 5,
     "metadata": {},
     "output_type": "execute_result"
    }
   ],
   "source": [
    "S = {1, 2, 3, 4, 5}\n",
    "\n",
    "{x**2 for x in S}"
   ]
  },
  {
   "cell_type": "markdown",
   "metadata": {},
   "source": [
    "**Task 0.5.6**: Write a comprehension over $\\{0, 1, 2, 3, 4\\}$ whose value is the set consisting of the first five powers of two, starting with $2^0$."
   ]
  },
  {
   "cell_type": "code",
   "execution_count": 8,
   "metadata": {
    "collapsed": false
   },
   "outputs": [
    {
     "data": {
      "text/plain": [
       "{1, 2, 4, 8, 16}"
      ]
     },
     "execution_count": 8,
     "metadata": {},
     "output_type": "execute_result"
    }
   ],
   "source": [
    "S = {0, 1, 2, 3, 4}\n",
    "\n",
    "{2**x for x in S}"
   ]
  },
  {
   "cell_type": "markdown",
   "metadata": {},
   "source": [
    "Using the union operator `|` or the intersection operator `&`, we can write set expressions for the union or intersection of two sets, and use such expressions in a comprehension:"
   ]
  },
  {
   "cell_type": "code",
   "execution_count": 9,
   "metadata": {
    "collapsed": false
   },
   "outputs": [
    {
     "data": {
      "text/plain": [
       "{0, 1, 4, 9, 16, 25, 49}"
      ]
     },
     "execution_count": 9,
     "metadata": {},
     "output_type": "execute_result"
    }
   ],
   "source": [
    "{x*x for x in S | {5, 7}}"
   ]
  },
  {
   "cell_type": "markdown",
   "metadata": {},
   "source": [
    "By adding the phrase `if <condition>` at the end of a comprehension (before the closing brace \"`}`\"), we can skip some of the values in the set being iterated over:"
   ]
  },
  {
   "cell_type": "code",
   "execution_count": 11,
   "metadata": {
    "collapsed": false
   },
   "outputs": [
    {
     "data": {
      "text/plain": [
       "{9, 16, 25, 49}"
      ]
     },
     "execution_count": 11,
     "metadata": {},
     "output_type": "execute_result"
    }
   ],
   "source": [
    "{x*x for x in S | {5, 7} if x > 2}"
   ]
  },
  {
   "cell_type": "markdown",
   "metadata": {},
   "source": [
    "The author calls the conditional clause a _filter_."
   ]
  },
  {
   "cell_type": "markdown",
   "metadata": {},
   "source": [
    "We can also write a comprehension that iterates over the Cartesian product of two sets:"
   ]
  },
  {
   "cell_type": "code",
   "execution_count": 2,
   "metadata": {
    "collapsed": false
   },
   "outputs": [
    {
     "data": {
      "text/plain": [
       "{2, 3, 4, 6, 8, 9, 12}"
      ]
     },
     "execution_count": 2,
     "metadata": {},
     "output_type": "execute_result"
    }
   ],
   "source": [
    "{x*y for x in {1, 2, 3} for y in {2, 3, 4}}"
   ]
  },
  {
   "cell_type": "markdown",
   "metadata": {},
   "source": [
    "The above comprehension constructs a set of the products of _every_ combination of `x` and `y`, _double comprehension_."
   ]
  },
  {
   "cell_type": "markdown",
   "metadata": {},
   "source": [
    "**Task 0.5.7**: Replace the two three-element sets in the previous comprehension so that the value becomes a nine-element set.\n",
    "\n",
    "Strategy: use sets of different prime numbers to maximise the number of elements returned."
   ]
  },
  {
   "cell_type": "code",
   "execution_count": 4,
   "metadata": {
    "collapsed": false
   },
   "outputs": [
    {
     "data": {
      "text/plain": [
       "{14, 21, 22, 26, 33, 35, 39, 55, 65}"
      ]
     },
     "execution_count": 4,
     "metadata": {},
     "output_type": "execute_result"
    }
   ],
   "source": [
    "{x*y for x in {2, 3, 5} for y in {7, 11, 13}}"
   ]
  },
  {
   "cell_type": "markdown",
   "metadata": {},
   "source": [
    "Here is an example of a double comprehension with a **filter**:"
   ]
  },
  {
   "cell_type": "code",
   "execution_count": 5,
   "metadata": {
    "collapsed": false
   },
   "outputs": [
    {
     "data": {
      "text/plain": [
       "{2, 3, 4, 6, 8, 12}"
      ]
     },
     "execution_count": 5,
     "metadata": {},
     "output_type": "execute_result"
    }
   ],
   "source": [
    "{x*y for x in {1, 2, 3} for y in {2, 3, 4} if x != y}"
   ]
  },
  {
   "cell_type": "markdown",
   "metadata": {},
   "source": [
    "**Task 0.5.8**: Replace the two sets in the previous comprehension with two disjoint (i.e. non-overlapping) three-element sets so that the value becomes a five-element set.\n",
    "\n",
    "Strategy: capitalise on filtering to reduce the number of elements returned."
   ]
  },
  {
   "cell_type": "code",
   "execution_count": 8,
   "metadata": {
    "collapsed": false
   },
   "outputs": [
    {
     "data": {
      "text/plain": [
       "{2, 4, 6, 12, 18}"
      ]
     },
     "execution_count": 8,
     "metadata": {},
     "output_type": "execute_result"
    }
   ],
   "source": [
    "{x * y for x in {1, 3, 7} for y in {2, 4, 6} if x < y}"
   ]
  },
  {
   "cell_type": "markdown",
   "metadata": {
    "collapsed": true
   },
   "source": [
    "**Task 0.5.9**: Without using the _intersection_ operator `&`, write a comprehension over two sets whose value is their intersection. Hint: Use a _membership_ test in a _filter_ at the end of the comprehension."
   ]
  },
  {
   "cell_type": "code",
   "execution_count": 1,
   "metadata": {
    "collapsed": false
   },
   "outputs": [
    {
     "data": {
      "text/plain": [
       "{2, 4}"
      ]
     },
     "execution_count": 1,
     "metadata": {},
     "output_type": "execute_result"
    }
   ],
   "source": [
    "S = {1, 2, 3, 4}\n",
    "T = {2, 4, 5, 6}\n",
    "\n",
    "{x for x in S if x in T}"
   ]
  },
  {
   "cell_type": "markdown",
   "metadata": {},
   "source": [
    "#### Remarks\n",
    "\n",
    "The _empty_ set is represented by `set()`, not by `{}`. The latter is used for something else.\n",
    "\n",
    "We cannot make a set that has a set as element. This has nothing to do with [Cantor's paradox](https://en.wikipedia.org/wiki/Cantor's_paradox) - Python imposes the restriction that the _elements of a set must not be mutable, and sets are_. Try out the following: "
   ]
  },
  {
   "cell_type": "code",
   "execution_count": 2,
   "metadata": {
    "collapsed": false
   },
   "outputs": [
    {
     "ename": "TypeError",
     "evalue": "unhashable type: 'set'",
     "output_type": "error",
     "traceback": [
      "\u001b[0;31m---------------------------------------------------------------------------\u001b[0m",
      "\u001b[0;31mTypeError\u001b[0m                                 Traceback (most recent call last)",
      "\u001b[0;32m<ipython-input-2-fed73a0ef043>\u001b[0m in \u001b[0;36m<module>\u001b[0;34m()\u001b[0m\n\u001b[0;32m----> 1\u001b[0;31m \u001b[0;34m{\u001b[0m\u001b[0;34m{\u001b[0m\u001b[0;36m1\u001b[0m\u001b[0;34m,\u001b[0m \u001b[0;36m2\u001b[0m\u001b[0;34m}\u001b[0m\u001b[0;34m,\u001b[0m \u001b[0;36m3\u001b[0m\u001b[0;34m}\u001b[0m\u001b[0;34m\u001b[0m\u001b[0m\n\u001b[0m",
      "\u001b[0;31mTypeError\u001b[0m: unhashable type: 'set'"
     ]
    }
   ],
   "source": [
    "{{1, 2}, 3}"
   ]
  },
  {
   "cell_type": "markdown",
   "metadata": {},
   "source": [
    "There is a nonmutable version of set called _frozenset_ that can be elements of sets."
   ]
  },
  {
   "cell_type": "markdown",
   "metadata": {},
   "source": [
    "### 0.5.5 Lists"
   ]
  },
  {
   "cell_type": "markdown",
   "metadata": {},
   "source": [
    "Python represents _sequences_ of values using _lists_. Lists are one of the few workhorses in Python whose easy use distingushes it from other programming languages.\n",
    "\n",
    "In a list, **order** is significant and **repeated** elements are allowed. The notation for lists is square brackets `[]` instead of curly braces `{}`."
   ]
  },
  {
   "cell_type": "code",
   "execution_count": 3,
   "metadata": {
    "collapsed": false
   },
   "outputs": [
    {
     "data": {
      "text/plain": [
       "[1, 2, 3, 2, 3]"
      ]
     },
     "execution_count": 3,
     "metadata": {},
     "output_type": "execute_result"
    }
   ],
   "source": [
    "[1, 1+1, 3, 2, 3]"
   ]
  },
  {
   "cell_type": "markdown",
   "metadata": {},
   "source": [
    "There are no restrictions on the elements of lists. A list can contain a _set_ or another _list_. However, a set cannot contain a list since lists are _mutable_."
   ]
  },
  {
   "cell_type": "code",
   "execution_count": 4,
   "metadata": {
    "collapsed": false
   },
   "outputs": [
    {
     "data": {
      "text/plain": [
       "[[1, 2, 3], {4, 5, 6}, 'yo']"
      ]
     },
     "execution_count": 4,
     "metadata": {},
     "output_type": "execute_result"
    }
   ],
   "source": [
    "[[1, 1+1, 4-1], {2*2, 5, 6}, \"yo\"]"
   ]
  },
  {
   "cell_type": "markdown",
   "metadata": {
    "collapsed": true
   },
   "source": [
    "The _length_ of a list, obtained using the procedure `len()`, is the number of elements in the list, even though some of these elements may themselves be lists, and even though some elements might have the same value:"
   ]
  },
  {
   "cell_type": "code",
   "execution_count": 1,
   "metadata": {
    "collapsed": false
   },
   "outputs": [
    {
     "data": {
      "text/plain": [
       "4"
      ]
     },
     "execution_count": 1,
     "metadata": {},
     "output_type": "execute_result"
    }
   ],
   "source": [
    "len([[1, 1+1, 4-1], {2*2, 5, 6}, \"yo\", \"yo\"])"
   ]
  },
  {
   "cell_type": "markdown",
   "metadata": {},
   "source": [
    "As we saw in sets, the sum of elements of a collection can be computed using `sum()`:"
   ]
  },
  {
   "cell_type": "code",
   "execution_count": 2,
   "metadata": {
    "collapsed": false
   },
   "outputs": [
    {
     "data": {
      "text/plain": [
       "4"
      ]
     },
     "execution_count": 2,
     "metadata": {},
     "output_type": "execute_result"
    }
   ],
   "source": [
    "sum([1, 1, 0, 1, 0, 1, 0])"
   ]
  },
  {
   "cell_type": "code",
   "execution_count": 3,
   "metadata": {
    "collapsed": false
   },
   "outputs": [
    {
     "data": {
      "text/plain": [
       "-5"
      ]
     },
     "execution_count": 3,
     "metadata": {},
     "output_type": "execute_result"
    }
   ],
   "source": [
    "sum([1, 1, 0, 1, 0, 1, 0], -9) # the second argument is the starting point"
   ]
  },
  {
   "cell_type": "markdown",
   "metadata": {},
   "source": [
    "**Task 0.5.10**: Write an expression whose value is the average of the elements of the list."
   ]
  },
  {
   "cell_type": "code",
   "execution_count": 4,
   "metadata": {
    "collapsed": false
   },
   "outputs": [
    {
     "data": {
      "text/plain": [
       "30.0"
      ]
     },
     "execution_count": 4,
     "metadata": {},
     "output_type": "execute_result"
    }
   ],
   "source": [
    "L = [20, 10, 15, 75]\n",
    "average = sum(L)/len(L)\n",
    "average"
   ]
  },
  {
   "cell_type": "markdown",
   "metadata": {},
   "source": [
    "**List concatenation**\n",
    "\n",
    "We can combine the elements in one list with the elements in another list to form a new list (without changing the original lists) using the `+` operator. Again, the `+` operator is overloaded, which is not uncommon in Python."
   ]
  },
  {
   "cell_type": "code",
   "execution_count": 1,
   "metadata": {
    "collapsed": false
   },
   "outputs": [
    {
     "data": {
      "text/plain": [
       "[1, 2, 3, 'my', 'word']"
      ]
     },
     "execution_count": 1,
     "metadata": {},
     "output_type": "execute_result"
    }
   ],
   "source": [
    "[1, 2, 3] + [\"my\", \"word\"]"
   ]
  },
  {
   "cell_type": "code",
   "execution_count": 2,
   "metadata": {
    "collapsed": false
   },
   "outputs": [
    {
     "data": {
      "text/plain": [
       "[4, 8, 12, 'my', 'word']"
      ]
     },
     "execution_count": 2,
     "metadata": {},
     "output_type": "execute_result"
    }
   ],
   "source": [
    "mylist = [4, 8, 12]\n",
    "mylist + [\"my\", \"word\"]"
   ]
  },
  {
   "cell_type": "code",
   "execution_count": 3,
   "metadata": {
    "collapsed": false
   },
   "outputs": [
    {
     "data": {
      "text/plain": [
       "[4, 8, 12]"
      ]
     },
     "execution_count": 3,
     "metadata": {},
     "output_type": "execute_result"
    }
   ],
   "source": [
    "mylist"
   ]
  },
  {
   "cell_type": "markdown",
   "metadata": {},
   "source": [
    "Cool: We can use `sum()` on a collection of lists, obtaining the _concatenation_ of all the lists, by providing `[]` as the second argument."
   ]
  },
  {
   "cell_type": "code",
   "execution_count": 7,
   "metadata": {
    "collapsed": false
   },
   "outputs": [
    {
     "ename": "TypeError",
     "evalue": "unsupported operand type(s) for +: 'int' and 'list'",
     "output_type": "error",
     "traceback": [
      "\u001b[0;31m---------------------------------------------------------------------------\u001b[0m",
      "\u001b[0;31mTypeError\u001b[0m                                 Traceback (most recent call last)",
      "\u001b[0;32m<ipython-input-7-9831763dcf54>\u001b[0m in \u001b[0;36m<module>\u001b[0;34m()\u001b[0m\n\u001b[0;32m----> 1\u001b[0;31m \u001b[0msum\u001b[0m\u001b[0;34m(\u001b[0m\u001b[0;34m[\u001b[0m\u001b[0;34m[\u001b[0m\u001b[0;36m1\u001b[0m\u001b[0;34m,\u001b[0m \u001b[0;36m2\u001b[0m\u001b[0;34m,\u001b[0m \u001b[0;36m3\u001b[0m\u001b[0;34m]\u001b[0m\u001b[0;34m,\u001b[0m \u001b[0;34m[\u001b[0m\u001b[0;36m4\u001b[0m\u001b[0;34m,\u001b[0m \u001b[0;36m5\u001b[0m\u001b[0;34m,\u001b[0m \u001b[0;36m6\u001b[0m\u001b[0;34m]\u001b[0m\u001b[0;34m,\u001b[0m \u001b[0;34m[\u001b[0m\u001b[0;36m7\u001b[0m\u001b[0;34m,\u001b[0m \u001b[0;36m8\u001b[0m\u001b[0;34m,\u001b[0m \u001b[0;36m9\u001b[0m\u001b[0;34m]\u001b[0m\u001b[0;34m]\u001b[0m\u001b[0;34m)\u001b[0m\u001b[0;34m\u001b[0m\u001b[0m\n\u001b[0m",
      "\u001b[0;31mTypeError\u001b[0m: unsupported operand type(s) for +: 'int' and 'list'"
     ]
    }
   ],
   "source": [
    "sum([[1, 2, 3], [4, 5, 6], [7, 8, 9]])"
   ]
  },
  {
   "cell_type": "code",
   "execution_count": 8,
   "metadata": {
    "collapsed": false
   },
   "outputs": [
    {
     "data": {
      "text/plain": [
       "[1, 2, 3, 4, 5, 6, 7, 8, 9]"
      ]
     },
     "execution_count": 8,
     "metadata": {},
     "output_type": "execute_result"
    }
   ],
   "source": [
    "sum([[1, 2, 3], [4, 5, 6], [7, 8, 9]], [])"
   ]
  },
  {
   "cell_type": "markdown",
   "metadata": {},
   "source": [
    "**List comprehensions**"
   ]
  },
  {
   "cell_type": "code",
   "execution_count": 11,
   "metadata": {
    "collapsed": false
   },
   "outputs": [
    {
     "data": {
      "text/plain": [
       "[2, 4, 6, 8, 10]"
      ]
     },
     "execution_count": 11,
     "metadata": {},
     "output_type": "execute_result"
    }
   ],
   "source": [
    "## A list is constructed by iterating over the elements of a set\n",
    "[2*x for x in {2, 1, 3, 4, 5}]\n",
    "## Note that the order of the elements in the resulting list might not correspond to the order of\n",
    "## the elements in the source set since the order is not significant in sets."
   ]
  },
  {
   "cell_type": "markdown",
   "metadata": {},
   "source": [
    "More generally, we can also construct a list by iterating over elements of a list via list comprehension."
   ]
  },
  {
   "cell_type": "code",
   "execution_count": 12,
   "metadata": {
    "collapsed": false
   },
   "outputs": [
    {
     "data": {
      "text/plain": [
       "[4, 2, 6, 8, 10]"
      ]
     },
     "execution_count": 12,
     "metadata": {},
     "output_type": "execute_result"
    }
   ],
   "source": [
    "[2*x for x in [2, 1, 3, 4, 5]]"
   ]
  },
  {
   "cell_type": "markdown",
   "metadata": {},
   "source": [
    "Note that the list above specifies the order among its elements. In evaluating the comprehension, Python iterates through them in the same order. Therefore, the order of the elements in the resulting list corresponds to the original source list."
   ]
  },
  {
   "cell_type": "markdown",
   "metadata": {},
   "source": [
    "As in the context of sets, we can also write list comprehensions that iterate over two collections using two control variables, \"double comprehensions\"."
   ]
  },
  {
   "cell_type": "code",
   "execution_count": 14,
   "metadata": {
    "collapsed": false
   },
   "outputs": [
    {
     "data": {
      "text/plain": [
       "[10, 20, 30, 20, 40, 60, 30, 60, 90]"
      ]
     },
     "execution_count": 14,
     "metadata": {},
     "output_type": "execute_result"
    }
   ],
   "source": [
    "[x*y for x in [1, 2, 3] for y in [10, 20, 30]]"
   ]
  },
  {
   "cell_type": "markdown",
   "metadata": {},
   "source": [
    "**Task 0.5.11**: Write a double list comprehension whose value is the list of all possible two-element lists `[letter, number]`."
   ]
  },
  {
   "cell_type": "code",
   "execution_count": 15,
   "metadata": {
    "collapsed": false
   },
   "outputs": [
    {
     "data": {
      "text/plain": [
       "[['A', 1],\n",
       " ['A', 2],\n",
       " ['A', 3],\n",
       " ['B', 1],\n",
       " ['B', 2],\n",
       " ['B', 3],\n",
       " ['C', 1],\n",
       " ['C', 2],\n",
       " ['C', 3]]"
      ]
     },
     "execution_count": 15,
     "metadata": {},
     "output_type": "execute_result"
    }
   ],
   "source": [
    "L = ['A', 'B', 'C']\n",
    "N = [1, 2, 3]\n",
    "\n",
    "[[x, y] for x in L for y in N]"
   ]
  },
  {
   "cell_type": "markdown",
   "metadata": {
    "collapsed": true
   },
   "source": [
    "**Task 0.5.12**: Suppose `LofL` has been assigned a list whose elements are themselves lists of numbers. Write an expression that evaluates to the sum of all the numbers in all the lists. Test the expression after assigning `[[.25, .75, .1], [-1, 0], [4, 4, 4, 4]]` to `LofL`. Note that our expression should work for a list of any length. Hint: The expression can have the form `sum([sum(...` and includes one comprehension."
   ]
  },
  {
   "cell_type": "code",
   "execution_count": 2,
   "metadata": {
    "collapsed": false
   },
   "outputs": [
    {
     "data": {
      "text/plain": [
       "16.1"
      ]
     },
     "execution_count": 2,
     "metadata": {},
     "output_type": "execute_result"
    }
   ],
   "source": [
    "LofL = [[.25, .75, .1], [-1, 0], [4, 4, 4, 4]]\n",
    "\n",
    "sum([sum(l) for l in LofL])"
   ]
  },
  {
   "cell_type": "code",
   "execution_count": 4,
   "metadata": {
    "collapsed": false
   },
   "outputs": [
    {
     "data": {
      "text/plain": [
       "-0.4"
      ]
     },
     "execution_count": 4,
     "metadata": {},
     "output_type": "execute_result"
    }
   ],
   "source": [
    "LofL = [[.25, -.75, .1], [-1, 1], [4, -4, 4, -4]]\n",
    "\n",
    "sum([sum(l) for l in LofL])"
   ]
  },
  {
   "cell_type": "markdown",
   "metadata": {},
   "source": [
    "**Obtaining elements of a list by indexing**\n",
    "\n",
    "There are two ways to obtain an individual element of a list. The first is by indexing. As in some other languages (Java and C++ for example), indexing is done using _square brackets_ `[]` around the index. Note that the first element of the list has index 0."
   ]
  },
  {
   "cell_type": "code",
   "execution_count": 2,
   "metadata": {
    "collapsed": false
   },
   "outputs": [
    {
     "data": {
      "text/plain": [
       "4"
      ]
     },
     "execution_count": 2,
     "metadata": {},
     "output_type": "execute_result"
    }
   ],
   "source": [
    "mylist = [4, 5, 6, 7, 8, 9]\n",
    "\n",
    "mylist[0]"
   ]
  },
  {
   "cell_type": "code",
   "execution_count": 4,
   "metadata": {
    "collapsed": false
   },
   "outputs": [
    {
     "data": {
      "text/plain": [
       "'the'"
      ]
     },
     "execution_count": 4,
     "metadata": {},
     "output_type": "execute_result"
    }
   ],
   "source": [
    "[\"in\", \"the\", 'CIT'][1]"
   ]
  },
  {
   "cell_type": "code",
   "execution_count": 5,
   "metadata": {
    "collapsed": false
   },
   "outputs": [
    {
     "data": {
      "text/plain": [
       "['in', 'the', 'I']"
      ]
     },
     "execution_count": 5,
     "metadata": {},
     "output_type": "execute_result"
    }
   ],
   "source": [
    "[\"in\", \"the\", 'CIT'[1]]"
   ]
  },
  {
   "cell_type": "markdown",
   "metadata": {},
   "source": [
    "**Slices**: A _slice_ of a list is a _new_ list consisting of a _consecutive subsequence_ of elements of the old list, namely those indexed by a range of integers. The range is specified by a _colon-separated pair_ `i:j` consisting of the index `i` as the first element and `j` as one _past_ the index of the last element. Thus `mylist[1:3]` is the list consisting of elements 1 and 2 of `mylist`.\n",
    "\n",
    "**Note**: The common theme of Python indexing/slicing resembles left-close and right-open intervals.  "
   ]
  },
  {
   "cell_type": "markdown",
   "metadata": {},
   "source": [
    "**Prefixes**: If the first element `i` of the pair is **0**, it can be _omitted_. So `mylist[:2]` consists of the first 2 elements o `mylist`. This notation is useful for obtaining a prefix of a list. "
   ]
  },
  {
   "cell_type": "code",
   "execution_count": 7,
   "metadata": {
    "collapsed": false
   },
   "outputs": [
    {
     "data": {
      "text/plain": [
       "[4, 5]"
      ]
     },
     "execution_count": 7,
     "metadata": {},
     "output_type": "execute_result"
    }
   ],
   "source": [
    "mylist[:2]"
   ]
  },
  {
   "cell_type": "markdown",
   "metadata": {},
   "source": [
    "**Suffixes**: If the second element `j` of the pair is the **length** of the list, it can be _omitted_. Hence `mylist[1:]` consists of all elements of `mylist` except element 0."
   ]
  },
  {
   "cell_type": "code",
   "execution_count": 8,
   "metadata": {
    "collapsed": false
   },
   "outputs": [
    {
     "data": {
      "text/plain": [
       "[5, 6, 7, 8, 9]"
      ]
     },
     "execution_count": 8,
     "metadata": {},
     "output_type": "execute_result"
    }
   ],
   "source": [
    "mylist[1:]"
   ]
  },
  {
   "cell_type": "code",
   "execution_count": 10,
   "metadata": {
    "collapsed": false
   },
   "outputs": [
    {
     "data": {
      "text/plain": [
       "[0, 10, 20, 30, 40]"
      ]
     },
     "execution_count": 10,
     "metadata": {},
     "output_type": "execute_result"
    }
   ],
   "source": [
    "L = [0, 10, 20, 30, 40, 50, 60, 70, 80, 90]\n",
    "\n",
    "L[:5]"
   ]
  },
  {
   "cell_type": "code",
   "execution_count": 11,
   "metadata": {
    "collapsed": false
   },
   "outputs": [
    {
     "data": {
      "text/plain": [
       "[50, 60, 70, 80, 90]"
      ]
     },
     "execution_count": 11,
     "metadata": {},
     "output_type": "execute_result"
    }
   ],
   "source": [
    "L[5:]"
   ]
  },
  {
   "cell_type": "markdown",
   "metadata": {},
   "source": [
    "**Slices that skip** We can use a _colon-separated **triple**_ `a:b:c` if we want the slice to include every $c^{th}$ element. For example, here is how we can extract from `L` the list consisting of even-indexed elements and the list consisting of odd-indexed elements:"
   ]
  },
  {
   "cell_type": "code",
   "execution_count": 16,
   "metadata": {
    "collapsed": false
   },
   "outputs": [
    {
     "data": {
      "text/plain": [
       "[0, 20, 40, 60, 80]"
      ]
     },
     "execution_count": 16,
     "metadata": {},
     "output_type": "execute_result"
    }
   ],
   "source": [
    "L[::2] # even number indexed elements"
   ]
  },
  {
   "cell_type": "code",
   "execution_count": 17,
   "metadata": {
    "collapsed": false
   },
   "outputs": [
    {
     "data": {
      "text/plain": [
       "[10, 30, 50, 70, 90]"
      ]
     },
     "execution_count": 17,
     "metadata": {},
     "output_type": "execute_result"
    }
   ],
   "source": [
    "L[1::2] # odd number indexed elements"
   ]
  },
  {
   "cell_type": "markdown",
   "metadata": {},
   "source": [
    "The takeaway of Python indexing is `[head : tail : step)` where `step` acts like skipping/jump rope."
   ]
  },
  {
   "cell_type": "markdown",
   "metadata": {},
   "source": [
    "**Obtaining elements of a list by _unpacking_**\n",
    "\n",
    "The second way to obtain individual elements is by _**unpacking**_. Instead of assigning a list to a _single_ variable as in `mylist = [4, 8, 12]`, one can assign to a _list_ of variables:"
   ]
  },
  {
   "cell_type": "code",
   "execution_count": 8,
   "metadata": {
    "collapsed": false
   },
   "outputs": [
    {
     "name": "stdout",
     "output_type": "stream",
     "text": [
      "x=4, y=8, z=12\n"
     ]
    }
   ],
   "source": [
    "[x, y, z] = [4 * 1, 4 * 2, 4 * 3]\n",
    "\n",
    "\n",
    "print(\"x=%s, y=%s, z=%s\" % (x, y, z))"
   ]
  },
  {
   "cell_type": "markdown",
   "metadata": {},
   "source": [
    "The author called the LHS of the assignment above a \"list of variables\", but beware: this is a notational fiction. Python does not allow us to create a value that is a list of variables. The assignment is simply a convenient way to assign to _**each**_ of the variables appearing in the LHS. Hence this is more like _**bulk assignment**_."
   ]
  },
  {
   "cell_type": "markdown",
   "metadata": {},
   "source": [
    "**Task 0.5.13**: Find out what happens if the length of the LHS list does not match the length of the RHS list."
   ]
  },
  {
   "cell_type": "code",
   "execution_count": 5,
   "metadata": {
    "collapsed": false
   },
   "outputs": [
    {
     "ename": "ValueError",
     "evalue": "too many values to unpack (expected 3)",
     "output_type": "error",
     "traceback": [
      "\u001b[0;31m---------------------------------------------------------------------------\u001b[0m",
      "\u001b[0;31mValueError\u001b[0m                                Traceback (most recent call last)",
      "\u001b[0;32m<ipython-input-5-469f38e005c0>\u001b[0m in \u001b[0;36m<module>\u001b[0;34m()\u001b[0m\n\u001b[0;32m----> 1\u001b[0;31m \u001b[0;34m[\u001b[0m\u001b[0mx\u001b[0m\u001b[0;34m,\u001b[0m \u001b[0my\u001b[0m\u001b[0;34m,\u001b[0m \u001b[0mz\u001b[0m\u001b[0;34m]\u001b[0m \u001b[0;34m=\u001b[0m \u001b[0;34m[\u001b[0m\u001b[0;36m4\u001b[0m \u001b[0;34m*\u001b[0m \u001b[0;36m1\u001b[0m\u001b[0;34m,\u001b[0m \u001b[0;36m4\u001b[0m \u001b[0;34m*\u001b[0m \u001b[0;36m2\u001b[0m\u001b[0;34m,\u001b[0m \u001b[0;36m4\u001b[0m \u001b[0;34m*\u001b[0m \u001b[0;36m3\u001b[0m\u001b[0;34m,\u001b[0m \u001b[0;36m4\u001b[0m \u001b[0;34m*\u001b[0m \u001b[0;36m4\u001b[0m\u001b[0;34m]\u001b[0m\u001b[0;34m\u001b[0m\u001b[0m\n\u001b[0m\u001b[1;32m      2\u001b[0m \u001b[0mprint\u001b[0m\u001b[0;34m(\u001b[0m\u001b[0;34m\"x=%s, y=%s, z=%s\"\u001b[0m \u001b[0;34m%\u001b[0m \u001b[0;34m(\u001b[0m\u001b[0mx\u001b[0m\u001b[0;34m,\u001b[0m \u001b[0my\u001b[0m\u001b[0;34m,\u001b[0m \u001b[0mz\u001b[0m\u001b[0;34m)\u001b[0m\u001b[0;34m)\u001b[0m\u001b[0;34m\u001b[0m\u001b[0m\n",
      "\u001b[0;31mValueError\u001b[0m: too many values to unpack (expected 3)"
     ]
    }
   ],
   "source": [
    "[x, y, z] = [4 * 1, 4 * 2, 4 * 3, 4 * 4]\n",
    "print(\"x=%s, y=%s, z=%s\" % (x, y, z))"
   ]
  },
  {
   "cell_type": "code",
   "execution_count": 6,
   "metadata": {
    "collapsed": false
   },
   "outputs": [
    {
     "ename": "ValueError",
     "evalue": "not enough values to unpack (expected 6, got 4)",
     "output_type": "error",
     "traceback": [
      "\u001b[0;31m---------------------------------------------------------------------------\u001b[0m",
      "\u001b[0;31mValueError\u001b[0m                                Traceback (most recent call last)",
      "\u001b[0;32m<ipython-input-6-4aa416e4311f>\u001b[0m in \u001b[0;36m<module>\u001b[0;34m()\u001b[0m\n\u001b[0;32m----> 1\u001b[0;31m \u001b[0;34m[\u001b[0m\u001b[0mx\u001b[0m\u001b[0;34m,\u001b[0m \u001b[0my\u001b[0m\u001b[0;34m,\u001b[0m \u001b[0mz\u001b[0m\u001b[0;34m,\u001b[0m \u001b[0ma\u001b[0m\u001b[0;34m,\u001b[0m \u001b[0mb\u001b[0m\u001b[0;34m,\u001b[0m \u001b[0mc\u001b[0m\u001b[0;34m]\u001b[0m \u001b[0;34m=\u001b[0m \u001b[0;34m[\u001b[0m\u001b[0;36m4\u001b[0m \u001b[0;34m*\u001b[0m \u001b[0;36m1\u001b[0m\u001b[0;34m,\u001b[0m \u001b[0;36m4\u001b[0m \u001b[0;34m*\u001b[0m \u001b[0;36m2\u001b[0m\u001b[0;34m,\u001b[0m \u001b[0;36m4\u001b[0m \u001b[0;34m*\u001b[0m \u001b[0;36m3\u001b[0m\u001b[0;34m,\u001b[0m \u001b[0;36m4\u001b[0m \u001b[0;34m*\u001b[0m \u001b[0;36m4\u001b[0m\u001b[0;34m]\u001b[0m\u001b[0;34m\u001b[0m\u001b[0m\n\u001b[0m\u001b[1;32m      2\u001b[0m \u001b[0mprint\u001b[0m\u001b[0;34m(\u001b[0m\u001b[0;34m\"x=%s, y=%s, z=%s, a=%s, b=%s, c=%s\"\u001b[0m \u001b[0;34m%\u001b[0m \u001b[0;34m(\u001b[0m\u001b[0mx\u001b[0m\u001b[0;34m,\u001b[0m \u001b[0my\u001b[0m\u001b[0;34m,\u001b[0m \u001b[0mz\u001b[0m\u001b[0;34m,\u001b[0m \u001b[0ma\u001b[0m\u001b[0;34m,\u001b[0m \u001b[0mb\u001b[0m\u001b[0;34m,\u001b[0m \u001b[0mc\u001b[0m\u001b[0;34m)\u001b[0m\u001b[0;34m)\u001b[0m\u001b[0;34m\u001b[0m\u001b[0m\n",
      "\u001b[0;31mValueError\u001b[0m: not enough values to unpack (expected 6, got 4)"
     ]
    }
   ],
   "source": [
    "[x, y, z, a, b, c] = [4 * 1, 4 * 2, 4 * 3, 4 * 4]\n",
    "print(\"x=%s, y=%s, z=%s, a=%s, b=%s, c=%s\" % (x, y, z, a, b, c))"
   ]
  },
  {
   "cell_type": "markdown",
   "metadata": {},
   "source": [
    "The error messages above are sefl-explanatory. THe lengths of the list on both sides of the assignment have to match in order for Python to proceed.\n",
    "\n",
    "Unpacking can similarly be used in comprehensions:"
   ]
  },
  {
   "cell_type": "code",
   "execution_count": 7,
   "metadata": {
    "collapsed": false
   },
   "outputs": [
    {
     "name": "stdout",
     "output_type": "stream",
     "text": [
      "[1, 2, 3]\n",
      "[1, 4, 9]\n"
     ]
    }
   ],
   "source": [
    "listoflists = [[1, 1], [2, 4], [3, 9]]\n",
    "print([x for [x, y] in listoflists])\n",
    "print([y for [x, y] in listoflists])"
   ]
  },
  {
   "cell_type": "markdown",
   "metadata": {},
   "source": [
    "Here the two-element list `[x, y]` iterates over all elements of `listoflists`. The would result in an error message if some element of `listoflists` were not a two-element list."
   ]
  },
  {
   "cell_type": "markdown",
   "metadata": {},
   "source": [
    "**Mutating a list: index on the left-hand side of =**\n",
    "\n",
    "We can mutate a list, replacing its $i^{\\text{th}}$ element, using indexing on the LHS of the `=`, analogous to an assignment statement:"
   ]
  },
  {
   "cell_type": "code",
   "execution_count": 9,
   "metadata": {
    "collapsed": false
   },
   "outputs": [
    {
     "data": {
      "text/plain": [
       "[30, 0, 10]"
      ]
     },
     "execution_count": 9,
     "metadata": {},
     "output_type": "execute_result"
    }
   ],
   "source": [
    "mylist = [30, 20, 10]\n",
    "mylist[1] = 0\n",
    "mylist"
   ]
  },
  {
   "cell_type": "markdown",
   "metadata": {},
   "source": [
    "### 0.5.6 Tuples"
   ]
  },
  {
   "cell_type": "markdown",
   "metadata": {},
   "source": [
    "Like a list, a tuple is an _ordered sequence_ of elements. However, tuples are _**immutable**_ so they can be elements of sets. The notation for tuples is the same as that for lists except that ordinary parentheses `()` are used instead of square brackets."
   ]
  },
  {
   "cell_type": "code",
   "execution_count": 10,
   "metadata": {
    "collapsed": false
   },
   "outputs": [
    {
     "data": {
      "text/plain": [
       "(1, 2, 3)"
      ]
     },
     "execution_count": 10,
     "metadata": {},
     "output_type": "execute_result"
    }
   ],
   "source": [
    "(1, 1+1, 3)"
   ]
  },
  {
   "cell_type": "code",
   "execution_count": 12,
   "metadata": {
    "collapsed": false
   },
   "outputs": [
    {
     "data": {
      "text/plain": [
       "{0, (3, 4, 5), (1, 2)}"
      ]
     },
     "execution_count": 12,
     "metadata": {},
     "output_type": "execute_result"
    }
   ],
   "source": [
    "{0, (1, 2)} | {(3, 4, 5)}"
   ]
  },
  {
   "cell_type": "markdown",
   "metadata": {},
   "source": [
    "**Obtaining elements of a tuple by indexing and _unpacking_**\n",
    "\n",
    "We can use _indexing_ to obtain an element of a tuple."
   ]
  },
  {
   "cell_type": "code",
   "execution_count": 13,
   "metadata": {
    "collapsed": false
   },
   "outputs": [
    {
     "data": {
      "text/plain": [
       "'my'"
      ]
     },
     "execution_count": 13,
     "metadata": {},
     "output_type": "execute_result"
    }
   ],
   "source": [
    "mytuple = (\"all\", \"my\", \"books\")\n",
    "mytuple[1]"
   ]
  },
  {
   "cell_type": "markdown",
   "metadata": {},
   "source": [
    "We can also use _unpacking_ with tuples. Here is an example of top-level variable assignment:"
   ]
  },
  {
   "cell_type": "code",
   "execution_count": 17,
   "metadata": {
    "collapsed": false
   },
   "outputs": [
    {
     "name": "stdout",
     "output_type": "stream",
     "text": [
      "a=1, b=2\n"
     ]
    }
   ],
   "source": [
    "(a, b) = (1, 5-3)\n",
    "\n",
    "print(\"a=%i, b=%i\" % (a, b))"
   ]
  },
  {
   "cell_type": "markdown",
   "metadata": {},
   "source": [
    "In some contexts, we can even get away without the parentheses, e.g."
   ]
  },
  {
   "cell_type": "code",
   "execution_count": 23,
   "metadata": {
    "collapsed": false
   },
   "outputs": [
    {
     "name": "stdout",
     "output_type": "stream",
     "text": [
      "a=1, b=2\n",
      "a=1, b=2\n"
     ]
    }
   ],
   "source": [
    "a, b = (1, 5 - 3)\n",
    "print(\"a=%i, b=%i\" % (a, b))\n",
    "\n",
    "# or even\n",
    "a, b = 1, 5 - 3\n",
    "print(\"a=%i, b=%i\" % (a, b)) # here the parentheses are a must"
   ]
  },
  {
   "cell_type": "code",
   "execution_count": 25,
   "metadata": {
    "collapsed": false
   },
   "outputs": [
    {
     "data": {
      "text/plain": [
       "['A', 'B', 'C']"
      ]
     },
     "execution_count": 25,
     "metadata": {},
     "output_type": "execute_result"
    }
   ],
   "source": [
    "# We can use _unpacking_ in a comprehension:\n",
    "[y for (x, y) in [(1, 'A'), (2, 'B'), (3, 'C')]]"
   ]
  },
  {
   "cell_type": "code",
   "execution_count": 26,
   "metadata": {
    "collapsed": false
   },
   "outputs": [
    {
     "data": {
      "text/plain": [
       "[1, 2, 3]"
      ]
     },
     "execution_count": 26,
     "metadata": {},
     "output_type": "execute_result"
    }
   ],
   "source": [
    "[x for x, y in [(1, 'A'), (2, 'B'), (3, 'C')]]"
   ]
  },
  {
   "cell_type": "markdown",
   "metadata": {},
   "source": [
    "**Task 0.5.14**: Suppose $S$ is a set of integers, e.g. $\\{-4, -2, 1, 2, 5, 0\\}$. Write a triple comprehension whose value is a list of all three-element tuples `(i, j, k)` such that `i, j, k` are elements of $S$ whose sum is zero."
   ]
  },
  {
   "cell_type": "code",
   "execution_count": 37,
   "metadata": {
    "collapsed": false
   },
   "outputs": [
    {
     "data": {
      "text/plain": [
       "[(0, 0, 0),\n",
       " (0, 2, -2),\n",
       " (0, -2, 2),\n",
       " (1, 1, -2),\n",
       " (1, -2, 1),\n",
       " (2, 0, -2),\n",
       " (2, 2, -4),\n",
       " (2, -4, 2),\n",
       " (2, -2, 0),\n",
       " (-4, 2, 2),\n",
       " (-2, 0, 2),\n",
       " (-2, 1, 1),\n",
       " (-2, 2, 0)]"
      ]
     },
     "execution_count": 37,
     "metadata": {},
     "output_type": "execute_result"
    }
   ],
   "source": [
    "S = {-4, -2, 1, 2, 5, 0}\n",
    "\n",
    "sumofzero = [(x, y, z) for x in S for y in S for z in S if (x + y + z) == 0]; sumofzero"
   ]
  },
  {
   "cell_type": "markdown",
   "metadata": {},
   "source": [
    "**Task 0.5.15**: Modify the comprehension of the previous task so that the resulting list does not include `(0, 0, 0)`."
   ]
  },
  {
   "cell_type": "code",
   "execution_count": 38,
   "metadata": {
    "collapsed": false
   },
   "outputs": [
    {
     "data": {
      "text/plain": [
       "[(0, 2, -2),\n",
       " (0, -2, 2),\n",
       " (1, 1, -2),\n",
       " (1, -2, 1),\n",
       " (2, 0, -2),\n",
       " (2, 2, -4),\n",
       " (2, -4, 2),\n",
       " (2, -2, 0),\n",
       " (-4, 2, 2),\n",
       " (-2, 0, 2),\n",
       " (-2, 1, 1),\n",
       " (-2, 2, 0)]"
      ]
     },
     "execution_count": 38,
     "metadata": {},
     "output_type": "execute_result"
    }
   ],
   "source": [
    "sumofzero2 = [(x, y, z) for x in S for y in S for z in S if (x + y + z == 0) and (x, y, z) != (0, 0, 0)]; sumofzero2"
   ]
  },
  {
   "cell_type": "markdown",
   "metadata": {},
   "source": [
    "**Task 0.5.16**: Further modify the expression so that its value is not the list of all such tuples but is the first such tuple."
   ]
  },
  {
   "cell_type": "code",
   "execution_count": 43,
   "metadata": {
    "collapsed": false
   },
   "outputs": [
    {
     "data": {
      "text/plain": [
       "[(0, 2, -2)]"
      ]
     },
     "execution_count": 43,
     "metadata": {},
     "output_type": "execute_result"
    }
   ],
   "source": [
    "[sumofzero2[0]]"
   ]
  },
  {
   "cell_type": "code",
   "execution_count": 45,
   "metadata": {
    "collapsed": false
   },
   "outputs": [
    {
     "data": {
      "text/plain": [
       "[0, 2, -2]"
      ]
     },
     "execution_count": 45,
     "metadata": {},
     "output_type": "execute_result"
    }
   ],
   "source": [
    "# Note that the following is NOT the same as above\n",
    "list(sumofzero2[0])"
   ]
  },
  {
   "cell_type": "markdown",
   "metadata": {},
   "source": [
    "The author pointed out that the computation complexity would increase exponentially with the number of the elements in the target set in this kind of problems."
   ]
  },
  {
   "cell_type": "markdown",
   "metadata": {},
   "source": [
    "**Obtaining a list or set from another collection**\n",
    "\n",
    "Python can compute a set from another collection (e.g. a list) using the _constructor_ `set()`. In a similar vein, the _constructor_ `list()` computes a list and the _constructor_ `tuple()` generates a tuple. "
   ]
  },
  {
   "cell_type": "code",
   "execution_count": 46,
   "metadata": {
    "collapsed": false
   },
   "outputs": [
    {
     "data": {
      "text/plain": [
       "{0, 1, 2, 3, 4, 5, 6, 7, 8, 9}"
      ]
     },
     "execution_count": 46,
     "metadata": {},
     "output_type": "execute_result"
    }
   ],
   "source": [
    "set([0, 1, 2, 3, 4, 5, 6, 7, 8, 9])"
   ]
  },
  {
   "cell_type": "code",
   "execution_count": 48,
   "metadata": {
    "collapsed": false
   },
   "outputs": [
    {
     "data": {
      "text/plain": [
       "{1, 2, 3}"
      ]
     },
     "execution_count": 48,
     "metadata": {},
     "output_type": "execute_result"
    }
   ],
   "source": [
    "set([1, 2, 3, 3, 2])"
   ]
  },
  {
   "cell_type": "code",
   "execution_count": 49,
   "metadata": {
    "collapsed": false
   },
   "outputs": [
    {
     "data": {
      "text/plain": [
       "[1, 2, 3]"
      ]
     },
     "execution_count": 49,
     "metadata": {},
     "output_type": "execute_result"
    }
   ],
   "source": [
    "list({1, 2, 3})"
   ]
  },
  {
   "cell_type": "code",
   "execution_count": 50,
   "metadata": {
    "collapsed": false
   },
   "outputs": [
    {
     "data": {
      "text/plain": [
       "[1, 2, 3]"
      ]
     },
     "execution_count": 50,
     "metadata": {},
     "output_type": "execute_result"
    }
   ],
   "source": [
    "list({1, 2, 2, 3, 3})"
   ]
  },
  {
   "cell_type": "code",
   "execution_count": 51,
   "metadata": {
    "collapsed": false
   },
   "outputs": [
    {
     "data": {
      "text/plain": [
       "{1, 2, 3}"
      ]
     },
     "execution_count": 51,
     "metadata": {},
     "output_type": "execute_result"
    }
   ],
   "source": [
    "set((1, 2, 3))"
   ]
  },
  {
   "cell_type": "code",
   "execution_count": 52,
   "metadata": {
    "collapsed": false
   },
   "outputs": [
    {
     "data": {
      "text/plain": [
       "[1, 1, 2, 2, 3, 4, 5]"
      ]
     },
     "execution_count": 52,
     "metadata": {},
     "output_type": "execute_result"
    }
   ],
   "source": [
    "list((1, 1, 2, 2, 3, 4, 5))"
   ]
  },
  {
   "cell_type": "code",
   "execution_count": 53,
   "metadata": {
    "collapsed": false
   },
   "outputs": [
    {
     "data": {
      "text/plain": [
       "(1, 1, 2, 2, 3, 4, 5)"
      ]
     },
     "execution_count": 53,
     "metadata": {},
     "output_type": "execute_result"
    }
   ],
   "source": [
    "tuple([1, 1, 2, 2, 3, 4, 5])"
   ]
  },
  {
   "cell_type": "code",
   "execution_count": 54,
   "metadata": {
    "collapsed": false
   },
   "outputs": [
    {
     "data": {
      "text/plain": [
       "(1, 2, 3, 4, 5)"
      ]
     },
     "execution_count": 54,
     "metadata": {},
     "output_type": "execute_result"
    }
   ],
   "source": [
    "tuple({1, 1, 2, 2, 3, 4, 5, 5})"
   ]
  },
  {
   "cell_type": "markdown",
   "metadata": {},
   "source": [
    "**Task 0.5.17**: Find an example of a list `L` such that `len(L)` and `len(list(set(L)))` are different.\n",
    "\n",
    "All lists with any duplicated elements would do. "
   ]
  },
  {
   "cell_type": "code",
   "execution_count": 56,
   "metadata": {
    "collapsed": false
   },
   "outputs": [
    {
     "data": {
      "text/plain": [
       "5"
      ]
     },
     "execution_count": 56,
     "metadata": {},
     "output_type": "execute_result"
    }
   ],
   "source": [
    "L = [1, 1, 2, 3, 3]\n",
    "\n",
    "len(L)"
   ]
  },
  {
   "cell_type": "code",
   "execution_count": 57,
   "metadata": {
    "collapsed": false
   },
   "outputs": [
    {
     "data": {
      "text/plain": [
       "3"
      ]
     },
     "execution_count": 57,
     "metadata": {},
     "output_type": "execute_result"
    }
   ],
   "source": [
    "len(list(set(L)))"
   ]
  },
  {
   "cell_type": "markdown",
   "metadata": {},
   "source": [
    "### 0.5.7 Other things to iterate over"
   ]
  },
  {
   "cell_type": "markdown",
   "metadata": {},
   "source": [
    "**Tuple comprehensions - not! Generators**\n",
    "\n",
    "One would expect to be able to create a tuple using the usual comprehension syntax, e.g. `(i for i in [1, 2, 3])` but the value of this expression is not a tuple. It is a _generator_ that is a powerful feature of Python. Note, however, that one can write comprehension over a genertor instead of over a list, a set or a tuple. Alternatively, one can use `set()`, `list()` or `tuple()` to transform a generator into a set, a list or a tuple."
   ]
  },
  {
   "cell_type": "code",
   "execution_count": null,
   "metadata": {
    "collapsed": true
   },
   "outputs": [],
   "source": []
  }
 ],
 "metadata": {
  "anaconda-cloud": {},
  "kernelspec": {
   "display_name": "Python 3",
   "language": "python",
   "name": "python3"
  },
  "language_info": {
   "codemirror_mode": {
    "name": "ipython",
    "version": 3
   },
   "file_extension": ".py",
   "mimetype": "text/x-python",
   "name": "python",
   "nbconvert_exporter": "python",
   "pygments_lexer": "ipython3",
   "version": "3.5.2+"
  }
 },
 "nbformat": 4,
 "nbformat_minor": 1
}
