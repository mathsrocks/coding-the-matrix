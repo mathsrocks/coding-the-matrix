{
 "cells": [
  {
   "cell_type": "markdown",
   "metadata": {},
   "source": [
    "# Latex Header Section: Skip\n",
    "$$\n",
    "%%%%%%%%%%%%%%%%%%%%%%%%%%%%%%%%%%%%%%%%%%%%%%%%%%%%%%%%%%%%%%%%%\n",
    "%\n",
    "%  The following are some simple LaTeX macros to give some\n",
    "%  commonly used letters in funny fonts. You may need more or less of\n",
    "%  these\n",
    "%\n",
    "\\newcommand{\\R}{\\mathbb{R}}\n",
    "\\newcommand{\\Q}{\\mathbb{Q}}\n",
    "\\newcommand{\\C}{\\mathbb{C}}\n",
    "\\newcommand{\\N}{\\mathbb{N}}\n",
    "\\newcommand{\\F}{\\mathbb{F}}\n",
    "\\newcommand{\\PP}{\\mathbb{P}}\n",
    "\\newcommand{\\T}{\\mathbb{T}}\n",
    "\\newcommand{\\Z}{\\mathbb{Z}}\n",
    "\\newcommand{\\B}{\\mathfrak{B}}\n",
    "\\newcommand{\\BB}{\\mathcal{B}}\n",
    "\\newcommand{\\M}{\\mathfrak{M}}\n",
    "\\newcommand{\\X}{\\mathfrak{X}}\n",
    "\\newcommand{\\Y}{\\mathfrak{Y}}\n",
    "\\newcommand{\\CC}{\\mathcal{C}}\n",
    "\\newcommand{\\E}{\\mathbb{E}}\n",
    "\\newcommand{\\cP}{\\mathcal{P}}\n",
    "\\newcommand{\\cS}{\\mathcal{S}}\n",
    "\\newcommand{\\A}{\\mathcal{A}}\n",
    "\\newcommand{\\ZZ}{\\mathcal{Z}}\n",
    "\\newcommand{\\cN}{\\mathcal{N}}\n",
    "%%%%%%%%%%%%%%%%%%%%%%%%%%%%%%%%%%%%%%%%%%%%%%%%%%%%%%%%%%%%%%%%%%%%%\n",
    "%\n",
    "% The following are much more esoteric commands that I have left in\n",
    "% so that this file still processes. Use or delete as you see fit\n",
    "%\n",
    "\\newcommand{\\bv}[1]{\\mbox{BV($#1$)}}\n",
    "\\newcommand{\\comb}[2]{\\left(\\!\\!\\!\\begin{array}{c}#1\\\\#2\\end{array}\\!\\!\\!\\right)\n",
    "}\n",
    "\\newcommand{\\Lat}{{\\rm Lat}}\n",
    "\\newcommand{\\var}{\\mathop{\\rm var}}\n",
    "\\newcommand{\\Pt}{{\\mathcal P}}\n",
    "\\def\\tr(#1){{\\rm trace}(#1)}\n",
    "\\def\\Exp(#1){{\\mathbb E}(#1)}\n",
    "\\def\\Exps(#1){{\\mathbb E}\\sparen(#1)}\n",
    "\\newcommand{\\floor}[1]{\\left\\lfloor #1 \\right\\rfloor}\n",
    "\\newcommand{\\ceil}[1]{\\left\\lceil #1 \\right\\rceil}\n",
    "\\newcommand{\\hatt}[1]{\\widehat #1}\n",
    "\\newcommand{\\modeq}[3]{#1 \\equiv #2 \\,(\\text{mod}\\, #3)}\n",
    "\\newcommand{\\rmod}{\\,\\mathrm{mod}\\,}\n",
    "\\newcommand{\\p}{\\hphantom{+}}\n",
    "\\newcommand{\\vect}[1]{\\mbox{\\boldmath $ #1 $}}\n",
    "\\newcommand{\\reff}[2]{\\ref{#1}.\\ref{#2}}\n",
    "\\newcommand{\\psum}[2]{\\sum_{#1}^{#2}\\!\\!\\!'\\,\\,}\n",
    "\\newcommand{\\bin}[2]{\\left( \\begin{array}{@{}c@{}}\n",
    "\t\t\t\t#1 \\\\ #2\n",
    "\t\t\t\\end{array}\\right)}\n",
    "%\n",
    "%  Macros - some of these are in plain TeX (gasp!)\n",
    "%\n",
    "\\newcommand{\\be}{($\\beta$)}\n",
    "\\newcommand{\\eqp}{\\mathrel{{=}_p}}\n",
    "\\newcommand{\\ltp}{\\mathrel{{\\prec}_p}}\n",
    "\\newcommand{\\lep}{\\mathrel{{\\preceq}_p}}\n",
    "\\def\\brack#1{\\left \\{ #1 \\right \\}}\n",
    "\\def\\bul{$\\bullet$\\ }\n",
    "\\def\\cl{{\\rm cl}}\n",
    "\\let\\del=\\partial\n",
    "\\def\\enditem{\\par\\smallskip\\noindent}\n",
    "\\def\\implies{\\Rightarrow}\n",
    "\\def\\inpr#1,#2{\\t \\hbox{\\langle #1 , #2 \\rangle} \\t}\n",
    "\\def\\ip<#1,#2>{\\langle #1,#2 \\rangle}\n",
    "\\def\\lp{\\ell^p}\n",
    "\\def\\maxb#1{\\max \\brack{#1}}\n",
    "\\def\\minb#1{\\min \\brack{#1}}\n",
    "\\def\\mod#1{\\left \\vert #1 \\right \\vert}\n",
    "\\def\\norm#1{\\left \\Vert #1 \\right \\Vert}\n",
    "\\def\\paren(#1){\\left( #1 \\right)}\n",
    "\\def\\qed{\\hfill \\hbox{$\\Box$} \\smallskip}\n",
    "\\def\\sbrack#1{\\Bigl \\{ #1 \\Bigr \\} }\n",
    "\\def\\ssbrack#1{ \\{ #1 \\} }\n",
    "\\def\\smod#1{\\Bigl \\vert #1 \\Bigr \\vert}\n",
    "\\def\\smmod#1{\\bigl \\vert #1 \\bigr \\vert}\n",
    "\\def\\ssmod#1{\\vert #1 \\vert}\n",
    "\\def\\sspmod#1{\\vert\\, #1 \\, \\vert}\n",
    "\\def\\snorm#1{\\Bigl \\Vert #1 \\Bigr \\Vert}\n",
    "\\def\\ssnorm#1{\\Vert #1 \\Vert}\n",
    "\\def\\sparen(#1){\\Bigl ( #1 \\Bigr )}\n",
    "%\n",
    "%%%%%%%%%%%%%%%%%%%%%%%%%%%%%%%\n",
    "%\n",
    "% These environments allow you to get nice numbered headings\n",
    "%  for your Theorems, Definitions etc.  \n",
    "%\n",
    "%  Environments\n",
    "%\n",
    "%%%%%%%%%%%%%%%%%%%%%%%%%%%%%%%\n",
    "%\n",
    "%\\newtheorem{theorem}{Theorem}[section]\n",
    "%\\newtheorem{lemma}[theorem]{Lemma}\n",
    "%\\newtheorem{proposition}[theorem]{Proposition}\n",
    "%\\newtheorem{corollary}[theorem]{Corollary}\n",
    "%\\newtheorem{conjecture}[theorem]{Conjecture}\n",
    "%\\newtheorem{definition}[theorem]{Definition}\n",
    "%\\newtheorem{example}[theorem]{Example}\n",
    "%\\newtheorem{remark}[theorem]{Remark}\n",
    "%\\newtheorem{question}[theorem]{Question}\n",
    "%\\newtheorem{notation}[theorem]{Notation}\n",
    "%\\numberwithin{equation}{section}\n",
    "%\n",
    "%%%%%%%%%%%%%%%%%%%%%%%%%%%%%%%%%%%%%%%%%%%%%%%%%%%%%%%%%%%%%%%%%%\n",
    "%\n",
    "%  If you've got some funny special words that LaTeX might not\n",
    "% hyphenate properly, you can give it a helping hand:\n",
    "%\n",
    "%\n",
    "%\\hyphenation{Mar-cin-kie-wicz Rade-macher}\n",
    "%\n",
    "%%%%%%%%%%%%%%%%%%%%%%%%%%%%%%%%%%%%%%%%%%%%%%%%%%%%%%%%%%%%%%%%%%\n",
    "%\n",
    "% Commands for easier typing\n",
    "%\n",
    "\\newcommand{\\code}[1]{\\texttt{#1}}\n",
    "\\newcommand{\\tit}[1]{\\textit{#1}}\n",
    "\\newcommand{\\tbf}[1]{\\textbf{#1}}\n",
    "\\newcommand{\\mbf}[1]{\\mathbf{#1}}\n",
    "\\newcommand{\\mbb}[1]{\\mathbb{#1}}\n",
    "\\newcommand{\\bs}[1]{\\boldsymbol{#1}}\n",
    "\\newcommand{\\bigo}[1]{\\mathcal{O}\\left(#1\\right)}\n",
    "%\n",
    "\\renewcommand{\\thefootnote}{\\fnsymbol{footnote}}\n",
    "%\n",
    "%%%%%%%%%%%%%%%%%%%%%%%%%%%%%%%%%%%%%%%%%%%%%%%%%%%%%%%%%%%%%%%%%%\n",
    "%\n",
    "% Other cnetralised settings for easy access\n",
    "%\n",
    "%\n",
    "%\\graphicspath{ {./images/} }\n",
    "%\\DeclareGraphicsExtensions{.pdf,.png,.jpg}\n",
    "\\DeclareMathOperator*{\\argmin}{argmin}\n",
    "\\DeclareMathOperator*{\\argmax}{argmax}\n",
    "%%%%%%%%%%%%%%%%%%%%%%%%%%%%%%%%%%%%%%%%%%%%%%%%%%%%%%%%%%%%%%%%%%\n",
    "%\n",
    "% New commands\n",
    "%\n",
    "\\newcommand{\\norm}[1]{\\left\\lVert#1\\right\\rVert}\n",
    "\\newcommand{\\phdot}{\\mathrel{\\,\\cdot\\,}}\n",
    "$$"
   ]
  },
  {
   "cell_type": "markdown",
   "metadata": {},
   "source": [
    "# Chapter 0 - The Function (and other mathematical and computational preliminaries)"
   ]
  },
  {
   "cell_type": "markdown",
   "metadata": {},
   "source": [
    "The basic mathematical concepts that inform our study of vectors and matrices are sets,\n",
    "sequences (lists), functions, and probability theory.\n",
    "\n",
    "This chapter also includes an introduction to Python, the programming language we use to (i) model the mathematical objects of interest, (ii) write computational procedures, and (iii) carry out data analyses."
   ]
  },
  {
   "cell_type": "markdown",
   "metadata": {},
   "source": [
    "## 0.3 The function"
   ]
  },
  {
   "cell_type": "markdown",
   "metadata": {},
   "source": [
    "_Mathematicians never die - they just lose function._\n",
    "\n",
    "Loosely speaking, a function is a _rule_ that, for each element in some set $D$ of possible inputs, assigns a possible output:\n",
    "* The output is said to be the _image_ of the input under the function.\n",
    "* The input is a _pre-image_ of the output.\n",
    "* The set $D$ of possible imputs is called the _domain_ of the function.\n",
    "\n",
    "Formally, a _function_ is a (possibly infinite) set of pairs $(a, b)$, no two of which share the same first entry.\n",
    "\n",
    "For a function named $f$, the image of $q$ under $f$ is denoted by $f(q)$. If $r = f(q)$, we say that $q$ _maps to $r$ under_ $f$. The notation for \"$q$ maps to $r$\" is $q\\mapsto r$.\n",
    "\n",
    "It is convenient when specifying a function to specify a _co-domain_ for the function. The co-domain is a set from which the function's output values are chosen. Note that one has some leeway in choosing the co-domain since not all of its members need to be outputs.\n",
    "\n",
    "The notation\n",
    "$$\n",
    "f: D \\longrightarrow F\n",
    "$$\n",
    "means that $f$ is a function whose domain is the set $D$ and whose _co-domain_ (the set of possible outputs) is the set $F$. (More briefly: \"a function from $D$ to $F$\", or \"a function that maps $D$ to $F$.\")\n",
    "\n",
    "The _image_ of a function $f$ is the set of images of all domain elements. That is, the image of $f$ is the set of elements of the co-domain that actually occur as _outputs_.\n",
    "\n",
    "**Example 0.3.5:** Consider the function prod that takes as input a pair of integers greater than 1 and outputs their product. The domain (set of inputs) is the set of pairs of integers greater than 1. We choose to define the co-domain to be the set of all integers greater than 1. The\n",
    "image of the function, however, is the set of _composite_ integers since no domain element maps to a prime number."
   ]
  },
  {
   "cell_type": "markdown",
   "metadata": {
    "collapsed": true
   },
   "source": [
    "### 0.3.1 Functions versus procedures, versus computational problems"
   ]
  },
  {
   "cell_type": "markdown",
   "metadata": {},
   "source": [
    "### 0.3.2 The two computational problems related to a function\n",
    "To misquote _Spiderman_,\n",
    "\n",
    "_With great generality comes great computational difficulty._"
   ]
  },
  {
   "cell_type": "markdown",
   "metadata": {},
   "source": [
    "### 0.3.3 Notation for the set of functions with given domain and co-domain\n",
    "For sets $D$ and $F$, we use the notation $F^D$ to denote all functions from $D$ to $F$. For example, the set of functions from the set $W$ of words to the set $\\R$ of real numbers is denoted $\\R^W$.\n",
    "\n",
    "This notation derives from a mathematical \"pun\":\n",
    "\n",
    "**Fact 0.3.9:** For any _finite_ sets $D$ and $F$, $\\left|F^D\\right| = \\left|F\\right|^{|D|}$."
   ]
  },
  {
   "cell_type": "markdown",
   "metadata": {},
   "source": [
    "### 0.3.4 Identity function\n",
    "For any domain $D$, there is a function $id_D: D\\longrightarrow D$ called the _identity function_ for $D$, defined by\n",
    "$$\n",
    "\\text{id}_D(d) = d\n",
    "$$\n",
    "for every $d\\in D$."
   ]
  },
  {
   "cell_type": "markdown",
   "metadata": {},
   "source": [
    "### 0.3.5 Composition of functions\n",
    "The operation _functional composition_ combines two functions to get a new function. We will later define matrix multiplication in terms of functional composition. Given two functions $f: A\\longrightarrow B$ and $g: B\\longrightarrow C$, the _function_ $g\\circ f$, called the composition of $g$ and $f$, is a function whose domain is $A$ and its co-domain is $C$. It is defined by the rule\n",
    "$$\n",
    "(g\\circ f)(x) = g(f(x))\n",
    "$$\n",
    "for every $x\\in A$.\n",
    "\n",
    "If the image of $f$ is not contained in the domain of $g$ then $g\\circ f$ is not a legal expression."
   ]
  },
  {
   "cell_type": "markdown",
   "metadata": {},
   "source": [
    "### 0.3.6 Associativity of function composition\n",
    "**Proposition 0.3.12 (Associativity of composition):** For functions $f, g, h$,\n",
    "$$\n",
    "h\\circ (g\\circ f) = (h\\circ g)\\circ f\n",
    "$$\n",
    "if the compositions are legal. The proof repetitively makes use of the defintion $(g\\circ f)(x) = g(f(x)),\\:\\forall x\\in A$.\n",
    "\n",
    "Associativity means that parentheses are unnecessary in composition expression: since $h\\circ(g\\circ f)$ is the same as $(h\\circ g)\\circ f$, we can write either of them as simply $h\\circ g\\circ f$."
   ]
  },
  {
   "cell_type": "markdown",
   "metadata": {},
   "source": [
    "### 0.3.7 Functional inverse\n",
    "Functional inverses reverse the effect of each other, e.g. encryption and decryption functions. In general,\n",
    "\n",
    "**Definition 0.3.13:** We say that functions $f$ and $g$ are _functional inverses_ of each other if\n",
    "* $f\\circ g$ is defined and is the identity function on the domain of $g$, and\n",
    "* $g\\circ f$ is defined and is the identity function on the domain of $f$.\n",
    "\n",
    "Not every function has an inverse. A function that has an inverse is said to be _invertible_. Notice the concepts of **_one-to-one_** and **_onto_**\n",
    "are introduced here.\n",
    "\n",
    "**Definition 0.3.14:** Consider a function $f: D\\longmapsto F$:\n",
    "* $f$ is _one-to-one_ if $\\forall x, y\\in D,\\; f(x) = f(y) \\Rightarrow x = y$.\n",
    "* $f$ is _onto_ if $\\forall z\\in F,\\;\\exists x\\in D: f(x) = z$.\n",
    "\n",
    "Figure 2 & 3 are examples of functions that are not onto nor one-to-one respectively.\n",
    "\n",
    "**Example 0.3.15:** Consider the function `prod` defined in Example 0.3.4 (Page 4). Since a prime number has no pre-image, this function is not onto. Since there are multiple pairs of inters, e.g. $(2, 3)$ and $(3, 2)$, that map to the same integer, the function also is not one-to-one.\n",
    "\n",
    "**Lemma 0.3.16:** An invertible function is one-to-one.\n",
    "\n",
    "**Lemma 0.3.17:** An invertible function is onto.\n",
    "\n",
    "Both lemmas can be shown to hold via contradiction.\n",
    "\n",
    "**Theorem 0.3.18 (Function Invertibility Theorem):** A function is invertible _iff_ it is **one-to-one** and **onto**.\n",
    "\n",
    "**Proof**\n",
    "\n",
    "Lemma 0.3.16 and 0.3.17 show that an invertible function is one-to-one and onto. Our task here is to show the other direction also holds. Suppose conversely that $f$ is a function that is one-to-one and onto. The trick here is defining a function $g$ whose domain is the co-domain of $f$ as follows:\n",
    "\n",
    "For each element $\\tilde{y}$ of the co-domain of $f$, since $f$ is onto and one-to-one, $f$'s domain contains a unique element $\\tilde{x}$ such that $f(\\tilde x) = \\tilde y$; we define $g(\\tilde y) = \\tilde x$.\n",
    "\n",
    "Next we show that $g \\circ f$ and $f \\circ g$ are both the identity function on $f$ and $g$'s domain respectively:\n",
    "\n",
    "$g\\circ f(\\tilde x) = \\tilde x$ and $f\\circ g(\\tilde y) = \\tilde y$.\n",
    "\n",
    "**Lemma 0.3.19:** Every function has at most one functional inverse.\n",
    "\n",
    "**Proof**\n",
    "\n",
    "Let $f: U\\longmapsto V$ be any invertible function. Suppose that $g_1$ and $g_2$ are inverses of $f$. We show that $\\forall v\\in V: g_1(v) = g_2(v)$, i.e. $g_1$ and $g_2$ are the same function.\n",
    "\n",
    "Let $v\\in V$ be any element of the co-domain of $f$. Since f is onto and one-to-one, there is a unique element $u\\in U$ such that $f(u) = v$. By the definition of an inverse, $g_1(v) = u = g_2(v)$. Hence $g_1 = g_2$.\n",
    "\n",
    "This proof should follow naturally from Thorem 0.3.18 (Function Invertibility Theorem).\n",
    "\n",
    "Here comes the subtle questions: how to show two _functions_ are equal? Ultimately, we need to show that all of the (element, image) pairs are equal (most likely infinitely many)."
   ]
  },
  {
   "cell_type": "markdown",
   "metadata": {
    "collapsed": true
   },
   "source": [
    "### 0.3.8 Invertibility of the composition of invertible functions\n",
    "**Lemma 0.3.20:** If $f$ and $g$ are invertible functions and $f\\circ g$ exists then $f\\circ g$ is invertible and $(f\\circ g)^{-1} = g^{-1}\\circ f^{-1}$.\n",
    "\n",
    "**Problem 0.3.21:** Prove Lemma 0.3.20.\n",
    "\n",
    "Think of matrix inversion: $(AB)^{-1} = B^{-1}A^{-1}$.\n",
    "\n",
    "**Problem 0.3.22:** Use diagrams/words to specify functions $g$ and $f$ that are a counterexample to the following:\n",
    "\n",
    "**False Assertion 0.3.23:** Suppose that $f$ and $g$ are functions and $f \\circ g$ is invertible, then $f$ and $g$ are invertible.\n",
    "\n",
    "[Can the composition of two non-invertible functions be invertible?](http://math.stackexchange.com/questions/1169039/can-the-composition-of-two-non-invertible-functions-be-invertible)\n",
    "\n",
    "For $f\\circ g$ to be invertible, $f$ only needs to be invertible when restricted to the _range_ of $g$. $f$ may not be invertible on its whole domain. For example, take $f(x) = x^2$ and $g(x) = e^x$. It then follows that $(f \\circ g)(x) = e^{2x}$ is invertible but $f$ itself is not on its whole domain."
   ]
  },
  {
   "cell_type": "markdown",
   "metadata": {
    "collapsed": true
   },
   "source": [
    "## 0.4 Probability"
   ]
  },
  {
   "cell_type": "markdown",
   "metadata": {},
   "source": [
    "## 0.5 Lab: Introduction to Python - sets, lists, dictionaries and comprehensions"
   ]
  },
  {
   "cell_type": "markdown",
   "metadata": {},
   "source": [
    "\n",
    "We will be writing all our code in Python (Version 3.x). In writing Python code, we emphasise the use of _comprehensions_ that allow us to express computations over the elements of a set, list or dictionary without a traditional `for`-loop. Use of comprehensions leads to more compact and more readable code that more clearly expresses the mathematical ideas behind the computation."
   ]
  },
  {
   "cell_type": "markdown",
   "metadata": {},
   "source": [
    "### 0.5.1 Simple expressions"
   ]
  },
  {
   "cell_type": "markdown",
   "metadata": {},
   "source": [
    "**Arithmetic and numbers**\n",
    "\n",
    "* `-`: Taking the negative of a number, a _unary_ operator.\n",
    "* `**`: Exponentiation, a binary operator.\n",
    "* `//`: Truncating integer division.\n",
    "* `%`: Modulo (finding the remainder).\n",
    "\n",
    "As usual, `**` has _precedence_ over `*`, `/` and `//` which in turn have precedence over `+` and `-`, and parentheses can be used for grouping.\n",
    "\n",
    "**Strings**\n",
    "\n",
    "Below, Python is doing what it usually does: it _evaluates_ (finds the value of) the expression it is given and prints the value. The value of a string is just the string itself.\n",
    "\n",
    "**Comparisons and conditions and Booleans**"
   ]
  },
  {
   "cell_type": "code",
   "execution_count": 1,
   "metadata": {
    "collapsed": false
   },
   "outputs": [
    {
     "data": {
      "text/plain": [
       "\"So's this one.\""
      ]
     },
     "execution_count": 1,
     "metadata": {},
     "output_type": "execute_result"
    }
   ],
   "source": [
    "\"So's this one.\""
   ]
  },
  {
   "cell_type": "markdown",
   "metadata": {},
   "source": [
    "### 0.5.2 Assignment statements\n",
    "\n",
    "A variable name must start with a letter and must exclude certain special symbols such as the dot (period). The underscore `_` is allowed in a variable name. A variable can be bound to a value of _any_ type.\n",
    "\n",
    "It is important to remember (and second nature to most experienced programmers) that an assignment statement binds a variable to the _value_ of an expression, not to the expression itself. Python first _evaluates_ the RHS and only then assigns the resulting value to the LHS. This is the behaviour of most programming languages."
   ]
  },
  {
   "cell_type": "markdown",
   "metadata": {},
   "source": [
    "### 0.5.3 Conditional expressions\n",
    "\n",
    "There is a syntax for conditional expressions:\n",
    "\n",
    "`<expression> if <condition> else <expression>`\n",
    "\n",
    "Python evaluates the condition; depending on whether it is `True` or `False`, Python then evaluates either the first or second _expression_, and uses the result as the output of the entire conditional expression.\n",
    "\n",
    "\n",
    "For example, the following is the absolute value of `x`:"
   ]
  },
  {
   "cell_type": "code",
   "execution_count": 4,
   "metadata": {
    "collapsed": false
   },
   "outputs": [
    {
     "data": {
      "text/plain": [
       "5"
      ]
     },
     "execution_count": 4,
     "metadata": {},
     "output_type": "execute_result"
    }
   ],
   "source": [
    "x = -5\n",
    "\n",
    "x if x >= 0 else -x"
   ]
  },
  {
   "cell_type": "markdown",
   "metadata": {},
   "source": [
    "**Task 0.5.4**"
   ]
  },
  {
   "cell_type": "code",
   "execution_count": 5,
   "metadata": {
    "collapsed": false
   },
   "outputs": [
    {
     "data": {
      "text/plain": [
       "1.0"
      ]
     },
     "execution_count": 5,
     "metadata": {},
     "output_type": "execute_result"
    }
   ],
   "source": [
    "x = -9\n",
    "y = 1/2\n",
    "\n",
    "2**(y + 1/2) if x + 10 < 0 else 2**(y - 1/2)"
   ]
  },
  {
   "cell_type": "markdown",
   "metadata": {},
   "source": [
    "### Collections\n",
    "\n",
    "Python provides some simple data structures for grouping together _multiple_ values, and integrates them with the rest of the language. These data structures are called _collections_. We start with sets."
   ]
  },
  {
   "cell_type": "markdown",
   "metadata": {},
   "source": [
    "### 0.5.4 Sets\n",
    "\n",
    "A set is an _unordered_ collection in which each value occurs _at most once_. We can use curly braces (`{}`) to give an expression whose value is a set."
   ]
  },
  {
   "cell_type": "code",
   "execution_count": 6,
   "metadata": {
    "collapsed": false
   },
   "outputs": [
    {
     "data": {
      "text/plain": [
       "{3, 'a'}"
      ]
     },
     "execution_count": 6,
     "metadata": {},
     "output_type": "execute_result"
    }
   ],
   "source": [
    "{1+2, 3, \"a\"}"
   ]
  },
  {
   "cell_type": "code",
   "execution_count": 7,
   "metadata": {
    "collapsed": false
   },
   "outputs": [
    {
     "data": {
      "text/plain": [
       "{1, 2, 3}"
      ]
     },
     "execution_count": 7,
     "metadata": {},
     "output_type": "execute_result"
    }
   ],
   "source": [
    "{2, 1, 3}"
   ]
  },
  {
   "cell_type": "markdown",
   "metadata": {},
   "source": [
    "Note that _duplicates_ are _eliminated_ and that the order in which the elements of the output are printed does not necessarily match the input.\n",
    "\n",
    "The _cardinality_ of a set $S$ is the number of elements in the set, denoted $|S|$. In Python, this is obtained using the procedure `len()`:"
   ]
  },
  {
   "cell_type": "code",
   "execution_count": 10,
   "metadata": {
    "collapsed": false
   },
   "outputs": [
    {
     "data": {
      "text/plain": [
       "3"
      ]
     },
     "execution_count": 10,
     "metadata": {},
     "output_type": "execute_result"
    }
   ],
   "source": [
    "len({'a', 'b', 'c', 'a', 'a'})\n",
    "# note the cardinality of this set is NOT 5"
   ]
  },
  {
   "cell_type": "markdown",
   "metadata": {},
   "source": [
    "**Summing**\n",
    "\n",
    "The sum of elements of a _collection_ of values is obtained via the procedure `sum()`: "
   ]
  },
  {
   "cell_type": "code",
   "execution_count": 11,
   "metadata": {
    "collapsed": false
   },
   "outputs": [
    {
     "data": {
      "text/plain": [
       "6"
      ]
     },
     "execution_count": 11,
     "metadata": {},
     "output_type": "execute_result"
    }
   ],
   "source": [
    "sum({1, 2, 3})"
   ]
  },
  {
   "cell_type": "markdown",
   "metadata": {},
   "source": [
    "For some reason we would like to start the sum not at zero but at some other value, supply this value as the second argument to `sum()`:"
   ]
  },
  {
   "cell_type": "code",
   "execution_count": 12,
   "metadata": {
    "collapsed": false
   },
   "outputs": [
    {
     "data": {
      "text/plain": [
       "16"
      ]
     },
     "execution_count": 12,
     "metadata": {},
     "output_type": "execute_result"
    }
   ],
   "source": [
    "sum({1, 2, 3}, 10)"
   ]
  },
  {
   "cell_type": "markdown",
   "metadata": {},
   "source": [
    "**Testing set membership**\n",
    "\n",
    "Membership in a set can be tested using the `in` and `not in` operator. This is consistent with maths and `LaTex` convention."
   ]
  },
  {
   "cell_type": "code",
   "execution_count": 15,
   "metadata": {
    "collapsed": false
   },
   "outputs": [
    {
     "name": "stdout",
     "output_type": "stream",
     "text": [
      "True\n",
      "False\n",
      "True\n"
     ]
    }
   ],
   "source": [
    "S = {1, 2, 3}\n",
    "\n",
    "print(2 in S)\n",
    "print(4 in S)\n",
    "print(4 not in S)"
   ]
  },
  {
   "cell_type": "markdown",
   "metadata": {
    "collapsed": true
   },
   "source": [
    "** Set union and intersection**\n",
    "\n",
    "The _union_ and _intersection_ of two sets are used to generate _new_ sets. Python use the vertical bar `|` and the ampersand `&` as the _union_ and _intersection_ operator:"
   ]
  },
  {
   "cell_type": "code",
   "execution_count": 1,
   "metadata": {
    "collapsed": false
   },
   "outputs": [
    {
     "name": "stdout",
     "output_type": "stream",
     "text": [
      "{1, 2, 3, 4}\n",
      "{2, 3}\n"
     ]
    }
   ],
   "source": [
    "S = {1, 2, 3}\n",
    "T = {2, 3, 4}\n",
    "\n",
    "print(S | T)\n",
    "print(S & T)"
   ]
  },
  {
   "cell_type": "markdown",
   "metadata": {},
   "source": [
    "**Mutating a set**\n",
    "\n",
    "A value that cna be **altered** is a **_mutable_** value. Sets are _mutable_; elements can be added and removed using the `add()` and `remove()` methods:"
   ]
  },
  {
   "cell_type": "code",
   "execution_count": 2,
   "metadata": {
    "collapsed": false
   },
   "outputs": [
    {
     "data": {
      "text/plain": [
       "{1, 3, 4}"
      ]
     },
     "execution_count": 2,
     "metadata": {},
     "output_type": "execute_result"
    }
   ],
   "source": [
    "S = {1, 2, 3}\n",
    "S.add(4)\n",
    "S.remove(2)\n",
    "S"
   ]
  },
  {
   "cell_type": "markdown",
   "metadata": {},
   "source": [
    "The syntax of dot is for _methods_ in _object-oriented_ programming languages. We can think of a method as a _procedure_ that takes an _extra argument_, the value of the expression to the left of the dot.\n",
    "\n",
    "Python provides a method `update()` to add to a set _all_ the elements of another collection (e.g. a set or a list):"
   ]
  },
  {
   "cell_type": "code",
   "execution_count": 3,
   "metadata": {
    "collapsed": false
   },
   "outputs": [
    {
     "data": {
      "text/plain": [
       "{1, 3, 4, 5, 6}"
      ]
     },
     "execution_count": 3,
     "metadata": {},
     "output_type": "execute_result"
    }
   ],
   "source": [
    "S.update({4, 5, 6})\n",
    "S"
   ]
  },
  {
   "cell_type": "markdown",
   "metadata": {},
   "source": [
    "Similarly, one can intersect a set with another collection, removing from the set all elements not in the other \n",
    "collection."
   ]
  },
  {
   "cell_type": "code",
   "execution_count": 4,
   "metadata": {
    "collapsed": false
   },
   "outputs": [
    {
     "data": {
      "text/plain": [
       "{5, 6}"
      ]
     },
     "execution_count": 4,
     "metadata": {},
     "output_type": "execute_result"
    }
   ],
   "source": [
    "S.intersection_update({5, 6, 7, 8, 9})\n",
    "S"
   ]
  },
  {
   "cell_type": "markdown",
   "metadata": {},
   "source": [
    "Suppose two variables are _bound_ to the same value. A mutation to the value made through one variable isis visible in the other variable.\n",
    "\n",
    "This behaviour reflects the fact that Python stores _only one copy_ of the underlying data structure. Both `T` and `S` below point to the same data structure. This aspect of Python will be important to us: many different variables can point to the same huge set _without_ causing a blow-up of storage."
   ]
  },
  {
   "cell_type": "code",
   "execution_count": 6,
   "metadata": {
    "collapsed": false
   },
   "outputs": [
    {
     "data": {
      "text/plain": [
       "{6}"
      ]
     },
     "execution_count": 6,
     "metadata": {},
     "output_type": "execute_result"
    }
   ],
   "source": [
    "T = S\n",
    "T.remove(5)\n",
    "S"
   ]
  },
  {
   "cell_type": "markdown",
   "metadata": {},
   "source": [
    "Python provides a _method_ for _copying_ a collection such as a set:"
   ]
  },
  {
   "cell_type": "code",
   "execution_count": 9,
   "metadata": {
    "collapsed": false
   },
   "outputs": [
    {
     "name": "stdout",
     "output_type": "stream",
     "text": [
      "{5, 6}\n",
      "{6}\n"
     ]
    }
   ],
   "source": [
    "# The assignment statement binds U not to the value of S but to a copy of it,\n",
    "# so mutations to the value of U don't affect the value of S.\n",
    "U = S.copy()\n",
    "U.add(5)\n",
    "print(U)\n",
    "print(S)"
   ]
  },
  {
   "cell_type": "markdown",
   "metadata": {},
   "source": [
    "**Set comprehensions**\n",
    "\n",
    "Python provides for expressions (e.g. a functionality) called _comprehensions_ that let us _build collections out of other collections_. In this book, the author uses comprehensions a lot not only because they are useful in constructing collections but also because comprehensions **mimic traditional methematical notation**. For example,"
   ]
  },
  {
   "cell_type": "code",
   "execution_count": 10,
   "metadata": {
    "collapsed": false
   },
   "outputs": [
    {
     "data": {
      "text/plain": [
       "{2, 4, 6}"
      ]
     },
     "execution_count": 10,
     "metadata": {},
     "output_type": "execute_result"
    }
   ],
   "source": [
    "{2 * x for x in {1, 2, 3}}"
   ]
  },
  {
   "cell_type": "code",
   "execution_count": null,
   "metadata": {
    "collapsed": true
   },
   "outputs": [],
   "source": []
  }
 ],
 "metadata": {
  "anaconda-cloud": {},
  "kernelspec": {
   "display_name": "Python 3",
   "language": "python",
   "name": "python3"
  },
  "language_info": {
   "codemirror_mode": {
    "name": "ipython",
    "version": 3
   },
   "file_extension": ".py",
   "mimetype": "text/x-python",
   "name": "python",
   "nbconvert_exporter": "python",
   "pygments_lexer": "ipython3",
   "version": "3.5.2+"
  }
 },
 "nbformat": 4,
 "nbformat_minor": 1
}
