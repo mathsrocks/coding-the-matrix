{
 "cells": [
  {
   "cell_type": "markdown",
   "metadata": {},
   "source": [
    "# Latex Header Section: Skip\n",
    "$$\n",
    "%%%%%%%%%%%%%%%%%%%%%%%%%%%%%%%%%%%%%%%%%%%%%%%%%%%%%%%%%%%%%%%%%\n",
    "%\n",
    "%  The following are some simple LaTeX macros to give some\n",
    "%  commonly used letters in funny fonts. You may need more or less of\n",
    "%  these\n",
    "%\n",
    "\\newcommand{\\R}{\\mathbb{R}}\n",
    "\\newcommand{\\Q}{\\mathbb{Q}}\n",
    "\\newcommand{\\C}{\\mathbb{C}}\n",
    "\\newcommand{\\N}{\\mathbb{N}}\n",
    "\\newcommand{\\F}{\\mathbb{F}}\n",
    "\\newcommand{\\PP}{\\mathbb{P}}\n",
    "\\newcommand{\\T}{\\mathbb{T}}\n",
    "\\newcommand{\\Z}{\\mathbb{Z}}\n",
    "\\newcommand{\\B}{\\mathfrak{B}}\n",
    "\\newcommand{\\BB}{\\mathcal{B}}\n",
    "\\newcommand{\\M}{\\mathfrak{M}}\n",
    "\\newcommand{\\X}{\\mathfrak{X}}\n",
    "\\newcommand{\\Y}{\\mathfrak{Y}}\n",
    "\\newcommand{\\CC}{\\mathcal{C}}\n",
    "\\newcommand{\\E}{\\mathbb{E}}\n",
    "\\newcommand{\\cP}{\\mathcal{P}}\n",
    "\\newcommand{\\cS}{\\mathcal{S}}\n",
    "\\newcommand{\\A}{\\mathcal{A}}\n",
    "\\newcommand{\\ZZ}{\\mathcal{Z}}\n",
    "\\newcommand{\\cN}{\\mathcal{N}}\n",
    "%%%%%%%%%%%%%%%%%%%%%%%%%%%%%%%%%%%%%%%%%%%%%%%%%%%%%%%%%%%%%%%%%%%%%\n",
    "%\n",
    "% The following are much more esoteric commands that I have left in\n",
    "% so that this file still processes. Use or delete as you see fit\n",
    "%\n",
    "\\newcommand{\\bv}[1]{\\mbox{BV($#1$)}}\n",
    "\\newcommand{\\comb}[2]{\\left(\\!\\!\\!\\begin{array}{c}#1\\\\#2\\end{array}\\!\\!\\!\\right)\n",
    "}\n",
    "\\newcommand{\\Lat}{{\\rm Lat}}\n",
    "\\newcommand{\\var}{\\mathop{\\rm var}}\n",
    "\\newcommand{\\Pt}{{\\mathcal P}}\n",
    "\\def\\tr(#1){{\\rm trace}(#1)}\n",
    "\\def\\Exp(#1){{\\mathbb E}(#1)}\n",
    "\\def\\Exps(#1){{\\mathbb E}\\sparen(#1)}\n",
    "\\newcommand{\\floor}[1]{\\left\\lfloor #1 \\right\\rfloor}\n",
    "\\newcommand{\\ceil}[1]{\\left\\lceil #1 \\right\\rceil}\n",
    "\\newcommand{\\hatt}[1]{\\widehat #1}\n",
    "\\newcommand{\\modeq}[3]{#1 \\equiv #2 \\,(\\text{mod}\\, #3)}\n",
    "\\newcommand{\\rmod}{\\,\\mathrm{mod}\\,}\n",
    "\\newcommand{\\p}{\\hphantom{+}}\n",
    "\\newcommand{\\vect}[1]{\\mbox{\\boldmath $ #1 $}}\n",
    "\\newcommand{\\reff}[2]{\\ref{#1}.\\ref{#2}}\n",
    "\\newcommand{\\psum}[2]{\\sum_{#1}^{#2}\\!\\!\\!'\\,\\,}\n",
    "\\newcommand{\\bin}[2]{\\left( \\begin{array}{@{}c@{}}\n",
    "\t\t\t\t#1 \\\\ #2\n",
    "\t\t\t\\end{array}\\right)}\n",
    "%\n",
    "%  Macros - some of these are in plain TeX (gasp!)\n",
    "%\n",
    "\\newcommand{\\be}{($\\beta$)}\n",
    "\\newcommand{\\eqp}{\\mathrel{{=}_p}}\n",
    "\\newcommand{\\ltp}{\\mathrel{{\\prec}_p}}\n",
    "\\newcommand{\\lep}{\\mathrel{{\\preceq}_p}}\n",
    "\\def\\brack#1{\\left \\{ #1 \\right \\}}\n",
    "\\def\\bul{$\\bullet$\\ }\n",
    "\\def\\cl{{\\rm cl}}\n",
    "\\let\\del=\\partial\n",
    "\\def\\enditem{\\par\\smallskip\\noindent}\n",
    "\\def\\implies{\\Rightarrow}\n",
    "\\def\\inpr#1,#2{\\t \\hbox{\\langle #1 , #2 \\rangle} \\t}\n",
    "\\def\\ip<#1,#2>{\\langle #1,#2 \\rangle}\n",
    "\\def\\lp{\\ell^p}\n",
    "\\def\\maxb#1{\\max \\brack{#1}}\n",
    "\\def\\minb#1{\\min \\brack{#1}}\n",
    "\\def\\mod#1{\\left \\vert #1 \\right \\vert}\n",
    "\\def\\norm#1{\\left \\Vert #1 \\right \\Vert}\n",
    "\\def\\paren(#1){\\left( #1 \\right)}\n",
    "\\def\\qed{\\hfill \\hbox{$\\Box$} \\smallskip}\n",
    "\\def\\sbrack#1{\\Bigl \\{ #1 \\Bigr \\} }\n",
    "\\def\\ssbrack#1{ \\{ #1 \\} }\n",
    "\\def\\smod#1{\\Bigl \\vert #1 \\Bigr \\vert}\n",
    "\\def\\smmod#1{\\bigl \\vert #1 \\bigr \\vert}\n",
    "\\def\\ssmod#1{\\vert #1 \\vert}\n",
    "\\def\\sspmod#1{\\vert\\, #1 \\, \\vert}\n",
    "\\def\\snorm#1{\\Bigl \\Vert #1 \\Bigr \\Vert}\n",
    "\\def\\ssnorm#1{\\Vert #1 \\Vert}\n",
    "\\def\\sparen(#1){\\Bigl ( #1 \\Bigr )}\n",
    "%\n",
    "%%%%%%%%%%%%%%%%%%%%%%%%%%%%%%%\n",
    "%\n",
    "% These environments allow you to get nice numbered headings\n",
    "%  for your Theorems, Definitions etc.  \n",
    "%\n",
    "%  Environments\n",
    "%\n",
    "%%%%%%%%%%%%%%%%%%%%%%%%%%%%%%%\n",
    "%\n",
    "%\\newtheorem{theorem}{Theorem}[section]\n",
    "%\\newtheorem{lemma}[theorem]{Lemma}\n",
    "%\\newtheorem{proposition}[theorem]{Proposition}\n",
    "%\\newtheorem{corollary}[theorem]{Corollary}\n",
    "%\\newtheorem{conjecture}[theorem]{Conjecture}\n",
    "%\\newtheorem{definition}[theorem]{Definition}\n",
    "%\\newtheorem{example}[theorem]{Example}\n",
    "%\\newtheorem{remark}[theorem]{Remark}\n",
    "%\\newtheorem{question}[theorem]{Question}\n",
    "%\\newtheorem{notation}[theorem]{Notation}\n",
    "%\\numberwithin{equation}{section}\n",
    "%\n",
    "%%%%%%%%%%%%%%%%%%%%%%%%%%%%%%%%%%%%%%%%%%%%%%%%%%%%%%%%%%%%%%%%%%\n",
    "%\n",
    "%  If you've got some funny special words that LaTeX might not\n",
    "% hyphenate properly, you can give it a helping hand:\n",
    "%\n",
    "%\n",
    "%\\hyphenation{Mar-cin-kie-wicz Rade-macher}\n",
    "%\n",
    "%%%%%%%%%%%%%%%%%%%%%%%%%%%%%%%%%%%%%%%%%%%%%%%%%%%%%%%%%%%%%%%%%%\n",
    "%\n",
    "% Commands for easier typing\n",
    "%\n",
    "\\newcommand{\\code}[1]{\\texttt{#1}}\n",
    "\\newcommand{\\tit}[1]{\\textit{#1}}\n",
    "\\newcommand{\\tbf}[1]{\\textbf{#1}}\n",
    "\\newcommand{\\mbf}[1]{\\mathbf{#1}}\n",
    "\\newcommand{\\mbb}[1]{\\mathbb{#1}}\n",
    "\\newcommand{\\bs}[1]{\\boldsymbol{#1}}\n",
    "\\newcommand{\\bigo}[1]{\\mathcal{O}\\left(#1\\right)}\n",
    "%\n",
    "\\renewcommand{\\thefootnote}{\\fnsymbol{footnote}}\n",
    "%\n",
    "%%%%%%%%%%%%%%%%%%%%%%%%%%%%%%%%%%%%%%%%%%%%%%%%%%%%%%%%%%%%%%%%%%\n",
    "%\n",
    "% Other cnetralised settings for easy access\n",
    "%\n",
    "%\n",
    "%\\graphicspath{ {./images/} }\n",
    "%\\DeclareGraphicsExtensions{.pdf,.png,.jpg}\n",
    "\\DeclareMathOperator*{\\argmin}{argmin}\n",
    "\\DeclareMathOperator*{\\argmax}{argmax}\n",
    "%%%%%%%%%%%%%%%%%%%%%%%%%%%%%%%%%%%%%%%%%%%%%%%%%%%%%%%%%%%%%%%%%%\n",
    "%\n",
    "% New commands\n",
    "%\n",
    "\\newcommand{\\norm}[1]{\\left\\lVert#1\\right\\rVert}\n",
    "\\newcommand{\\phdot}{\\mathrel{\\,\\cdot\\,}}\n",
    "$$"
   ]
  },
  {
   "cell_type": "markdown",
   "metadata": {},
   "source": [
    "# Chapter 0 - The Function (and other mathematical and computational preliminaries)"
   ]
  },
  {
   "cell_type": "markdown",
   "metadata": {},
   "source": [
    "The basic mathematical concepts that inform our study of vectors and matrices are sets,\n",
    "sequences (lists), functions, and probability theory.\n",
    "\n",
    "This chapter also includes an introduction to Python, the programming language we use to (i) model the mathematical objects of interest, (ii) write computational procedures, and (iii) carry out data analyses."
   ]
  },
  {
   "cell_type": "markdown",
   "metadata": {},
   "source": [
    "## 0.3 The function"
   ]
  },
  {
   "cell_type": "markdown",
   "metadata": {},
   "source": [
    "_Mathematicians never die - they just lose function._\n",
    "\n",
    "Loosely speaking, a function is a _rule_ that, for each element in some set $D$ of possible inputs, assigns a possible output:\n",
    "* The output is said to be the _image_ of the input under the function.\n",
    "* The input is a _pre-image_ of the output.\n",
    "* The set $D$ of possible imputs is called the _domain_ of the function.\n",
    "\n",
    "Formally, a _function_ is a (possibly infinite) set of pairs $(a, b)$, no two of which share the same first entry.\n",
    "\n",
    "For a function named $f$, the image of $q$ under $f$ is denoted by $f(q)$. If $r = f(q)$, we say that $q$ _maps to $r$ under_ $f$. The notation for \"$q$ maps to $r$\" is $q\\mapsto r$.\n",
    "\n",
    "It is convenient when specifying a function to specify a _co-domain_ for the function. The co-domain is a set from which the function's output values are chosen. Note that one has some leeway in choosing the co-domain since not all of its members need to be outputs.\n",
    "\n",
    "The notation\n",
    "$$\n",
    "f: D \\longrightarrow F\n",
    "$$\n",
    "means that $f$ is a function whose domain is the set $D$ and whose _co-domain_ (the set of possible outputs) is the set $F$. (More briefly: \"a function from $D$ to $F$\", or \"a function that maps $D$ to $F$.\")\n",
    "\n",
    "The _image_ of a function $f$ is the set of images of all domain elements. That is, the image of $f$ is the set of elements of the co-domain that actually occur as _outputs_.\n",
    "\n",
    "**Example 0.3.5:** Consider the function prod that takes as input a pair of integers greater than 1 and outputs their product. The domain (set of inputs) is the set of pairs of integers greater than 1. We choose to define the co-domain to be the set of all integers greater than 1. The\n",
    "image of the function, however, is the set of _composite_ integers since no domain element maps to a prime number."
   ]
  },
  {
   "cell_type": "markdown",
   "metadata": {
    "collapsed": true
   },
   "source": [
    "### 0.3.1 Functions versus procedures, versus computational problems"
   ]
  },
  {
   "cell_type": "markdown",
   "metadata": {},
   "source": [
    "### 0.3.2 The two computational problems related to a function\n",
    "To misquote _Spiderman_,\n",
    "\n",
    "_With great generality comes great computational difficulty._"
   ]
  },
  {
   "cell_type": "markdown",
   "metadata": {},
   "source": [
    "### 0.3.3 Notation for the set of functions with given domain and co-domain\n",
    "For sets $D$ and $F$, we use the notation $F^D$ to denote all functions from $D$ to $F$. For example, the set of functions from the set $W$ of words to the set $\\R$ of real numbers is denoted $\\R^W$.\n",
    "\n",
    "This notation derives from a mathematical \"pun\":\n",
    "\n",
    "**Fact 0.3.9:** For any _finite_ sets $D$ and $F$, $\\left|F^D\\right| = \\left|F\\right|^{|D|}$."
   ]
  },
  {
   "cell_type": "markdown",
   "metadata": {},
   "source": [
    "### 0.3.4 Identity function\n",
    "For any domain $D$, there is a function $id_D: D\\longrightarrow D$ called the _identity function_ for $D$, defined by\n",
    "$$\n",
    "\\text{id}_D(d) = d\n",
    "$$\n",
    "for every $d\\in D$."
   ]
  },
  {
   "cell_type": "markdown",
   "metadata": {},
   "source": [
    "### 0.3.5 Composition of functions\n",
    "The operation _functional composition_ combines two functions to get a new function. We will later define matrix multiplication in terms of functional composition. Given two functions $f: A\\longrightarrow B$ and $g: B\\longrightarrow C$, the _function_ $g\\circ f$, called the composition of $g$ and $f$, is a function whose domain is $A$ and its co-domain is $C$. It is defined by the rule\n",
    "$$\n",
    "(g\\circ f)(x) = g(f(x))\n",
    "$$\n",
    "for every $x\\in A$.\n",
    "\n",
    "If the image of $f$ is not contained in the domain of $g$ then $g\\circ f$ is not a legal expression."
   ]
  },
  {
   "cell_type": "markdown",
   "metadata": {},
   "source": [
    "### 0.3.6 Associativity of function composition\n",
    "**Proposition 0.3.12 (Associativity of composition):** For functions $f, g, h$,\n",
    "$$\n",
    "h\\circ (g\\circ f) = (h\\circ g)\\circ f\n",
    "$$\n",
    "if the compositions are legal. The proof repetitively makes use of the defintion $(g\\circ f)(x) = g(f(x)),\\:\\forall x\\in A$.\n",
    "\n",
    "Associativity means that parentheses are unnecessary in composition expression: since $h\\circ(g\\circ f)$ is the same as $(h\\circ g)\\circ f$, we can write either of them as simply $h\\circ g\\circ f$."
   ]
  },
  {
   "cell_type": "markdown",
   "metadata": {},
   "source": [
    "### 0.3.7 Functional inverse\n",
    "Functional inverses reverse the effect of each other, e.g. encryption and decryption functions. In general,\n",
    "\n",
    "**Definition 0.3.13:** We say that functions $f$ and $g$ are _functional inverses_ of each other if\n",
    "* $f\\circ g$ is defined and is the identity function on the domain of $g$, and\n",
    "* $g\\circ f$ is defined and is the identity function on the domain of $f$.\n",
    "\n",
    "Not every function has an inverse. A function that has an inverse is said to be _invertible_. Notice the concepts of **_one-to-one_** and **_onto_**\n",
    "are introduced here.\n",
    "\n",
    "**Definition 0.3.14:** Consider a function $f: D\\longmapsto F$:\n",
    "* $f$ is _one-to-one_ if $\\forall x, y\\in D,\\; f(x) = f(y) \\Rightarrow x = y$.\n",
    "* $f$ is _onto_ if $\\forall z\\in F,\\;\\exists x\\in D: f(x) = z$.\n",
    "\n",
    "Figure 2 & 3 are examples of functions that are not onto nor one-to-one respectively.\n",
    "\n",
    "**Example 0.3.15:** Consider the function `prod` defined in Example 0.3.4 (Page 4). Since a prime number has no pre-image, this function is not onto. Since there are multiple pairs of inters, e.g. $(2, 3)$ and $(3, 2)$, that map to the same integer, the function also is not one-to-one.\n",
    "\n",
    "**Lemma 0.3.16:** An invertible function is one-to-one.\n",
    "\n",
    "**Lemma 0.3.17:** An invertible function is onto.\n",
    "\n",
    "Both lemmas can be shown to hold via contradiction.\n",
    "\n",
    "**Theorem 0.3.18 (Function Invertibility Theorem):** A function is invertible _iff_ it is **one-to-one** and **onto**.\n",
    "\n",
    "**Proof**\n",
    "\n",
    "Lemma 0.3.16 and 0.3.17 show that an invertible function is one-to-one and onto. Our task here is to show the other direction also holds. Suppose conversely that $f$ is a function that is one-to-one and onto. The trick here is defining a function $g$ whose domain is the co-domain of $f$ as follows:\n",
    "\n",
    "For each element $\\tilde{y}$ of the co-domain of $f$, since $f$ is onto and one-to-one, $f$'s domain contains a unique element $\\tilde{x}$ such that $f(\\tilde x) = \\tilde y$; we define $g(\\tilde y) = \\tilde x$.\n",
    "\n",
    "Next we show that $g \\circ f$ and $f \\circ g$ are both the identity function on $f$ and $g$'s domain respectively:\n",
    "\n",
    "$g\\circ f(\\tilde x) = \\tilde x$ and $f\\circ g(\\tilde y) = \\tilde y$.\n",
    "\n",
    "**Lemma 0.3.19:** Every function has at most one functional inverse.\n",
    "\n",
    "**Proof**\n",
    "\n",
    "Let $f: U\\longmapsto V$ be any invertible function. Suppose that $g_1$ and $g_2$ are inverses of $f$. We show that $\\forall v\\in V: g_1(v) = g_2(v)$, i.e. $g_1$ and $g_2$ are the same function.\n",
    "\n",
    "Let $v\\in V$ be any element of the co-domain of $f$. Since f is onto and one-to-one, there is a unique element $u\\in U$ such that $f(u) = v$. By the definition of an inverse, $g_1(v) = u = g_2(v)$. Hence $g_1 = g_2$.\n",
    "\n",
    "This proof should follow naturally from Thorem 0.3.18 (Function Invertibility Theorem).\n",
    "\n",
    "Here comes the subtle questions: how to show two _functions_ are equal? Ultimately, we need to show that all of the (element, image) pairs are equal (most likely infinitely many)."
   ]
  },
  {
   "cell_type": "markdown",
   "metadata": {
    "collapsed": true
   },
   "source": [
    "### 0.3.8 Invertibility of the composition of invertible functions\n",
    "**Lemma 0.3.20:** If $f$ and $g$ are invertible functions and $f\\circ g$ exists then $f\\circ g$ is invertible and $(f\\circ g)^{-1} = g^{-1}\\circ f^{-1}$.\n",
    "\n",
    "**Problem 0.3.21:** Prove Lemma 0.3.20.\n",
    "\n",
    "Think of matrix inversion: $(AB)^{-1} = B^{-1}A^{-1}$.\n",
    "\n",
    "**Problem 0.3.22:** Use diagrams/words to specify functions $g$ and $f$ that are a counterexample to the following:\n",
    "\n",
    "**False Assertion 0.3.23:** Suppose that $f$ and $g$ are functions and $f \\circ g$ is invertible, then $f$ and $g$ are invertible.\n",
    "\n",
    "[Can the composition of two non-invertible functions be invertible?](http://math.stackexchange.com/questions/1169039/can-the-composition-of-two-non-invertible-functions-be-invertible)\n",
    "\n",
    "For $f\\circ g$ to be invertible, $f$ only needs to be invertible when restricted to the _range_ of $g$. $f$ may not be invertible on its whole domain. For example, take $f(x) = x^2$ and $g(x) = e^x$. It then follows that $(f \\circ g)(x) = e^{2x}$ is invertible but $f$ itself is not on its whole domain."
   ]
  },
  {
   "cell_type": "markdown",
   "metadata": {
    "collapsed": true
   },
   "source": [
    "## 0.4 Probability"
   ]
  },
  {
   "cell_type": "markdown",
   "metadata": {},
   "source": [
    "## 0.5 Lab: Introduction to Python - sets, lists, dictionaries and comprehensions"
   ]
  },
  {
   "cell_type": "markdown",
   "metadata": {},
   "source": [
    "\n",
    "We will be writing all our code in Python (Version 3.x). In writing Python code, we emphasise the use of _comprehensions_ that allow us to express computations over the elements of a set, list or dictionary without a traditional `for`-loop. Use of comprehensions leads to more compact and more readable code that more clearly expresses the mathematical ideas behind the computation."
   ]
  },
  {
   "cell_type": "markdown",
   "metadata": {},
   "source": [
    "### 0.5.1 Simple expressions"
   ]
  },
  {
   "cell_type": "markdown",
   "metadata": {},
   "source": [
    "**Arithmetic and numbers**\n",
    "\n",
    "* `-`: Taking the negative of a number, a _unary_ operator.\n",
    "* `**`: Exponentiation, a binary operator.\n",
    "* `//`: Truncating integer division.\n",
    "* `%`: Modulo (finding the remainder).\n",
    "\n",
    "As usual, `**` has _precedence_ over `*`, `/` and `//` which in turn have precedence over `+` and `-`, and parentheses can be used for grouping.\n",
    "\n",
    "**Strings**\n",
    "\n",
    "Below, Python is doing what it usually does: it _evaluates_ (finds the value of) the expression it is given and prints the value. The value of a string is just the string itself.\n",
    "\n",
    "**Comparisons and conditions and Booleans**"
   ]
  },
  {
   "cell_type": "code",
   "execution_count": 1,
   "metadata": {
    "collapsed": false
   },
   "outputs": [
    {
     "data": {
      "text/plain": [
       "\"So's this one.\""
      ]
     },
     "execution_count": 1,
     "metadata": {},
     "output_type": "execute_result"
    }
   ],
   "source": [
    "\"So's this one.\""
   ]
  },
  {
   "cell_type": "markdown",
   "metadata": {},
   "source": [
    "### 0.5.2 Assignment statements\n",
    "\n",
    "A variable name must start with a letter and must exclude certain special symbols such as the dot (period). The underscore `_` is allowed in a variable name. A variable can be bound to a value of _any_ type.\n",
    "\n",
    "It is important to remember (and second nature to most experienced programmers) that an assignment statement binds a variable to the _value_ of an expression, not to the expression itself. Python first _evaluates_ the RHS and only then assigns the resulting value to the LHS. This is the behaviour of most programming languages."
   ]
  },
  {
   "cell_type": "markdown",
   "metadata": {},
   "source": [
    "### 0.5.3 Conditional expressions\n",
    "\n",
    "There is a syntax for conditional expressions:\n",
    "\n",
    "`<expression> if <condition> else <expression>`\n",
    "\n",
    "Python evaluates the condition; depending on whether it is `True` or `False`, Python then evaluates either the first or second _expression_, and uses the result as the output of the entire conditional expression.\n",
    "\n",
    "\n",
    "For example, the following is the absolute value of `x`:"
   ]
  },
  {
   "cell_type": "code",
   "execution_count": 4,
   "metadata": {
    "collapsed": false
   },
   "outputs": [
    {
     "data": {
      "text/plain": [
       "5"
      ]
     },
     "execution_count": 4,
     "metadata": {},
     "output_type": "execute_result"
    }
   ],
   "source": [
    "x = -5\n",
    "\n",
    "x if x >= 0 else -x"
   ]
  },
  {
   "cell_type": "markdown",
   "metadata": {},
   "source": [
    "\n",
    "**Task 0.5.4**"
   ]
  },
  {
   "cell_type": "code",
   "execution_count": 5,
   "metadata": {
    "collapsed": false
   },
   "outputs": [
    {
     "data": {
      "text/plain": [
       "1.0"
      ]
     },
     "execution_count": 5,
     "metadata": {},
     "output_type": "execute_result"
    }
   ],
   "source": [
    "x = -9\n",
    "y = 1/2\n",
    "\n",
    "2**(y + 1/2) if x + 10 < 0 else 2**(y - 1/2)"
   ]
  },
  {
   "cell_type": "markdown",
   "metadata": {},
   "source": [
    "### Collections\n",
    "\n",
    "Python provides some simple data structures for grouping together _multiple_ values, and integrates them with the rest of the language. These data structures are called _collections_. We start with sets."
   ]
  },
  {
   "cell_type": "markdown",
   "metadata": {},
   "source": [
    "### 0.5.4 Sets\n",
    "\n",
    "A set is an _unordered_ collection in which each value occurs _at most once_. We can use curly braces (`{}`) to give an expression whose value is a set."
   ]
  },
  {
   "cell_type": "code",
   "execution_count": 6,
   "metadata": {
    "collapsed": false
   },
   "outputs": [
    {
     "data": {
      "text/plain": [
       "{3, 'a'}"
      ]
     },
     "execution_count": 6,
     "metadata": {},
     "output_type": "execute_result"
    }
   ],
   "source": [
    "{1+2, 3, \"a\"}"
   ]
  },
  {
   "cell_type": "code",
   "execution_count": 7,
   "metadata": {
    "collapsed": false
   },
   "outputs": [
    {
     "data": {
      "text/plain": [
       "{1, 2, 3}"
      ]
     },
     "execution_count": 7,
     "metadata": {},
     "output_type": "execute_result"
    }
   ],
   "source": [
    "{2, 1, 3}"
   ]
  },
  {
   "cell_type": "markdown",
   "metadata": {},
   "source": [
    "Note that _duplicates_ are _eliminated_ and that the order in which the elements of the output are printed does not necessarily match the input.\n",
    "\n",
    "The _cardinality_ of a set $S$ is the number of elements in the set, denoted $|S|$. In Python, this is obtained using the procedure `len()`:"
   ]
  },
  {
   "cell_type": "code",
   "execution_count": 10,
   "metadata": {
    "collapsed": false
   },
   "outputs": [
    {
     "data": {
      "text/plain": [
       "3"
      ]
     },
     "execution_count": 10,
     "metadata": {},
     "output_type": "execute_result"
    }
   ],
   "source": [
    "len({'a', 'b', 'c', 'a', 'a'})\n",
    "# note the cardinality of this set is NOT 5"
   ]
  },
  {
   "cell_type": "markdown",
   "metadata": {},
   "source": [
    "**Summing**\n",
    "\n",
    "The sum of elements of a _collection_ of values is obtained via the procedure `sum()`: "
   ]
  },
  {
   "cell_type": "code",
   "execution_count": 11,
   "metadata": {
    "collapsed": false
   },
   "outputs": [
    {
     "data": {
      "text/plain": [
       "6"
      ]
     },
     "execution_count": 11,
     "metadata": {},
     "output_type": "execute_result"
    }
   ],
   "source": [
    "sum({1, 2, 3})"
   ]
  },
  {
   "cell_type": "markdown",
   "metadata": {},
   "source": [
    "For some reason we would like to start the sum not at zero but at some other value, supply this value as the second argument to `sum()`:"
   ]
  },
  {
   "cell_type": "code",
   "execution_count": 12,
   "metadata": {
    "collapsed": false
   },
   "outputs": [
    {
     "data": {
      "text/plain": [
       "16"
      ]
     },
     "execution_count": 12,
     "metadata": {},
     "output_type": "execute_result"
    }
   ],
   "source": [
    "sum({1, 2, 3}, 10)"
   ]
  },
  {
   "cell_type": "markdown",
   "metadata": {},
   "source": [
    "**Testing set membership**\n",
    "\n",
    "Membership in a set can be tested using the `in` and `not in` operator. This is consistent with maths and `LaTex` convention."
   ]
  },
  {
   "cell_type": "code",
   "execution_count": 15,
   "metadata": {
    "collapsed": false
   },
   "outputs": [
    {
     "name": "stdout",
     "output_type": "stream",
     "text": [
      "True\n",
      "False\n",
      "True\n"
     ]
    }
   ],
   "source": [
    "S = {1, 2, 3}\n",
    "\n",
    "print(2 in S)\n",
    "print(4 in S)\n",
    "print(4 not in S)"
   ]
  },
  {
   "cell_type": "markdown",
   "metadata": {
    "collapsed": true
   },
   "source": [
    "** Set union and intersection**\n",
    "\n",
    "The _union_ and _intersection_ of two sets are used to generate _new_ sets. Python use the vertical bar `|` and the ampersand `&` as the _union_ and _intersection_ operator:"
   ]
  },
  {
   "cell_type": "code",
   "execution_count": 1,
   "metadata": {
    "collapsed": false
   },
   "outputs": [
    {
     "name": "stdout",
     "output_type": "stream",
     "text": [
      "{1, 2, 3, 4}\n",
      "{2, 3}\n"
     ]
    }
   ],
   "source": [
    "S = {1, 2, 3}\n",
    "T = {2, 3, 4}\n",
    "\n",
    "print(S | T)\n",
    "print(S & T)"
   ]
  },
  {
   "cell_type": "markdown",
   "metadata": {},
   "source": [
    "**Mutating a set**\n",
    "\n",
    "A value that cna be **altered** is a **_mutable_** value. Sets are _mutable_; elements can be added and removed using the `add()` and `remove()` methods:"
   ]
  },
  {
   "cell_type": "code",
   "execution_count": 2,
   "metadata": {
    "collapsed": false
   },
   "outputs": [
    {
     "data": {
      "text/plain": [
       "{1, 3, 4}"
      ]
     },
     "execution_count": 2,
     "metadata": {},
     "output_type": "execute_result"
    }
   ],
   "source": [
    "S = {1, 2, 3}\n",
    "S.add(4)\n",
    "S.remove(2)\n",
    "S"
   ]
  },
  {
   "cell_type": "markdown",
   "metadata": {},
   "source": [
    "The syntax of dot is for _methods_ in _object-oriented_ programming languages. We can think of a method as a _procedure_ that takes an _extra argument_, the value of the expression to the left of the dot.\n",
    "\n",
    "Python provides a method `update()` to add to a set _all_ the elements of another collection (e.g. a set or a list):"
   ]
  },
  {
   "cell_type": "code",
   "execution_count": 3,
   "metadata": {
    "collapsed": false
   },
   "outputs": [
    {
     "data": {
      "text/plain": [
       "{1, 3, 4, 5, 6}"
      ]
     },
     "execution_count": 3,
     "metadata": {},
     "output_type": "execute_result"
    }
   ],
   "source": [
    "S.update({4, 5, 6})\n",
    "S"
   ]
  },
  {
   "cell_type": "markdown",
   "metadata": {},
   "source": [
    "Similarly, one can intersect a set with another collection, removing from the set all elements not in the other \n",
    "collection."
   ]
  },
  {
   "cell_type": "code",
   "execution_count": 4,
   "metadata": {
    "collapsed": false
   },
   "outputs": [
    {
     "data": {
      "text/plain": [
       "{5, 6}"
      ]
     },
     "execution_count": 4,
     "metadata": {},
     "output_type": "execute_result"
    }
   ],
   "source": [
    "S.intersection_update({5, 6, 7, 8, 9})\n",
    "S"
   ]
  },
  {
   "cell_type": "markdown",
   "metadata": {},
   "source": [
    "Suppose two variables are _bound_ to the same value. A mutation to the value made through one variable isis visible in the other variable.\n",
    "\n",
    "This behaviour reflects the fact that Python stores _only one copy_ of the underlying data structure. Both `T` and `S` below point to the same data structure. This aspect of Python will be important to us: many different variables can point to the same huge set _without_ causing a blow-up of storage."
   ]
  },
  {
   "cell_type": "code",
   "execution_count": 6,
   "metadata": {
    "collapsed": false
   },
   "outputs": [
    {
     "data": {
      "text/plain": [
       "{6}"
      ]
     },
     "execution_count": 6,
     "metadata": {},
     "output_type": "execute_result"
    }
   ],
   "source": [
    "T = S\n",
    "T.remove(5)\n",
    "S"
   ]
  },
  {
   "cell_type": "markdown",
   "metadata": {},
   "source": [
    "Python provides a _method_ for _copying_ a collection such as a set:"
   ]
  },
  {
   "cell_type": "code",
   "execution_count": 9,
   "metadata": {
    "collapsed": false
   },
   "outputs": [
    {
     "name": "stdout",
     "output_type": "stream",
     "text": [
      "{5, 6}\n",
      "{6}\n"
     ]
    }
   ],
   "source": [
    "# The assignment statement binds U not to the value of S but to a copy of it,\n",
    "# so mutations to the value of U don't affect the value of S.\n",
    "U = S.copy()\n",
    "U.add(5)\n",
    "print(U)\n",
    "print(S)"
   ]
  },
  {
   "cell_type": "markdown",
   "metadata": {},
   "source": [
    "**Set comprehensions**\n",
    "\n",
    "Python provides for expressions (e.g. a functionality) called _comprehensions_ that let us _build collections out of other collections_. In this book, the author uses comprehensions a lot not only because they are useful in constructing collections but also because comprehensions **mimic traditional methematical notation**. For example,"
   ]
  },
  {
   "cell_type": "code",
   "execution_count": 10,
   "metadata": {
    "collapsed": false
   },
   "outputs": [
    {
     "data": {
      "text/plain": [
       "{2, 4, 6}"
      ]
     },
     "execution_count": 10,
     "metadata": {},
     "output_type": "execute_result"
    }
   ],
   "source": [
    "{2 * x for x in {1, 2, 3}}"
   ]
  },
  {
   "cell_type": "markdown",
   "metadata": {
    "collapsed": true
   },
   "source": [
    "The above notation is similar to traditional mathematical notation for expressing sets in terms of other sets, in this case $\\{2x: x \\in \\{1, 2, 3\\}\\}$. To compute the value, Python _iterates_ over the elements of the set $\\{1, 2, 3\\}$, _temporarily_ binding the _control variable_ `x` to each element in turn and evaluating the expression `2*x` in the context of that binding. Each of the values obtained is an element of the final set. However, the bindings of `x` during the evaluation of the comprehension do not persist after the evaluation completes."
   ]
  },
  {
   "cell_type": "markdown",
   "metadata": {},
   "source": [
    "**Task 0.5.5**: Write a comprehension over $\\{1, 2, 3, 4, 5\\}$ whose value is the set consisting of the squares of the first five positive integers."
   ]
  },
  {
   "cell_type": "code",
   "execution_count": 5,
   "metadata": {
    "collapsed": false
   },
   "outputs": [
    {
     "data": {
      "text/plain": [
       "{1, 4, 9, 16, 25}"
      ]
     },
     "execution_count": 5,
     "metadata": {},
     "output_type": "execute_result"
    }
   ],
   "source": [
    "S = {1, 2, 3, 4, 5}\n",
    "\n",
    "{x**2 for x in S}"
   ]
  },
  {
   "cell_type": "markdown",
   "metadata": {},
   "source": [
    "**Task 0.5.6**: Write a comprehension over $\\{0, 1, 2, 3, 4\\}$ whose value is the set consisting of the first five powers of two, starting with $2^0$."
   ]
  },
  {
   "cell_type": "code",
   "execution_count": 8,
   "metadata": {
    "collapsed": false
   },
   "outputs": [
    {
     "data": {
      "text/plain": [
       "{1, 2, 4, 8, 16}"
      ]
     },
     "execution_count": 8,
     "metadata": {},
     "output_type": "execute_result"
    }
   ],
   "source": [
    "S = {0, 1, 2, 3, 4}\n",
    "\n",
    "{2**x for x in S}"
   ]
  },
  {
   "cell_type": "markdown",
   "metadata": {},
   "source": [
    "Using the union operator `|` or the intersection operator `&`, we can write set expressions for the union or intersection of two sets, and use such expressions in a comprehension:"
   ]
  },
  {
   "cell_type": "code",
   "execution_count": 9,
   "metadata": {
    "collapsed": false
   },
   "outputs": [
    {
     "data": {
      "text/plain": [
       "{0, 1, 4, 9, 16, 25, 49}"
      ]
     },
     "execution_count": 9,
     "metadata": {},
     "output_type": "execute_result"
    }
   ],
   "source": [
    "{x*x for x in S | {5, 7}}"
   ]
  },
  {
   "cell_type": "markdown",
   "metadata": {},
   "source": [
    "By adding the phrase `if <condition>` at the end of a comprehension (before the closing brace \"`}`\"), we can skip some of the values in the set being iterated over:"
   ]
  },
  {
   "cell_type": "code",
   "execution_count": 11,
   "metadata": {
    "collapsed": false
   },
   "outputs": [
    {
     "data": {
      "text/plain": [
       "{9, 16, 25, 49}"
      ]
     },
     "execution_count": 11,
     "metadata": {},
     "output_type": "execute_result"
    }
   ],
   "source": [
    "{x*x for x in S | {5, 7} if x > 2}"
   ]
  },
  {
   "cell_type": "markdown",
   "metadata": {},
   "source": [
    "The author calls the conditional clause a _filter_."
   ]
  },
  {
   "cell_type": "markdown",
   "metadata": {},
   "source": [
    "We can also write a comprehension that iterates over the Cartesian product of two sets:"
   ]
  },
  {
   "cell_type": "code",
   "execution_count": 2,
   "metadata": {
    "collapsed": false
   },
   "outputs": [
    {
     "data": {
      "text/plain": [
       "{2, 3, 4, 6, 8, 9, 12}"
      ]
     },
     "execution_count": 2,
     "metadata": {},
     "output_type": "execute_result"
    }
   ],
   "source": [
    "{x*y for x in {1, 2, 3} for y in {2, 3, 4}}"
   ]
  },
  {
   "cell_type": "markdown",
   "metadata": {},
   "source": [
    "The above comprehension constructs a set of the products of _every_ combination of `x` and `y`, _double comprehension_."
   ]
  },
  {
   "cell_type": "markdown",
   "metadata": {},
   "source": [
    "**Task 0.5.7**: Replace the two three-element sets in the previous comprehension so that the value becomes a nine-element set.\n",
    "\n",
    "Strategy: use sets of different prime numbers to maximise the number of elements returned."
   ]
  },
  {
   "cell_type": "code",
   "execution_count": 4,
   "metadata": {
    "collapsed": false
   },
   "outputs": [
    {
     "data": {
      "text/plain": [
       "{14, 21, 22, 26, 33, 35, 39, 55, 65}"
      ]
     },
     "execution_count": 4,
     "metadata": {},
     "output_type": "execute_result"
    }
   ],
   "source": [
    "{x*y for x in {2, 3, 5} for y in {7, 11, 13}}"
   ]
  },
  {
   "cell_type": "markdown",
   "metadata": {},
   "source": [
    "Here is an example of a double comprehension with a **filter**:"
   ]
  },
  {
   "cell_type": "code",
   "execution_count": 5,
   "metadata": {
    "collapsed": false
   },
   "outputs": [
    {
     "data": {
      "text/plain": [
       "{2, 3, 4, 6, 8, 12}"
      ]
     },
     "execution_count": 5,
     "metadata": {},
     "output_type": "execute_result"
    }
   ],
   "source": [
    "{x*y for x in {1, 2, 3} for y in {2, 3, 4} if x != y}"
   ]
  },
  {
   "cell_type": "markdown",
   "metadata": {},
   "source": [
    "**Task 0.5.8**: Replace the two sets in the previous comprehension with two disjoint (i.e. non-overlapping) three-element sets so that the value becomes a five-element set.\n",
    "\n",
    "Strategy: capitalise on filtering to reduce the number of elements returned."
   ]
  },
  {
   "cell_type": "code",
   "execution_count": 8,
   "metadata": {
    "collapsed": false
   },
   "outputs": [
    {
     "data": {
      "text/plain": [
       "{2, 4, 6, 12, 18}"
      ]
     },
     "execution_count": 8,
     "metadata": {},
     "output_type": "execute_result"
    }
   ],
   "source": [
    "{x * y for x in {1, 3, 7} for y in {2, 4, 6} if x < y}"
   ]
  },
  {
   "cell_type": "markdown",
   "metadata": {
    "collapsed": true
   },
   "source": [
    "**Task 0.5.9**: Without using the _intersection_ operator `&`, write a comprehension over two sets whose value is their intersection. Hint: Use a _membership_ test in a _filter_ at the end of the comprehension."
   ]
  },
  {
   "cell_type": "code",
   "execution_count": 1,
   "metadata": {
    "collapsed": false
   },
   "outputs": [
    {
     "data": {
      "text/plain": [
       "{2, 4}"
      ]
     },
     "execution_count": 1,
     "metadata": {},
     "output_type": "execute_result"
    }
   ],
   "source": [
    "S = {1, 2, 3, 4}\n",
    "T = {2, 4, 5, 6}\n",
    "\n",
    "{x for x in S if x in T}"
   ]
  },
  {
   "cell_type": "markdown",
   "metadata": {},
   "source": [
    "#### Remarks\n",
    "\n",
    "The _empty_ set is represented by `set()`, not by `{}`. The latter is used for something else.\n",
    "\n",
    "We cannot make a set that has a set as element. This has nothing to do with [Cantor's paradox](https://en.wikipedia.org/wiki/Cantor's_paradox) - Python imposes the restriction that the _elements of a set must not be mutable, and sets are_. Try out the following: "
   ]
  },
  {
   "cell_type": "code",
   "execution_count": 2,
   "metadata": {
    "collapsed": false
   },
   "outputs": [
    {
     "ename": "TypeError",
     "evalue": "unhashable type: 'set'",
     "output_type": "error",
     "traceback": [
      "\u001b[0;31m---------------------------------------------------------------------------\u001b[0m",
      "\u001b[0;31mTypeError\u001b[0m                                 Traceback (most recent call last)",
      "\u001b[0;32m<ipython-input-2-fed73a0ef043>\u001b[0m in \u001b[0;36m<module>\u001b[0;34m()\u001b[0m\n\u001b[0;32m----> 1\u001b[0;31m \u001b[0;34m{\u001b[0m\u001b[0;34m{\u001b[0m\u001b[0;36m1\u001b[0m\u001b[0;34m,\u001b[0m \u001b[0;36m2\u001b[0m\u001b[0;34m}\u001b[0m\u001b[0;34m,\u001b[0m \u001b[0;36m3\u001b[0m\u001b[0;34m}\u001b[0m\u001b[0;34m\u001b[0m\u001b[0m\n\u001b[0m",
      "\u001b[0;31mTypeError\u001b[0m: unhashable type: 'set'"
     ]
    }
   ],
   "source": [
    "{{1, 2}, 3}"
   ]
  },
  {
   "cell_type": "markdown",
   "metadata": {},
   "source": [
    "There is a nonmutable version of set called _frozenset_ that can be elements of sets."
   ]
  },
  {
   "cell_type": "markdown",
   "metadata": {},
   "source": [
    "### 0.5.5 Lists"
   ]
  },
  {
   "cell_type": "markdown",
   "metadata": {},
   "source": [
    "Python represents _sequences_ of values using _lists_. Lists are one of the few workhorses in Python whose easy use distingushes it from other programming languages.\n",
    "\n",
    "In a list, **order** is significant and **repeated** elements are allowed. The notation for lists is square brackets `[]` instead of curly braces `{}`."
   ]
  },
  {
   "cell_type": "code",
   "execution_count": 3,
   "metadata": {
    "collapsed": false
   },
   "outputs": [
    {
     "data": {
      "text/plain": [
       "[1, 2, 3, 2, 3]"
      ]
     },
     "execution_count": 3,
     "metadata": {},
     "output_type": "execute_result"
    }
   ],
   "source": [
    "[1, 1+1, 3, 2, 3]"
   ]
  },
  {
   "cell_type": "markdown",
   "metadata": {},
   "source": [
    "There are no restrictions on the elements of lists. A list can contain a _set_ or another _list_. However, a set cannot contain a list since lists are _mutable_."
   ]
  },
  {
   "cell_type": "code",
   "execution_count": 4,
   "metadata": {
    "collapsed": false
   },
   "outputs": [
    {
     "data": {
      "text/plain": [
       "[[1, 2, 3], {4, 5, 6}, 'yo']"
      ]
     },
     "execution_count": 4,
     "metadata": {},
     "output_type": "execute_result"
    }
   ],
   "source": [
    "[[1, 1+1, 4-1], {2*2, 5, 6}, \"yo\"]"
   ]
  },
  {
   "cell_type": "markdown",
   "metadata": {
    "collapsed": true
   },
   "source": [
    "The _length_ of a list, obtained using the procedure `len()`, is the number of elements in the list, even though some of these elements may themselves be lists, and even though some elements might have the same value:"
   ]
  },
  {
   "cell_type": "code",
   "execution_count": 1,
   "metadata": {
    "collapsed": false
   },
   "outputs": [
    {
     "data": {
      "text/plain": [
       "4"
      ]
     },
     "execution_count": 1,
     "metadata": {},
     "output_type": "execute_result"
    }
   ],
   "source": [
    "len([[1, 1+1, 4-1], {2*2, 5, 6}, \"yo\", \"yo\"])"
   ]
  },
  {
   "cell_type": "markdown",
   "metadata": {},
   "source": [
    "As we saw in sets, the sum of elements of a collection can be computed using `sum()`:"
   ]
  },
  {
   "cell_type": "code",
   "execution_count": 2,
   "metadata": {
    "collapsed": false
   },
   "outputs": [
    {
     "data": {
      "text/plain": [
       "4"
      ]
     },
     "execution_count": 2,
     "metadata": {},
     "output_type": "execute_result"
    }
   ],
   "source": [
    "sum([1, 1, 0, 1, 0, 1, 0])"
   ]
  },
  {
   "cell_type": "code",
   "execution_count": 3,
   "metadata": {
    "collapsed": false
   },
   "outputs": [
    {
     "data": {
      "text/plain": [
       "-5"
      ]
     },
     "execution_count": 3,
     "metadata": {},
     "output_type": "execute_result"
    }
   ],
   "source": [
    "sum([1, 1, 0, 1, 0, 1, 0], -9) # the second argument is the starting point"
   ]
  },
  {
   "cell_type": "markdown",
   "metadata": {},
   "source": [
    "**Task 0.5.10**: Write an expression whose value is the average of the elements of the list."
   ]
  },
  {
   "cell_type": "code",
   "execution_count": 4,
   "metadata": {
    "collapsed": false
   },
   "outputs": [
    {
     "data": {
      "text/plain": [
       "30.0"
      ]
     },
     "execution_count": 4,
     "metadata": {},
     "output_type": "execute_result"
    }
   ],
   "source": [
    "L = [20, 10, 15, 75]\n",
    "average = sum(L)/len(L)\n",
    "average"
   ]
  },
  {
   "cell_type": "markdown",
   "metadata": {},
   "source": [
    "**List concatenation**\n",
    "\n",
    "We can combine the elements in one list with the elements in another list to form a new list (without changing the original lists) using the `+` operator. Again, the `+` operator is overloaded, which is not uncommon in Python."
   ]
  },
  {
   "cell_type": "code",
   "execution_count": 1,
   "metadata": {
    "collapsed": false
   },
   "outputs": [
    {
     "data": {
      "text/plain": [
       "[1, 2, 3, 'my', 'word']"
      ]
     },
     "execution_count": 1,
     "metadata": {},
     "output_type": "execute_result"
    }
   ],
   "source": [
    "[1, 2, 3] + [\"my\", \"word\"]"
   ]
  },
  {
   "cell_type": "code",
   "execution_count": 2,
   "metadata": {
    "collapsed": false
   },
   "outputs": [
    {
     "data": {
      "text/plain": [
       "[4, 8, 12, 'my', 'word']"
      ]
     },
     "execution_count": 2,
     "metadata": {},
     "output_type": "execute_result"
    }
   ],
   "source": [
    "mylist = [4, 8, 12]\n",
    "mylist + [\"my\", \"word\"]"
   ]
  },
  {
   "cell_type": "code",
   "execution_count": 3,
   "metadata": {
    "collapsed": false
   },
   "outputs": [
    {
     "data": {
      "text/plain": [
       "[4, 8, 12]"
      ]
     },
     "execution_count": 3,
     "metadata": {},
     "output_type": "execute_result"
    }
   ],
   "source": [
    "mylist"
   ]
  },
  {
   "cell_type": "markdown",
   "metadata": {},
   "source": [
    "Cool: We can use `sum()` on a collection of lists, obtaining the _concatenation_ of all the lists, by providing `[]` as the second argument."
   ]
  },
  {
   "cell_type": "code",
   "execution_count": 7,
   "metadata": {
    "collapsed": false
   },
   "outputs": [
    {
     "ename": "TypeError",
     "evalue": "unsupported operand type(s) for +: 'int' and 'list'",
     "output_type": "error",
     "traceback": [
      "\u001b[0;31m---------------------------------------------------------------------------\u001b[0m",
      "\u001b[0;31mTypeError\u001b[0m                                 Traceback (most recent call last)",
      "\u001b[0;32m<ipython-input-7-9831763dcf54>\u001b[0m in \u001b[0;36m<module>\u001b[0;34m()\u001b[0m\n\u001b[0;32m----> 1\u001b[0;31m \u001b[0msum\u001b[0m\u001b[0;34m(\u001b[0m\u001b[0;34m[\u001b[0m\u001b[0;34m[\u001b[0m\u001b[0;36m1\u001b[0m\u001b[0;34m,\u001b[0m \u001b[0;36m2\u001b[0m\u001b[0;34m,\u001b[0m \u001b[0;36m3\u001b[0m\u001b[0;34m]\u001b[0m\u001b[0;34m,\u001b[0m \u001b[0;34m[\u001b[0m\u001b[0;36m4\u001b[0m\u001b[0;34m,\u001b[0m \u001b[0;36m5\u001b[0m\u001b[0;34m,\u001b[0m \u001b[0;36m6\u001b[0m\u001b[0;34m]\u001b[0m\u001b[0;34m,\u001b[0m \u001b[0;34m[\u001b[0m\u001b[0;36m7\u001b[0m\u001b[0;34m,\u001b[0m \u001b[0;36m8\u001b[0m\u001b[0;34m,\u001b[0m \u001b[0;36m9\u001b[0m\u001b[0;34m]\u001b[0m\u001b[0;34m]\u001b[0m\u001b[0;34m)\u001b[0m\u001b[0;34m\u001b[0m\u001b[0m\n\u001b[0m",
      "\u001b[0;31mTypeError\u001b[0m: unsupported operand type(s) for +: 'int' and 'list'"
     ]
    }
   ],
   "source": [
    "sum([[1, 2, 3], [4, 5, 6], [7, 8, 9]])"
   ]
  },
  {
   "cell_type": "code",
   "execution_count": 8,
   "metadata": {
    "collapsed": false
   },
   "outputs": [
    {
     "data": {
      "text/plain": [
       "[1, 2, 3, 4, 5, 6, 7, 8, 9]"
      ]
     },
     "execution_count": 8,
     "metadata": {},
     "output_type": "execute_result"
    }
   ],
   "source": [
    "sum([[1, 2, 3], [4, 5, 6], [7, 8, 9]], [])"
   ]
  },
  {
   "cell_type": "markdown",
   "metadata": {},
   "source": [
    "**List comprehensions**"
   ]
  },
  {
   "cell_type": "code",
   "execution_count": 11,
   "metadata": {
    "collapsed": false
   },
   "outputs": [
    {
     "data": {
      "text/plain": [
       "[2, 4, 6, 8, 10]"
      ]
     },
     "execution_count": 11,
     "metadata": {},
     "output_type": "execute_result"
    }
   ],
   "source": [
    "## A list is constructed by iterating over the elements of a set\n",
    "[2*x for x in {2, 1, 3, 4, 5}]\n",
    "## Note that the order of the elements in the resulting list might not correspond to the order of\n",
    "## the elements in the source set since the order is not significant in sets."
   ]
  },
  {
   "cell_type": "markdown",
   "metadata": {},
   "source": [
    "More generally, we can also construct a list by iterating over elements of a list via list comprehension."
   ]
  },
  {
   "cell_type": "code",
   "execution_count": 12,
   "metadata": {
    "collapsed": false
   },
   "outputs": [
    {
     "data": {
      "text/plain": [
       "[4, 2, 6, 8, 10]"
      ]
     },
     "execution_count": 12,
     "metadata": {},
     "output_type": "execute_result"
    }
   ],
   "source": [
    "[2*x for x in [2, 1, 3, 4, 5]]"
   ]
  },
  {
   "cell_type": "markdown",
   "metadata": {},
   "source": [
    "Note that the list above specifies the order among its elements. In evaluating the comprehension, Python iterates through them in the same order. Therefore, the order of the elements in the resulting list corresponds to the original source list."
   ]
  },
  {
   "cell_type": "markdown",
   "metadata": {},
   "source": [
    "As in the context of sets, we can also write list comprehensions that iterate over two collections using two control variables, \"double comprehensions\"."
   ]
  },
  {
   "cell_type": "code",
   "execution_count": 14,
   "metadata": {
    "collapsed": false
   },
   "outputs": [
    {
     "data": {
      "text/plain": [
       "[10, 20, 30, 20, 40, 60, 30, 60, 90]"
      ]
     },
     "execution_count": 14,
     "metadata": {},
     "output_type": "execute_result"
    }
   ],
   "source": [
    "[x*y for x in [1, 2, 3] for y in [10, 20, 30]]"
   ]
  },
  {
   "cell_type": "markdown",
   "metadata": {},
   "source": [
    "**Task 0.5.11**: Write a double list comprehension whose value is the list of all possible two-element lists `[letter, number]`."
   ]
  },
  {
   "cell_type": "code",
   "execution_count": 15,
   "metadata": {
    "collapsed": false
   },
   "outputs": [
    {
     "data": {
      "text/plain": [
       "[['A', 1],\n",
       " ['A', 2],\n",
       " ['A', 3],\n",
       " ['B', 1],\n",
       " ['B', 2],\n",
       " ['B', 3],\n",
       " ['C', 1],\n",
       " ['C', 2],\n",
       " ['C', 3]]"
      ]
     },
     "execution_count": 15,
     "metadata": {},
     "output_type": "execute_result"
    }
   ],
   "source": [
    "L = ['A', 'B', 'C']\n",
    "N = [1, 2, 3]\n",
    "\n",
    "[[x, y] for x in L for y in N]"
   ]
  },
  {
   "cell_type": "markdown",
   "metadata": {
    "collapsed": true
   },
   "source": [
    "**Task 0.5.12**: Suppose `LofL` has been assigned a list whose elements are themselves lists of numbers. Write an expression that evaluates to the sum of all the numbers in all the lists. Test the expression after assigning `[[.25, .75, .1], [-1, 0], [4, 4, 4, 4]]` to `LofL`. Note that our expression should work for a list of any length. Hint: The expression can have the form `sum([sum(...` and includes one comprehension."
   ]
  },
  {
   "cell_type": "code",
   "execution_count": 2,
   "metadata": {
    "collapsed": false
   },
   "outputs": [
    {
     "data": {
      "text/plain": [
       "16.1"
      ]
     },
     "execution_count": 2,
     "metadata": {},
     "output_type": "execute_result"
    }
   ],
   "source": [
    "LofL = [[.25, .75, .1], [-1, 0], [4, 4, 4, 4]]\n",
    "\n",
    "sum([sum(l) for l in LofL])"
   ]
  },
  {
   "cell_type": "code",
   "execution_count": 4,
   "metadata": {
    "collapsed": false
   },
   "outputs": [
    {
     "data": {
      "text/plain": [
       "-0.4"
      ]
     },
     "execution_count": 4,
     "metadata": {},
     "output_type": "execute_result"
    }
   ],
   "source": [
    "LofL = [[.25, -.75, .1], [-1, 1], [4, -4, 4, -4]]\n",
    "\n",
    "sum([sum(l) for l in LofL])"
   ]
  },
  {
   "cell_type": "markdown",
   "metadata": {},
   "source": [
    "**Obtaining elements of a list by indexing**\n",
    "\n",
    "There are two ways to obtain an individual element of a list. The first is by indexing. As in some other languages (Java and C++ for example), indexing is done using _square brackets_ `[]` around the index. Note that the first element of the list has index 0."
   ]
  },
  {
   "cell_type": "code",
   "execution_count": 2,
   "metadata": {
    "collapsed": false
   },
   "outputs": [
    {
     "data": {
      "text/plain": [
       "4"
      ]
     },
     "execution_count": 2,
     "metadata": {},
     "output_type": "execute_result"
    }
   ],
   "source": [
    "mylist = [4, 5, 6, 7, 8, 9]\n",
    "\n",
    "mylist[0]"
   ]
  },
  {
   "cell_type": "code",
   "execution_count": 4,
   "metadata": {
    "collapsed": false
   },
   "outputs": [
    {
     "data": {
      "text/plain": [
       "'the'"
      ]
     },
     "execution_count": 4,
     "metadata": {},
     "output_type": "execute_result"
    }
   ],
   "source": [
    "[\"in\", \"the\", 'CIT'][1]"
   ]
  },
  {
   "cell_type": "code",
   "execution_count": 5,
   "metadata": {
    "collapsed": false
   },
   "outputs": [
    {
     "data": {
      "text/plain": [
       "['in', 'the', 'I']"
      ]
     },
     "execution_count": 5,
     "metadata": {},
     "output_type": "execute_result"
    }
   ],
   "source": [
    "[\"in\", \"the\", 'CIT'[1]]"
   ]
  },
  {
   "cell_type": "markdown",
   "metadata": {},
   "source": [
    "**Slices**: A _slice_ of a list is a _new_ list consisting of a _consecutive subsequence_ of elements of the old list, namely those indexed by a range of integers. The range is specified by a _colon-separated pair_ `i:j` consisting of the index `i` as the first element and `j` as one _past_ the index of the last element. Thus `mylist[1:3]` is the list consisting of elements 1 and 2 of `mylist`.\n",
    "\n",
    "**Note**: The common theme of Python indexing/slicing resembles left-close and right-open intervals.  "
   ]
  },
  {
   "cell_type": "markdown",
   "metadata": {},
   "source": [
    "**Prefixes**: If the first element `i` of the pair is **0**, it can be _omitted_. So `mylist[:2]` consists of the first 2 elements o `mylist`. This notation is useful for obtaining a prefix of a list. "
   ]
  },
  {
   "cell_type": "code",
   "execution_count": 7,
   "metadata": {
    "collapsed": false
   },
   "outputs": [
    {
     "data": {
      "text/plain": [
       "[4, 5]"
      ]
     },
     "execution_count": 7,
     "metadata": {},
     "output_type": "execute_result"
    }
   ],
   "source": [
    "mylist[:2]"
   ]
  },
  {
   "cell_type": "markdown",
   "metadata": {},
   "source": [
    "**Suffixes**: If the second element `j` of the pair is the **length** of the list, it can be _omitted_. Hence `mylist[1:]` consists of all elements of `mylist` except element 0."
   ]
  },
  {
   "cell_type": "code",
   "execution_count": 8,
   "metadata": {
    "collapsed": false
   },
   "outputs": [
    {
     "data": {
      "text/plain": [
       "[5, 6, 7, 8, 9]"
      ]
     },
     "execution_count": 8,
     "metadata": {},
     "output_type": "execute_result"
    }
   ],
   "source": [
    "mylist[1:]"
   ]
  },
  {
   "cell_type": "code",
   "execution_count": 10,
   "metadata": {
    "collapsed": false
   },
   "outputs": [
    {
     "data": {
      "text/plain": [
       "[0, 10, 20, 30, 40]"
      ]
     },
     "execution_count": 10,
     "metadata": {},
     "output_type": "execute_result"
    }
   ],
   "source": [
    "L = [0, 10, 20, 30, 40, 50, 60, 70, 80, 90]\n",
    "\n",
    "L[:5]"
   ]
  },
  {
   "cell_type": "code",
   "execution_count": 11,
   "metadata": {
    "collapsed": false
   },
   "outputs": [
    {
     "data": {
      "text/plain": [
       "[50, 60, 70, 80, 90]"
      ]
     },
     "execution_count": 11,
     "metadata": {},
     "output_type": "execute_result"
    }
   ],
   "source": [
    "L[5:]"
   ]
  },
  {
   "cell_type": "markdown",
   "metadata": {},
   "source": [
    "**Slices that skip** We can use a _colon-separated **triple**_ `a:b:c` if we want the slice to include every $c^{th}$ element. For example, here is how we can extract from `L` the list consisting of even-indexed elements and the list consisting of odd-indexed elements:"
   ]
  },
  {
   "cell_type": "code",
   "execution_count": 16,
   "metadata": {
    "collapsed": false
   },
   "outputs": [
    {
     "data": {
      "text/plain": [
       "[0, 20, 40, 60, 80]"
      ]
     },
     "execution_count": 16,
     "metadata": {},
     "output_type": "execute_result"
    }
   ],
   "source": [
    "L[::2] # even number indexed elements"
   ]
  },
  {
   "cell_type": "code",
   "execution_count": 17,
   "metadata": {
    "collapsed": false
   },
   "outputs": [
    {
     "data": {
      "text/plain": [
       "[10, 30, 50, 70, 90]"
      ]
     },
     "execution_count": 17,
     "metadata": {},
     "output_type": "execute_result"
    }
   ],
   "source": [
    "L[1::2] # odd number indexed elements"
   ]
  },
  {
   "cell_type": "markdown",
   "metadata": {},
   "source": [
    "The takeaway of Python indexing is `[head : tail : step)` where `step` acts like skipping/jump rope."
   ]
  },
  {
   "cell_type": "markdown",
   "metadata": {},
   "source": [
    "**Obtaining elements of a list by _unpacking_**\n",
    "\n",
    "The second way to obtain individual elements is by _**unpacking**_. Instead of assigning a list to a _single_ variable as in `mylist = [4, 8, 12]`, one can assign to a _list_ of variables:"
   ]
  },
  {
   "cell_type": "code",
   "execution_count": 8,
   "metadata": {
    "collapsed": false
   },
   "outputs": [
    {
     "name": "stdout",
     "output_type": "stream",
     "text": [
      "x=4, y=8, z=12\n"
     ]
    }
   ],
   "source": [
    "[x, y, z] = [4 * 1, 4 * 2, 4 * 3]\n",
    "\n",
    "\n",
    "print(\"x=%s, y=%s, z=%s\" % (x, y, z))"
   ]
  },
  {
   "cell_type": "markdown",
   "metadata": {},
   "source": [
    "The author called the LHS of the assignment above a \"list of variables\", but beware: this is a notational fiction. Python does not allow us to create a value that is a list of variables. The assignment is simply a convenient way to assign to _**each**_ of the variables appearing in the LHS. Hence this is more like _**bulk assignment**_."
   ]
  },
  {
   "cell_type": "markdown",
   "metadata": {},
   "source": [
    "**Task 0.5.13**: Find out what happens if the length of the LHS list does not match the length of the RHS list."
   ]
  },
  {
   "cell_type": "code",
   "execution_count": 5,
   "metadata": {
    "collapsed": false
   },
   "outputs": [
    {
     "ename": "ValueError",
     "evalue": "too many values to unpack (expected 3)",
     "output_type": "error",
     "traceback": [
      "\u001b[0;31m---------------------------------------------------------------------------\u001b[0m",
      "\u001b[0;31mValueError\u001b[0m                                Traceback (most recent call last)",
      "\u001b[0;32m<ipython-input-5-469f38e005c0>\u001b[0m in \u001b[0;36m<module>\u001b[0;34m()\u001b[0m\n\u001b[0;32m----> 1\u001b[0;31m \u001b[0;34m[\u001b[0m\u001b[0mx\u001b[0m\u001b[0;34m,\u001b[0m \u001b[0my\u001b[0m\u001b[0;34m,\u001b[0m \u001b[0mz\u001b[0m\u001b[0;34m]\u001b[0m \u001b[0;34m=\u001b[0m \u001b[0;34m[\u001b[0m\u001b[0;36m4\u001b[0m \u001b[0;34m*\u001b[0m \u001b[0;36m1\u001b[0m\u001b[0;34m,\u001b[0m \u001b[0;36m4\u001b[0m \u001b[0;34m*\u001b[0m \u001b[0;36m2\u001b[0m\u001b[0;34m,\u001b[0m \u001b[0;36m4\u001b[0m \u001b[0;34m*\u001b[0m \u001b[0;36m3\u001b[0m\u001b[0;34m,\u001b[0m \u001b[0;36m4\u001b[0m \u001b[0;34m*\u001b[0m \u001b[0;36m4\u001b[0m\u001b[0;34m]\u001b[0m\u001b[0;34m\u001b[0m\u001b[0m\n\u001b[0m\u001b[1;32m      2\u001b[0m \u001b[0mprint\u001b[0m\u001b[0;34m(\u001b[0m\u001b[0;34m\"x=%s, y=%s, z=%s\"\u001b[0m \u001b[0;34m%\u001b[0m \u001b[0;34m(\u001b[0m\u001b[0mx\u001b[0m\u001b[0;34m,\u001b[0m \u001b[0my\u001b[0m\u001b[0;34m,\u001b[0m \u001b[0mz\u001b[0m\u001b[0;34m)\u001b[0m\u001b[0;34m)\u001b[0m\u001b[0;34m\u001b[0m\u001b[0m\n",
      "\u001b[0;31mValueError\u001b[0m: too many values to unpack (expected 3)"
     ]
    }
   ],
   "source": [
    "[x, y, z] = [4 * 1, 4 * 2, 4 * 3, 4 * 4]\n",
    "print(\"x=%s, y=%s, z=%s\" % (x, y, z))"
   ]
  },
  {
   "cell_type": "code",
   "execution_count": 6,
   "metadata": {
    "collapsed": false
   },
   "outputs": [
    {
     "ename": "ValueError",
     "evalue": "not enough values to unpack (expected 6, got 4)",
     "output_type": "error",
     "traceback": [
      "\u001b[0;31m---------------------------------------------------------------------------\u001b[0m",
      "\u001b[0;31mValueError\u001b[0m                                Traceback (most recent call last)",
      "\u001b[0;32m<ipython-input-6-4aa416e4311f>\u001b[0m in \u001b[0;36m<module>\u001b[0;34m()\u001b[0m\n\u001b[0;32m----> 1\u001b[0;31m \u001b[0;34m[\u001b[0m\u001b[0mx\u001b[0m\u001b[0;34m,\u001b[0m \u001b[0my\u001b[0m\u001b[0;34m,\u001b[0m \u001b[0mz\u001b[0m\u001b[0;34m,\u001b[0m \u001b[0ma\u001b[0m\u001b[0;34m,\u001b[0m \u001b[0mb\u001b[0m\u001b[0;34m,\u001b[0m \u001b[0mc\u001b[0m\u001b[0;34m]\u001b[0m \u001b[0;34m=\u001b[0m \u001b[0;34m[\u001b[0m\u001b[0;36m4\u001b[0m \u001b[0;34m*\u001b[0m \u001b[0;36m1\u001b[0m\u001b[0;34m,\u001b[0m \u001b[0;36m4\u001b[0m \u001b[0;34m*\u001b[0m \u001b[0;36m2\u001b[0m\u001b[0;34m,\u001b[0m \u001b[0;36m4\u001b[0m \u001b[0;34m*\u001b[0m \u001b[0;36m3\u001b[0m\u001b[0;34m,\u001b[0m \u001b[0;36m4\u001b[0m \u001b[0;34m*\u001b[0m \u001b[0;36m4\u001b[0m\u001b[0;34m]\u001b[0m\u001b[0;34m\u001b[0m\u001b[0m\n\u001b[0m\u001b[1;32m      2\u001b[0m \u001b[0mprint\u001b[0m\u001b[0;34m(\u001b[0m\u001b[0;34m\"x=%s, y=%s, z=%s, a=%s, b=%s, c=%s\"\u001b[0m \u001b[0;34m%\u001b[0m \u001b[0;34m(\u001b[0m\u001b[0mx\u001b[0m\u001b[0;34m,\u001b[0m \u001b[0my\u001b[0m\u001b[0;34m,\u001b[0m \u001b[0mz\u001b[0m\u001b[0;34m,\u001b[0m \u001b[0ma\u001b[0m\u001b[0;34m,\u001b[0m \u001b[0mb\u001b[0m\u001b[0;34m,\u001b[0m \u001b[0mc\u001b[0m\u001b[0;34m)\u001b[0m\u001b[0;34m)\u001b[0m\u001b[0;34m\u001b[0m\u001b[0m\n",
      "\u001b[0;31mValueError\u001b[0m: not enough values to unpack (expected 6, got 4)"
     ]
    }
   ],
   "source": [
    "[x, y, z, a, b, c] = [4 * 1, 4 * 2, 4 * 3, 4 * 4]\n",
    "print(\"x=%s, y=%s, z=%s, a=%s, b=%s, c=%s\" % (x, y, z, a, b, c))"
   ]
  },
  {
   "cell_type": "markdown",
   "metadata": {},
   "source": [
    "The error messages above are sefl-explanatory. THe lengths of the list on both sides of the assignment have to match in order for Python to proceed.\n",
    "\n",
    "Unpacking can similarly be used in comprehensions:"
   ]
  },
  {
   "cell_type": "code",
   "execution_count": 7,
   "metadata": {
    "collapsed": false
   },
   "outputs": [
    {
     "name": "stdout",
     "output_type": "stream",
     "text": [
      "[1, 2, 3]\n",
      "[1, 4, 9]\n"
     ]
    }
   ],
   "source": [
    "listoflists = [[1, 1], [2, 4], [3, 9]]\n",
    "print([x for [x, y] in listoflists])\n",
    "print([y for [x, y] in listoflists])"
   ]
  },
  {
   "cell_type": "markdown",
   "metadata": {},
   "source": [
    "Here the two-element list `[x, y]` iterates over all elements of `listoflists`. The would result in an error message if some element of `listoflists` were not a two-element list."
   ]
  },
  {
   "cell_type": "markdown",
   "metadata": {},
   "source": [
    "**Mutating a list: index on the left-hand side of =**\n",
    "\n",
    "We can mutate a list, replacing its $i^{\\text{th}}$ element, using indexing on the LHS of the `=`, analogous to an assignment statement:"
   ]
  },
  {
   "cell_type": "code",
   "execution_count": 9,
   "metadata": {
    "collapsed": false
   },
   "outputs": [
    {
     "data": {
      "text/plain": [
       "[30, 0, 10]"
      ]
     },
     "execution_count": 9,
     "metadata": {},
     "output_type": "execute_result"
    }
   ],
   "source": [
    "mylist = [30, 20, 10]\n",
    "mylist[1] = 0\n",
    "mylist"
   ]
  },
  {
   "cell_type": "markdown",
   "metadata": {},
   "source": [
    "### 0.5.6 Tuples"
   ]
  },
  {
   "cell_type": "markdown",
   "metadata": {},
   "source": [
    "Like a list, a tuple is an _ordered sequence_ of elements. However, tuples are _**immutable**_ so they can be elements of sets. The notation for tuples is the same as that for lists except that ordinary parentheses `()` are used instead of square brackets."
   ]
  },
  {
   "cell_type": "code",
   "execution_count": 10,
   "metadata": {
    "collapsed": false
   },
   "outputs": [
    {
     "data": {
      "text/plain": [
       "(1, 2, 3)"
      ]
     },
     "execution_count": 10,
     "metadata": {},
     "output_type": "execute_result"
    }
   ],
   "source": [
    "(1, 1+1, 3)"
   ]
  },
  {
   "cell_type": "code",
   "execution_count": 12,
   "metadata": {
    "collapsed": false
   },
   "outputs": [
    {
     "data": {
      "text/plain": [
       "{0, (3, 4, 5), (1, 2)}"
      ]
     },
     "execution_count": 12,
     "metadata": {},
     "output_type": "execute_result"
    }
   ],
   "source": [
    "{0, (1, 2)} | {(3, 4, 5)}"
   ]
  },
  {
   "cell_type": "markdown",
   "metadata": {},
   "source": [
    "**Obtaining elements of a tuple by indexing and _unpacking_**\n",
    "\n",
    "We can use _indexing_ to obtain an element of a tuple."
   ]
  },
  {
   "cell_type": "code",
   "execution_count": 13,
   "metadata": {
    "collapsed": false
   },
   "outputs": [
    {
     "data": {
      "text/plain": [
       "'my'"
      ]
     },
     "execution_count": 13,
     "metadata": {},
     "output_type": "execute_result"
    }
   ],
   "source": [
    "mytuple = (\"all\", \"my\", \"books\")\n",
    "mytuple[1]"
   ]
  },
  {
   "cell_type": "markdown",
   "metadata": {},
   "source": [
    "We can also use _unpacking_ with tuples. Here is an example of top-level variable assignment:"
   ]
  },
  {
   "cell_type": "code",
   "execution_count": 17,
   "metadata": {
    "collapsed": false
   },
   "outputs": [
    {
     "name": "stdout",
     "output_type": "stream",
     "text": [
      "a=1, b=2\n"
     ]
    }
   ],
   "source": [
    "(a, b) = (1, 5-3)\n",
    "\n",
    "print(\"a=%i, b=%i\" % (a, b))"
   ]
  },
  {
   "cell_type": "markdown",
   "metadata": {},
   "source": [
    "In some contexts, we can even get away without the parentheses, e.g."
   ]
  },
  {
   "cell_type": "code",
   "execution_count": 23,
   "metadata": {
    "collapsed": false
   },
   "outputs": [
    {
     "name": "stdout",
     "output_type": "stream",
     "text": [
      "a=1, b=2\n",
      "a=1, b=2\n"
     ]
    }
   ],
   "source": [
    "a, b = (1, 5 - 3)\n",
    "print(\"a=%i, b=%i\" % (a, b))\n",
    "\n",
    "# or even\n",
    "a, b = 1, 5 - 3\n",
    "print(\"a=%i, b=%i\" % (a, b)) # here the parentheses are a must"
   ]
  },
  {
   "cell_type": "code",
   "execution_count": 25,
   "metadata": {
    "collapsed": false
   },
   "outputs": [
    {
     "data": {
      "text/plain": [
       "['A', 'B', 'C']"
      ]
     },
     "execution_count": 25,
     "metadata": {},
     "output_type": "execute_result"
    }
   ],
   "source": [
    "# We can use _unpacking_ in a comprehension:\n",
    "[y for (x, y) in [(1, 'A'), (2, 'B'), (3, 'C')]]"
   ]
  },
  {
   "cell_type": "code",
   "execution_count": 26,
   "metadata": {
    "collapsed": false
   },
   "outputs": [
    {
     "data": {
      "text/plain": [
       "[1, 2, 3]"
      ]
     },
     "execution_count": 26,
     "metadata": {},
     "output_type": "execute_result"
    }
   ],
   "source": [
    "[x for x, y in [(1, 'A'), (2, 'B'), (3, 'C')]]"
   ]
  },
  {
   "cell_type": "markdown",
   "metadata": {},
   "source": [
    "**Task 0.5.14**: Suppose $S$ is a set of integers, e.g. $\\{-4, -2, 1, 2, 5, 0\\}$. Write a triple comprehension whose value is a list of all three-element tuples `(i, j, k)` such that `i, j, k` are elements of $S$ whose sum is zero."
   ]
  },
  {
   "cell_type": "code",
   "execution_count": 37,
   "metadata": {
    "collapsed": false
   },
   "outputs": [
    {
     "data": {
      "text/plain": [
       "[(0, 0, 0),\n",
       " (0, 2, -2),\n",
       " (0, -2, 2),\n",
       " (1, 1, -2),\n",
       " (1, -2, 1),\n",
       " (2, 0, -2),\n",
       " (2, 2, -4),\n",
       " (2, -4, 2),\n",
       " (2, -2, 0),\n",
       " (-4, 2, 2),\n",
       " (-2, 0, 2),\n",
       " (-2, 1, 1),\n",
       " (-2, 2, 0)]"
      ]
     },
     "execution_count": 37,
     "metadata": {},
     "output_type": "execute_result"
    }
   ],
   "source": [
    "S = {-4, -2, 1, 2, 5, 0}\n",
    "\n",
    "sumofzero = [(x, y, z) for x in S for y in S for z in S if (x + y + z) == 0]; sumofzero"
   ]
  },
  {
   "cell_type": "markdown",
   "metadata": {},
   "source": [
    "**Task 0.5.15**: Modify the comprehension of the previous task so that the resulting list does not include `(0, 0, 0)`."
   ]
  },
  {
   "cell_type": "code",
   "execution_count": 38,
   "metadata": {
    "collapsed": false
   },
   "outputs": [
    {
     "data": {
      "text/plain": [
       "[(0, 2, -2),\n",
       " (0, -2, 2),\n",
       " (1, 1, -2),\n",
       " (1, -2, 1),\n",
       " (2, 0, -2),\n",
       " (2, 2, -4),\n",
       " (2, -4, 2),\n",
       " (2, -2, 0),\n",
       " (-4, 2, 2),\n",
       " (-2, 0, 2),\n",
       " (-2, 1, 1),\n",
       " (-2, 2, 0)]"
      ]
     },
     "execution_count": 38,
     "metadata": {},
     "output_type": "execute_result"
    }
   ],
   "source": [
    "sumofzero2 = [(x, y, z) for x in S for y in S for z in S if (x + y + z == 0) and (x, y, z) != (0, 0, 0)]; sumofzero2"
   ]
  },
  {
   "cell_type": "markdown",
   "metadata": {},
   "source": [
    "**Task 0.5.16**: Further modify the expression so that its value is not the list of all such tuples but is the first such tuple."
   ]
  },
  {
   "cell_type": "code",
   "execution_count": 43,
   "metadata": {
    "collapsed": false
   },
   "outputs": [
    {
     "data": {
      "text/plain": [
       "[(0, 2, -2)]"
      ]
     },
     "execution_count": 43,
     "metadata": {},
     "output_type": "execute_result"
    }
   ],
   "source": [
    "[sumofzero2[0]]"
   ]
  },
  {
   "cell_type": "code",
   "execution_count": 45,
   "metadata": {
    "collapsed": false
   },
   "outputs": [
    {
     "data": {
      "text/plain": [
       "[0, 2, -2]"
      ]
     },
     "execution_count": 45,
     "metadata": {},
     "output_type": "execute_result"
    }
   ],
   "source": [
    "# Note that the following is NOT the same as above\n",
    "list(sumofzero2[0])"
   ]
  },
  {
   "cell_type": "markdown",
   "metadata": {},
   "source": [
    "The author pointed out that the computation complexity would increase exponentially with the number of the elements in the target set in this kind of problems."
   ]
  },
  {
   "cell_type": "markdown",
   "metadata": {},
   "source": [
    "**Obtaining a list or set from another collection**\n",
    "\n",
    "Python can compute a set from another collection (e.g. a list) using the _constructor_ `set()`. In a similar vein, the _constructor_ `list()` computes a list and the _constructor_ `tuple()` generates a tuple. "
   ]
  },
  {
   "cell_type": "code",
   "execution_count": 46,
   "metadata": {
    "collapsed": false
   },
   "outputs": [
    {
     "data": {
      "text/plain": [
       "{0, 1, 2, 3, 4, 5, 6, 7, 8, 9}"
      ]
     },
     "execution_count": 46,
     "metadata": {},
     "output_type": "execute_result"
    }
   ],
   "source": [
    "set([0, 1, 2, 3, 4, 5, 6, 7, 8, 9])"
   ]
  },
  {
   "cell_type": "code",
   "execution_count": 48,
   "metadata": {
    "collapsed": false
   },
   "outputs": [
    {
     "data": {
      "text/plain": [
       "{1, 2, 3}"
      ]
     },
     "execution_count": 48,
     "metadata": {},
     "output_type": "execute_result"
    }
   ],
   "source": [
    "set([1, 2, 3, 3, 2])"
   ]
  },
  {
   "cell_type": "code",
   "execution_count": 49,
   "metadata": {
    "collapsed": false
   },
   "outputs": [
    {
     "data": {
      "text/plain": [
       "[1, 2, 3]"
      ]
     },
     "execution_count": 49,
     "metadata": {},
     "output_type": "execute_result"
    }
   ],
   "source": [
    "list({1, 2, 3})"
   ]
  },
  {
   "cell_type": "code",
   "execution_count": 50,
   "metadata": {
    "collapsed": false
   },
   "outputs": [
    {
     "data": {
      "text/plain": [
       "[1, 2, 3]"
      ]
     },
     "execution_count": 50,
     "metadata": {},
     "output_type": "execute_result"
    }
   ],
   "source": [
    "list({1, 2, 2, 3, 3})"
   ]
  },
  {
   "cell_type": "code",
   "execution_count": 51,
   "metadata": {
    "collapsed": false
   },
   "outputs": [
    {
     "data": {
      "text/plain": [
       "{1, 2, 3}"
      ]
     },
     "execution_count": 51,
     "metadata": {},
     "output_type": "execute_result"
    }
   ],
   "source": [
    "set((1, 2, 3))"
   ]
  },
  {
   "cell_type": "code",
   "execution_count": 52,
   "metadata": {
    "collapsed": false
   },
   "outputs": [
    {
     "data": {
      "text/plain": [
       "[1, 1, 2, 2, 3, 4, 5]"
      ]
     },
     "execution_count": 52,
     "metadata": {},
     "output_type": "execute_result"
    }
   ],
   "source": [
    "list((1, 1, 2, 2, 3, 4, 5))"
   ]
  },
  {
   "cell_type": "code",
   "execution_count": 53,
   "metadata": {
    "collapsed": false
   },
   "outputs": [
    {
     "data": {
      "text/plain": [
       "(1, 1, 2, 2, 3, 4, 5)"
      ]
     },
     "execution_count": 53,
     "metadata": {},
     "output_type": "execute_result"
    }
   ],
   "source": [
    "tuple([1, 1, 2, 2, 3, 4, 5])"
   ]
  },
  {
   "cell_type": "code",
   "execution_count": 54,
   "metadata": {
    "collapsed": false
   },
   "outputs": [
    {
     "data": {
      "text/plain": [
       "(1, 2, 3, 4, 5)"
      ]
     },
     "execution_count": 54,
     "metadata": {},
     "output_type": "execute_result"
    }
   ],
   "source": [
    "tuple({1, 1, 2, 2, 3, 4, 5, 5})"
   ]
  },
  {
   "cell_type": "markdown",
   "metadata": {},
   "source": [
    "**Task 0.5.17**: Find an example of a list `L` such that `len(L)` and `len(list(set(L)))` are different.\n",
    "\n",
    "All lists with any duplicated elements would do. "
   ]
  },
  {
   "cell_type": "code",
   "execution_count": 56,
   "metadata": {
    "collapsed": false
   },
   "outputs": [
    {
     "data": {
      "text/plain": [
       "5"
      ]
     },
     "execution_count": 56,
     "metadata": {},
     "output_type": "execute_result"
    }
   ],
   "source": [
    "L = [1, 1, 2, 3, 3]\n",
    "\n",
    "len(L)"
   ]
  },
  {
   "cell_type": "code",
   "execution_count": 57,
   "metadata": {
    "collapsed": false
   },
   "outputs": [
    {
     "data": {
      "text/plain": [
       "3"
      ]
     },
     "execution_count": 57,
     "metadata": {},
     "output_type": "execute_result"
    }
   ],
   "source": [
    "len(list(set(L)))"
   ]
  },
  {
   "cell_type": "markdown",
   "metadata": {},
   "source": [
    "### 0.5.7 Other things to iterate over"
   ]
  },
  {
   "cell_type": "markdown",
   "metadata": {},
   "source": [
    "**Tuple comprehensions - not! Generators**\n",
    "\n",
    "One would expect to be able to create a tuple using the usual comprehension syntax, e.g. `(i for i in [1, 2, 3])` but the value of this expression is not a tuple. It is a _generator_ that is a powerful feature of Python. Note, however, that one can write comprehension over a genertor instead of over a list, a set or a tuple. Alternatively, one can use `set()`, `list()` or `tuple()` to transform a generator into a set, list or tuple."
   ]
  },
  {
   "cell_type": "markdown",
   "metadata": {
    "collapsed": true
   },
   "source": [
    "**Ranges**\n",
    "\n",
    "A `range` plays the role of a list consisting of the elements of an _**arithmetic progression**_. For any integer `n`, `range(n)` represents the sequence of integers from 0 through `n-1`. Note that this convention is still consistent with left-close right-open practice in Python.\n",
    "\n",
    "For example, `range(10)` represents the integers from `0` through `9`. Therefore, the value of the following comprehension is the sum of the squares of these integers:"
   ]
  },
  {
   "cell_type": "code",
   "execution_count": 2,
   "metadata": {
    "collapsed": false
   },
   "outputs": [
    {
     "data": {
      "text/plain": [
       "{0, 1, 2, 3, 4, 5, 6, 7, 8, 9}"
      ]
     },
     "execution_count": 2,
     "metadata": {},
     "output_type": "execute_result"
    }
   ],
   "source": [
    "{i for i in range(10)}"
   ]
  },
  {
   "cell_type": "code",
   "execution_count": 3,
   "metadata": {
    "collapsed": false
   },
   "outputs": [
    {
     "data": {
      "text/plain": [
       "285"
      ]
     },
     "execution_count": 3,
     "metadata": {},
     "output_type": "execute_result"
    }
   ],
   "source": [
    "sum({i * i for i in range(10)})"
   ]
  },
  {
   "cell_type": "markdown",
   "metadata": {},
   "source": [
    "Note that even though a range represents a sequence, it is NOT a list. Generally we will either iterate through the elements of the range or use `set()` or `list()` to turn the range into a set or list."
   ]
  },
  {
   "cell_type": "code",
   "execution_count": 4,
   "metadata": {
    "collapsed": false
   },
   "outputs": [
    {
     "data": {
      "text/plain": [
       "range(0, 10)"
      ]
     },
     "execution_count": 4,
     "metadata": {},
     "output_type": "execute_result"
    }
   ],
   "source": [
    "range(10)"
   ]
  },
  {
   "cell_type": "code",
   "execution_count": 5,
   "metadata": {
    "collapsed": false
   },
   "outputs": [
    {
     "data": {
      "text/plain": [
       "[0, 1, 2, 3, 4, 5, 6, 7, 8, 9]"
      ]
     },
     "execution_count": 5,
     "metadata": {},
     "output_type": "execute_result"
    }
   ],
   "source": [
    "list(range(10))"
   ]
  },
  {
   "cell_type": "markdown",
   "metadata": {},
   "source": [
    "**Task 0.5.18**: Write a comprehension over a range of the form `range(n)` such that the value of the comprehension is the set of odd numbers from `1` to `99`."
   ]
  },
  {
   "cell_type": "code",
   "execution_count": 7,
   "metadata": {
    "collapsed": false
   },
   "outputs": [
    {
     "data": {
      "text/plain": [
       "{1,\n",
       " 3,\n",
       " 5,\n",
       " 7,\n",
       " 9,\n",
       " 11,\n",
       " 13,\n",
       " 15,\n",
       " 17,\n",
       " 19,\n",
       " 21,\n",
       " 23,\n",
       " 25,\n",
       " 27,\n",
       " 29,\n",
       " 31,\n",
       " 33,\n",
       " 35,\n",
       " 37,\n",
       " 39,\n",
       " 41,\n",
       " 43,\n",
       " 45,\n",
       " 47,\n",
       " 49,\n",
       " 51,\n",
       " 53,\n",
       " 55,\n",
       " 57,\n",
       " 59,\n",
       " 61,\n",
       " 63,\n",
       " 65,\n",
       " 67,\n",
       " 69,\n",
       " 71,\n",
       " 73,\n",
       " 75,\n",
       " 77,\n",
       " 79,\n",
       " 81,\n",
       " 83,\n",
       " 85,\n",
       " 87,\n",
       " 89,\n",
       " 91,\n",
       " 93,\n",
       " 95,\n",
       " 97,\n",
       " 99}"
      ]
     },
     "execution_count": 7,
     "metadata": {},
     "output_type": "execute_result"
    }
   ],
   "source": [
    "{x for x in range(100) if x % 2 == 1}"
   ]
  },
  {
   "cell_type": "markdown",
   "metadata": {},
   "source": [
    "We can form a `range` with one, two or three arguments. The expression `range(a, b)` represents the sequence of integers `a, a+1, a+2,..., b-1`. The expression `range(a, b, c)` represents `a, a+c, a+2c, ...` (stopping just _before_ `b`).\n",
    "\n",
    "Note another commonality of Python: The THIRD argument tends to be the _step size_ in some functions/methods."
   ]
  },
  {
   "cell_type": "markdown",
   "metadata": {},
   "source": [
    "**Zip**\n",
    "\n",
    "Another collection that can be iterated over is a _zip_. A zip is constructed from _other collections_ **all of the same length**. Each element of the zip is a tuple is a _**tuple**_ consisting of one element from each of the input collections."
   ]
  },
  {
   "cell_type": "code",
   "execution_count": 9,
   "metadata": {
    "collapsed": false
   },
   "outputs": [
    {
     "data": {
      "text/plain": [
       "[(1, 2), (3, 4), (5, 6)]"
      ]
     },
     "execution_count": 9,
     "metadata": {},
     "output_type": "execute_result"
    }
   ],
   "source": [
    "list(zip([1, 3, 5], [2, 4, 6]))"
   ]
  },
  {
   "cell_type": "code",
   "execution_count": 10,
   "metadata": {
    "collapsed": false
   },
   "outputs": [
    {
     "data": {
      "text/plain": [
       "{('Morpheus', 'Laurence'), ('Neo', 'Keanu'), ('Trinity', 'Carrie-Anne')}"
      ]
     },
     "execution_count": 10,
     "metadata": {},
     "output_type": "execute_result"
    }
   ],
   "source": [
    "characters = ['Neo', 'Morpheus', 'Trinity']\n",
    "actors = ['Keanu', 'Laurence', 'Carrie-Anne']\n",
    "set(zip(characters, actors))"
   ]
  },
  {
   "cell_type": "code",
   "execution_count": 12,
   "metadata": {
    "collapsed": false
   },
   "outputs": [
    {
     "data": {
      "text/plain": [
       "['Neo is played by Keanu',\n",
       " 'Morpheus is played by Laurence',\n",
       " 'Trinity is played by Carrie-Anne']"
      ]
     },
     "execution_count": 12,
     "metadata": {},
     "output_type": "execute_result"
    }
   ],
   "source": [
    "[character + ' is played by ' + actor for (character, actor) in zip(characters, actors)]"
   ]
  },
  {
   "cell_type": "code",
   "execution_count": 13,
   "metadata": {
    "collapsed": false
   },
   "outputs": [
    {
     "data": {
      "text/plain": [
       "['Neo is played by Keanu',\n",
       " 'Morpheus is played by Laurence',\n",
       " 'Trinity is played by Carrie-Anne']"
      ]
     },
     "execution_count": 13,
     "metadata": {},
     "output_type": "execute_result"
    }
   ],
   "source": [
    "# As stated before, the parentheses in the tuple iterator can be omitted.\n",
    "[character + ' is played by ' + actor for character, actor in zip(characters, actors)]"
   ]
  },
  {
   "cell_type": "code",
   "execution_count": 20,
   "metadata": {
    "collapsed": false
   },
   "outputs": [
    {
     "data": {
      "text/plain": [
       "[(1, 1), (3, 2), (5, 6)]"
      ]
     },
     "execution_count": 20,
     "metadata": {},
     "output_type": "execute_result"
    }
   ],
   "source": [
    "# Play with zips further\n",
    "list(zip({1, 3, 5}, {1, 2, 6}))"
   ]
  },
  {
   "cell_type": "code",
   "execution_count": 19,
   "metadata": {
    "collapsed": false
   },
   "outputs": [
    {
     "data": {
      "text/plain": [
       "[(1, 2), (3, 6)]"
      ]
     },
     "execution_count": 19,
     "metadata": {},
     "output_type": "execute_result"
    }
   ],
   "source": [
    "list(zip({1, 3, 5}, {2, 2, 6}))"
   ]
  },
  {
   "cell_type": "markdown",
   "metadata": {},
   "source": [
    "**Task 0.5.20**: Starting from the lists `[10, 25, 40]` and `[1, 15, 20]`, write a comprehension whose value is the three-element list in which the first element is the sum of `10` and `1`, the second is the sum of `25` and `15` and the third is the sum of `40` and `20`. The expression should use `zip` but not list."
   ]
  },
  {
   "cell_type": "code",
   "execution_count": 6,
   "metadata": {
    "collapsed": false
   },
   "outputs": [
    {
     "data": {
      "text/plain": [
       "[11, 40, 60]"
      ]
     },
     "execution_count": 6,
     "metadata": {},
     "output_type": "execute_result"
    }
   ],
   "source": [
    "[sum(z) for z in zip([10, 25, 40], [1, 15, 20])]"
   ]
  },
  {
   "cell_type": "code",
   "execution_count": 7,
   "metadata": {
    "collapsed": false
   },
   "outputs": [
    {
     "data": {
      "text/plain": [
       "[11, 40, 60]"
      ]
     },
     "execution_count": 7,
     "metadata": {},
     "output_type": "execute_result"
    }
   ],
   "source": [
    "# Also works\n",
    "[sum((x, y)) for (x, y) in zip([10, 25, 40], [1, 15, 20])]"
   ]
  },
  {
   "cell_type": "markdown",
   "metadata": {},
   "source": [
    "**`reversed`**\n",
    "\n",
    "To iterate through the elements of a list `L` in reverse order, use `reversed(L)` which does not change the list in `L`:"
   ]
  },
  {
   "cell_type": "code",
   "execution_count": 8,
   "metadata": {
    "collapsed": false
   },
   "outputs": [
    {
     "data": {
      "text/plain": [
       "[100, 25, 16]"
      ]
     },
     "execution_count": 8,
     "metadata": {},
     "output_type": "execute_result"
    }
   ],
   "source": [
    "[x * x for x in reversed([4, 5, 10])]"
   ]
  },
  {
   "cell_type": "markdown",
   "metadata": {},
   "source": [
    "### 0.5.8 Dictionaries"
   ]
  },
  {
   "cell_type": "markdown",
   "metadata": {
    "collapsed": true
   },
   "source": [
    "We often have occasion to use functions with **_finite_ domains**. Python provides collections, called _dictionaries_, that are suitable for representing such functions. Conceptually, a dictionary is a _**set** of key-value pairs_. The syntax for specifying a dictionary in terms of its key-value pairs therefore resembles the syntax for _sets_ - it uses curly braces - except that instead of listing the elements of the set, one lists the key-value pairs. In this syntax, each key-value pair is written using _colon_ notation:\n",
    "\n",
    "`key: value`"
   ]
  },
  {
   "cell_type": "code",
   "execution_count": 1,
   "metadata": {
    "collapsed": false
   },
   "outputs": [
    {
     "data": {
      "text/plain": [
       "{'A': 0,\n",
       " 'B': 1,\n",
       " 'C': 2,\n",
       " 'D': 3,\n",
       " 'E': 4,\n",
       " 'F': 5,\n",
       " 'G': 6,\n",
       " 'H': 7,\n",
       " 'I': 8,\n",
       " 'J': 9,\n",
       " 'K': 10,\n",
       " 'L': 11,\n",
       " 'M': 12,\n",
       " 'N': 13,\n",
       " 'O': 14,\n",
       " 'P': 15,\n",
       " 'Q': 16,\n",
       " 'R': 17,\n",
       " 'S': 18,\n",
       " 'T': 19,\n",
       " 'U': 20,\n",
       " 'V': 21,\n",
       " 'W': 22,\n",
       " 'X': 23,\n",
       " 'Y': 24,\n",
       " 'Z': 25}"
      ]
     },
     "execution_count": 1,
     "metadata": {},
     "output_type": "execute_result"
    }
   ],
   "source": [
    "# The function f that maps each letter in the alphabet to its rank in the alphabet could be written as\n",
    "{'A':0, 'B':1, 'C':2, 'D':3, 'E':4, 'F':5, 'G':6, 'H':7, 'I':8,\n",
    "'J':9, 'K':10, 'L':11, 'M':12, 'N':13, 'O':14, 'P':15, 'Q':16,\n",
    "'R':17, 'S':18, 'T':19, 'U':20, 'V':21, 'W':22, 'X':23, 'Y':24,\n",
    "'Z':25}"
   ]
  },
  {
   "cell_type": "markdown",
   "metadata": {},
   "source": [
    "As in sets, the _order_ of the key-value pairs is _irrelevant_ and the keys must be **_immutable_** (no sets or lists or dictionaries). For us, the keys are mostly integers, strings, or _tuples_ of integers and strings.\n",
    "\n",
    "Both keys and values can be specified with _expressions_."
   ]
  },
  {
   "cell_type": "code",
   "execution_count": 4,
   "metadata": {
    "collapsed": false
   },
   "outputs": [
    {
     "data": {
      "text/plain": [
       "{3: 'three', 4: 'four'}"
      ]
     },
     "execution_count": 4,
     "metadata": {},
     "output_type": "execute_result"
    }
   ],
   "source": [
    "{2+1: 'thr'+'ee', 2*2: 'fo' + 'ur'}"
   ]
  },
  {
   "cell_type": "markdown",
   "metadata": {},
   "source": [
    "To _each_ key in a dictionary there corresponds only _one_ value. If a dictionary is given multiple values for the same key, only one value will be associated with that key. "
   ]
  },
  {
   "cell_type": "code",
   "execution_count": 5,
   "metadata": {
    "collapsed": false
   },
   "outputs": [
    {
     "data": {
      "text/plain": [
       "{0: 'nothing'}"
      ]
     },
     "execution_count": 5,
     "metadata": {},
     "output_type": "execute_result"
    }
   ],
   "source": [
    "{0: 'zero', 0: 'nothing'}"
   ]
  },
  {
   "cell_type": "markdown",
   "metadata": {},
   "source": [
    "**Indexing into a dictionary**\n",
    "\n",
    "Obtaining the value corresponding to a particular key uses the same syntax as indexing a list or tuple: right after the dictionary expression, use _square brackets_ `[]` around the key: "
   ]
  },
  {
   "cell_type": "code",
   "execution_count": 7,
   "metadata": {
    "collapsed": false
   },
   "outputs": [
    {
     "data": {
      "text/plain": [
       "'four'"
      ]
     },
     "execution_count": 7,
     "metadata": {},
     "output_type": "execute_result"
    }
   ],
   "source": [
    "{4: \"four\", 3: 'three'}[4]"
   ]
  },
  {
   "cell_type": "code",
   "execution_count": 8,
   "metadata": {
    "collapsed": false
   },
   "outputs": [
    {
     "data": {
      "text/plain": [
       "'three'"
      ]
     },
     "execution_count": 8,
     "metadata": {},
     "output_type": "execute_result"
    }
   ],
   "source": [
    "{4: \"four\", 3: 'three'}[3]"
   ]
  },
  {
   "cell_type": "code",
   "execution_count": 2,
   "metadata": {
    "collapsed": false
   },
   "outputs": [
    {
     "data": {
      "text/plain": [
       "'Keanu'"
      ]
     },
     "execution_count": 2,
     "metadata": {},
     "output_type": "execute_result"
    }
   ],
   "source": [
    "mydict = {'Neo': 'Keanu', 'Morpheus': 'Laurance', 'Trinity': 'Carrie-Anne'}\n",
    "\n",
    "mydict['Neo']"
   ]
  },
  {
   "cell_type": "code",
   "execution_count": 3,
   "metadata": {
    "collapsed": false
   },
   "outputs": [
    {
     "data": {
      "text/plain": [
       "'Carrie-Anne'"
      ]
     },
     "execution_count": 3,
     "metadata": {},
     "output_type": "execute_result"
    }
   ],
   "source": [
    "mydict['Trinity']"
   ]
  },
  {
   "cell_type": "code",
   "execution_count": 4,
   "metadata": {
    "collapsed": false
   },
   "outputs": [
    {
     "ename": "KeyError",
     "evalue": "'Oracle'",
     "output_type": "error",
     "traceback": [
      "\u001b[0;31m---------------------------------------------------------------------------\u001b[0m",
      "\u001b[0;31mKeyError\u001b[0m                                  Traceback (most recent call last)",
      "\u001b[0;32m<ipython-input-4-93bdc1e9cca3>\u001b[0m in \u001b[0;36m<module>\u001b[0;34m()\u001b[0m\n\u001b[1;32m      1\u001b[0m \u001b[0;31m# If the key is not represented in the dictionary, Python throws an error:\u001b[0m\u001b[0;34m\u001b[0m\u001b[0;34m\u001b[0m\u001b[0m\n\u001b[0;32m----> 2\u001b[0;31m \u001b[0mmydict\u001b[0m\u001b[0;34m[\u001b[0m\u001b[0;34m'Oracle'\u001b[0m\u001b[0;34m]\u001b[0m\u001b[0;34m\u001b[0m\u001b[0m\n\u001b[0m",
      "\u001b[0;31mKeyError\u001b[0m: 'Oracle'"
     ]
    }
   ],
   "source": [
    "# If the key is not represented in the dictionary, Python throws an error:\n",
    "mydict['Oracle']"
   ]
  },
  {
   "cell_type": "markdown",
   "metadata": {},
   "source": [
    "** Testing dictionary membership**\n",
    "\n",
    "We can check whether a key is in a dictionary using the `in` operator we earlier used for testing membership in a _set_. This is another reminder that dictionaries are just _specilised sets_:"
   ]
  },
  {
   "cell_type": "code",
   "execution_count": 5,
   "metadata": {
    "collapsed": false
   },
   "outputs": [
    {
     "data": {
      "text/plain": [
       "False"
      ]
     },
     "execution_count": 5,
     "metadata": {},
     "output_type": "execute_result"
    }
   ],
   "source": [
    "'Oracle' in mydict"
   ]
  },
  {
   "cell_type": "code",
   "execution_count": 6,
   "metadata": {
    "collapsed": false
   },
   "outputs": [
    {
     "data": {
      "text/plain": [
       "'NOT PRESENT'"
      ]
     },
     "execution_count": 6,
     "metadata": {},
     "output_type": "execute_result"
    }
   ],
   "source": [
    "mydict['Oracle'] if 'Oracle' in mydict else 'NOT PRESENT'"
   ]
  },
  {
   "cell_type": "code",
   "execution_count": 7,
   "metadata": {
    "collapsed": false
   },
   "outputs": [
    {
     "data": {
      "text/plain": [
       "'Keanu'"
      ]
     },
     "execution_count": 7,
     "metadata": {},
     "output_type": "execute_result"
    }
   ],
   "source": [
    "mydict['Neo'] if 'Neo' in mydict else 'NOT PRESENT'"
   ]
  },
  {
   "cell_type": "markdown",
   "metadata": {},
   "source": [
    "**Lists of dictionaries**\n",
    "\n",
    "**Task 0.5.21**: Suppose `dlist` is a list of dictionaries and `k` is a key that appears in all the dictionaries in `dlist`. Write a comprehension that evaluates to the list whose $i^{\\text{th}}$ element is the value corresponding to key `k` in the $i^{\\text{th}}$ dictionary in `dlist`."
   ]
  },
  {
   "cell_type": "code",
   "execution_count": 8,
   "metadata": {
    "collapsed": false
   },
   "outputs": [
    {
     "data": {
      "text/plain": [
       "['Sean', 'Roger', 'Pierce']"
      ]
     },
     "execution_count": 8,
     "metadata": {},
     "output_type": "execute_result"
    }
   ],
   "source": [
    "dlist = [{'James':'Sean', 'director':'Terence'}, {'James':'Roger',\n",
    "'director':'Lewis'}, {'James':'Pierce', 'director':'Roger'}]\n",
    "\n",
    "k = 'James'\n",
    "\n",
    "[dict[k] for dict in dlist]"
   ]
  },
  {
   "cell_type": "markdown",
   "metadata": {},
   "source": [
    "**Task 0.5.22**: Modify the comprehension in Task 0.5.21 to handle the case in which `k` might not appear in all the dictionaries. The comprehension evaluates to the list whose $i^{\\text{th}}$ element is the value corresponding to key `k` in the $i^{\\text{th}}$ dictionary in `dlist` if that dictionary contains that key, and 'NOT PRESENT' otherwise."
   ]
  },
  {
   "cell_type": "code",
   "execution_count": 9,
   "metadata": {
    "collapsed": true
   },
   "outputs": [],
   "source": [
    "dlist = [{'Bilbo':'Ian','Frodo':'Elijah'},\n",
    "{'Bilbo':'Martin','Thorin':'Richard'}]\n",
    "\n",
    "k1 = 'Bilbo'\n",
    "k2 = 'Frodo'"
   ]
  },
  {
   "cell_type": "code",
   "execution_count": 10,
   "metadata": {
    "collapsed": false
   },
   "outputs": [
    {
     "data": {
      "text/plain": [
       "['Ian', 'Martin']"
      ]
     },
     "execution_count": 10,
     "metadata": {},
     "output_type": "execute_result"
    }
   ],
   "source": [
    "[(dict[k1] if k1 in dict else 'NOT PRESENT') for dict in dlist]"
   ]
  },
  {
   "cell_type": "code",
   "execution_count": 11,
   "metadata": {
    "collapsed": false
   },
   "outputs": [
    {
     "data": {
      "text/plain": [
       "['Elijah', 'NOT PRESENT']"
      ]
     },
     "execution_count": 11,
     "metadata": {},
     "output_type": "execute_result"
    }
   ],
   "source": [
    "[(dict[k2] if k2 in dict else 'NOT PRESENT') for dict in dlist]"
   ]
  },
  {
   "cell_type": "markdown",
   "metadata": {},
   "source": [
    "**Mutating a dictionary: indexing on the left-hand side of `=`**\n",
    "\n",
    "We can _mutate_ a dictionary, mapping a (new or old) key to a given value, using the syntax used for assigning a list element, namely using the _index syntax_ on the left-hand side of an assignment:"
   ]
  },
  {
   "cell_type": "code",
   "execution_count": 12,
   "metadata": {
    "collapsed": false
   },
   "outputs": [
    {
     "data": {
      "text/plain": [
       "{'Agent Smith': 'Hugo',\n",
       " 'Morpheus': 'Laurance',\n",
       " 'Neo': 'Philip',\n",
       " 'Trinity': 'Carrie-Anne'}"
      ]
     },
     "execution_count": 12,
     "metadata": {},
     "output_type": "execute_result"
    }
   ],
   "source": [
    "mydict['Agent Smith'] = 'Hugo'\n",
    "mydict['Neo'] = 'Philip'\n",
    "mydict"
   ]
  },
  {
   "cell_type": "markdown",
   "metadata": {},
   "source": [
    "**Dictionary comprehensions**\n",
    "\n",
    "We can construct a dictionary using a comprehension."
   ]
  },
  {
   "cell_type": "code",
   "execution_count": 13,
   "metadata": {
    "collapsed": false
   },
   "outputs": [
    {
     "data": {
      "text/plain": [
       "{3: 2, 4: 0, 100: 1}"
      ]
     },
     "execution_count": 13,
     "metadata": {},
     "output_type": "execute_result"
    }
   ],
   "source": [
    "{k:v for (k, v) in [(3, 2), (4, 0), (100, 1)]}"
   ]
  },
  {
   "cell_type": "code",
   "execution_count": 14,
   "metadata": {
    "collapsed": false
   },
   "outputs": [
    {
     "data": {
      "text/plain": [
       "{(1, 1): 1,\n",
       " (1, 2): 2,\n",
       " (1, 3): 3,\n",
       " (2, 1): 2,\n",
       " (2, 2): 4,\n",
       " (2, 3): 6,\n",
       " (3, 1): 3,\n",
       " (3, 2): 6,\n",
       " (3, 3): 9}"
      ]
     },
     "execution_count": 14,
     "metadata": {},
     "output_type": "execute_result"
    }
   ],
   "source": [
    "{(x, y):x*y for x in [1, 2, 3] for y in [1, 2, 3]}"
   ]
  },
  {
   "cell_type": "markdown",
   "metadata": {},
   "source": [
    "**Task 0.5.23**: Using `range`, write a comprehension whose value is a dictionary. The keys should be the integers from 0 to 99 and the value corresponding to a key should be the square of the key."
   ]
  },
  {
   "cell_type": "code",
   "execution_count": 16,
   "metadata": {
    "collapsed": false
   },
   "outputs": [
    {
     "data": {
      "text/plain": [
       "{0: 0,\n",
       " 1: 1,\n",
       " 2: 4,\n",
       " 3: 9,\n",
       " 4: 16,\n",
       " 5: 25,\n",
       " 6: 36,\n",
       " 7: 49,\n",
       " 8: 64,\n",
       " 9: 81,\n",
       " 10: 100,\n",
       " 11: 121,\n",
       " 12: 144,\n",
       " 13: 169,\n",
       " 14: 196,\n",
       " 15: 225,\n",
       " 16: 256,\n",
       " 17: 289,\n",
       " 18: 324,\n",
       " 19: 361,\n",
       " 20: 400,\n",
       " 21: 441,\n",
       " 22: 484,\n",
       " 23: 529,\n",
       " 24: 576,\n",
       " 25: 625,\n",
       " 26: 676,\n",
       " 27: 729,\n",
       " 28: 784,\n",
       " 29: 841,\n",
       " 30: 900,\n",
       " 31: 961,\n",
       " 32: 1024,\n",
       " 33: 1089,\n",
       " 34: 1156,\n",
       " 35: 1225,\n",
       " 36: 1296,\n",
       " 37: 1369,\n",
       " 38: 1444,\n",
       " 39: 1521,\n",
       " 40: 1600,\n",
       " 41: 1681,\n",
       " 42: 1764,\n",
       " 43: 1849,\n",
       " 44: 1936,\n",
       " 45: 2025,\n",
       " 46: 2116,\n",
       " 47: 2209,\n",
       " 48: 2304,\n",
       " 49: 2401,\n",
       " 50: 2500,\n",
       " 51: 2601,\n",
       " 52: 2704,\n",
       " 53: 2809,\n",
       " 54: 2916,\n",
       " 55: 3025,\n",
       " 56: 3136,\n",
       " 57: 3249,\n",
       " 58: 3364,\n",
       " 59: 3481,\n",
       " 60: 3600,\n",
       " 61: 3721,\n",
       " 62: 3844,\n",
       " 63: 3969,\n",
       " 64: 4096,\n",
       " 65: 4225,\n",
       " 66: 4356,\n",
       " 67: 4489,\n",
       " 68: 4624,\n",
       " 69: 4761,\n",
       " 70: 4900,\n",
       " 71: 5041,\n",
       " 72: 5184,\n",
       " 73: 5329,\n",
       " 74: 5476,\n",
       " 75: 5625,\n",
       " 76: 5776,\n",
       " 77: 5929,\n",
       " 78: 6084,\n",
       " 79: 6241,\n",
       " 80: 6400,\n",
       " 81: 6561,\n",
       " 82: 6724,\n",
       " 83: 6889,\n",
       " 84: 7056,\n",
       " 85: 7225,\n",
       " 86: 7396,\n",
       " 87: 7569,\n",
       " 88: 7744,\n",
       " 89: 7921,\n",
       " 90: 8100,\n",
       " 91: 8281,\n",
       " 92: 8464,\n",
       " 93: 8649,\n",
       " 94: 8836,\n",
       " 95: 9025,\n",
       " 96: 9216,\n",
       " 97: 9409,\n",
       " 98: 9604,\n",
       " 99: 9801}"
      ]
     },
     "execution_count": 16,
     "metadata": {},
     "output_type": "execute_result"
    }
   ],
   "source": [
    "{x:x*x for x in range(100)}"
   ]
  },
  {
   "cell_type": "markdown",
   "metadata": {},
   "source": [
    "**Task 0.5.24**: Assign some set to the variable `D`, e.g. `D = {'red', 'white', 'blue'}`. Now write a comprehension that evaluates to a dictionary that repensents the _identity function_ on `D`."
   ]
  },
  {
   "cell_type": "code",
   "execution_count": 20,
   "metadata": {
    "collapsed": false
   },
   "outputs": [
    {
     "data": {
      "text/plain": [
       "{'blue': 'blue', 'red': 'red', 'white': 'white'}"
      ]
     },
     "execution_count": 20,
     "metadata": {},
     "output_type": "execute_result"
    }
   ],
   "source": [
    "D = {'red', 'white', 'blue'}\n",
    "\n",
    "{x:x for x in D}"
   ]
  },
  {
   "cell_type": "markdown",
   "metadata": {},
   "source": [
    "**Task 0.5.25**: Using the variable `base = 10` and `digits = set(range(base))`, write a dictionary comprehension that maps each integer between zero and 999 to the list of three digits that represents that integer in base 10. Your expression should work for any base."
   ]
  },
  {
   "cell_type": "code",
   "execution_count": 22,
   "metadata": {
    "collapsed": false
   },
   "outputs": [
    {
     "data": {
      "text/plain": [
       "{0, 1, 2, 3, 4, 5, 6, 7, 8, 9}"
      ]
     },
     "execution_count": 22,
     "metadata": {},
     "output_type": "execute_result"
    }
   ],
   "source": [
    "num_of_digits = 3\n",
    "base = 10\n",
    "digits = set(range(base))\n",
    "\n",
    "digits"
   ]
  },
  {
   "cell_type": "code",
   "execution_count": 24,
   "metadata": {
    "collapsed": false
   },
   "outputs": [
    {
     "data": {
      "text/plain": [
       "{0: [0, 0, 0],\n",
       " 1: [0, 0, 1],\n",
       " 2: [0, 0, 2],\n",
       " 3: [0, 0, 3],\n",
       " 4: [0, 0, 4],\n",
       " 5: [0, 0, 5],\n",
       " 6: [0, 0, 6],\n",
       " 7: [0, 0, 7],\n",
       " 8: [0, 0, 8],\n",
       " 9: [0, 0, 9],\n",
       " 10: [0, 1, 0],\n",
       " 11: [0, 1, 1],\n",
       " 12: [0, 1, 2],\n",
       " 13: [0, 1, 3],\n",
       " 14: [0, 1, 4],\n",
       " 15: [0, 1, 5],\n",
       " 16: [0, 1, 6],\n",
       " 17: [0, 1, 7],\n",
       " 18: [0, 1, 8],\n",
       " 19: [0, 1, 9],\n",
       " 20: [0, 2, 0],\n",
       " 21: [0, 2, 1],\n",
       " 22: [0, 2, 2],\n",
       " 23: [0, 2, 3],\n",
       " 24: [0, 2, 4],\n",
       " 25: [0, 2, 5],\n",
       " 26: [0, 2, 6],\n",
       " 27: [0, 2, 7],\n",
       " 28: [0, 2, 8],\n",
       " 29: [0, 2, 9],\n",
       " 30: [0, 3, 0],\n",
       " 31: [0, 3, 1],\n",
       " 32: [0, 3, 2],\n",
       " 33: [0, 3, 3],\n",
       " 34: [0, 3, 4],\n",
       " 35: [0, 3, 5],\n",
       " 36: [0, 3, 6],\n",
       " 37: [0, 3, 7],\n",
       " 38: [0, 3, 8],\n",
       " 39: [0, 3, 9],\n",
       " 40: [0, 4, 0],\n",
       " 41: [0, 4, 1],\n",
       " 42: [0, 4, 2],\n",
       " 43: [0, 4, 3],\n",
       " 44: [0, 4, 4],\n",
       " 45: [0, 4, 5],\n",
       " 46: [0, 4, 6],\n",
       " 47: [0, 4, 7],\n",
       " 48: [0, 4, 8],\n",
       " 49: [0, 4, 9],\n",
       " 50: [0, 5, 0],\n",
       " 51: [0, 5, 1],\n",
       " 52: [0, 5, 2],\n",
       " 53: [0, 5, 3],\n",
       " 54: [0, 5, 4],\n",
       " 55: [0, 5, 5],\n",
       " 56: [0, 5, 6],\n",
       " 57: [0, 5, 7],\n",
       " 58: [0, 5, 8],\n",
       " 59: [0, 5, 9],\n",
       " 60: [0, 6, 0],\n",
       " 61: [0, 6, 1],\n",
       " 62: [0, 6, 2],\n",
       " 63: [0, 6, 3],\n",
       " 64: [0, 6, 4],\n",
       " 65: [0, 6, 5],\n",
       " 66: [0, 6, 6],\n",
       " 67: [0, 6, 7],\n",
       " 68: [0, 6, 8],\n",
       " 69: [0, 6, 9],\n",
       " 70: [0, 7, 0],\n",
       " 71: [0, 7, 1],\n",
       " 72: [0, 7, 2],\n",
       " 73: [0, 7, 3],\n",
       " 74: [0, 7, 4],\n",
       " 75: [0, 7, 5],\n",
       " 76: [0, 7, 6],\n",
       " 77: [0, 7, 7],\n",
       " 78: [0, 7, 8],\n",
       " 79: [0, 7, 9],\n",
       " 80: [0, 8, 0],\n",
       " 81: [0, 8, 1],\n",
       " 82: [0, 8, 2],\n",
       " 83: [0, 8, 3],\n",
       " 84: [0, 8, 4],\n",
       " 85: [0, 8, 5],\n",
       " 86: [0, 8, 6],\n",
       " 87: [0, 8, 7],\n",
       " 88: [0, 8, 8],\n",
       " 89: [0, 8, 9],\n",
       " 90: [0, 9, 0],\n",
       " 91: [0, 9, 1],\n",
       " 92: [0, 9, 2],\n",
       " 93: [0, 9, 3],\n",
       " 94: [0, 9, 4],\n",
       " 95: [0, 9, 5],\n",
       " 96: [0, 9, 6],\n",
       " 97: [0, 9, 7],\n",
       " 98: [0, 9, 8],\n",
       " 99: [0, 9, 9],\n",
       " 100: [1, 0, 0],\n",
       " 101: [1, 0, 1],\n",
       " 102: [1, 0, 2],\n",
       " 103: [1, 0, 3],\n",
       " 104: [1, 0, 4],\n",
       " 105: [1, 0, 5],\n",
       " 106: [1, 0, 6],\n",
       " 107: [1, 0, 7],\n",
       " 108: [1, 0, 8],\n",
       " 109: [1, 0, 9],\n",
       " 110: [1, 1, 0],\n",
       " 111: [1, 1, 1],\n",
       " 112: [1, 1, 2],\n",
       " 113: [1, 1, 3],\n",
       " 114: [1, 1, 4],\n",
       " 115: [1, 1, 5],\n",
       " 116: [1, 1, 6],\n",
       " 117: [1, 1, 7],\n",
       " 118: [1, 1, 8],\n",
       " 119: [1, 1, 9],\n",
       " 120: [1, 2, 0],\n",
       " 121: [1, 2, 1],\n",
       " 122: [1, 2, 2],\n",
       " 123: [1, 2, 3],\n",
       " 124: [1, 2, 4],\n",
       " 125: [1, 2, 5],\n",
       " 126: [1, 2, 6],\n",
       " 127: [1, 2, 7],\n",
       " 128: [1, 2, 8],\n",
       " 129: [1, 2, 9],\n",
       " 130: [1, 3, 0],\n",
       " 131: [1, 3, 1],\n",
       " 132: [1, 3, 2],\n",
       " 133: [1, 3, 3],\n",
       " 134: [1, 3, 4],\n",
       " 135: [1, 3, 5],\n",
       " 136: [1, 3, 6],\n",
       " 137: [1, 3, 7],\n",
       " 138: [1, 3, 8],\n",
       " 139: [1, 3, 9],\n",
       " 140: [1, 4, 0],\n",
       " 141: [1, 4, 1],\n",
       " 142: [1, 4, 2],\n",
       " 143: [1, 4, 3],\n",
       " 144: [1, 4, 4],\n",
       " 145: [1, 4, 5],\n",
       " 146: [1, 4, 6],\n",
       " 147: [1, 4, 7],\n",
       " 148: [1, 4, 8],\n",
       " 149: [1, 4, 9],\n",
       " 150: [1, 5, 0],\n",
       " 151: [1, 5, 1],\n",
       " 152: [1, 5, 2],\n",
       " 153: [1, 5, 3],\n",
       " 154: [1, 5, 4],\n",
       " 155: [1, 5, 5],\n",
       " 156: [1, 5, 6],\n",
       " 157: [1, 5, 7],\n",
       " 158: [1, 5, 8],\n",
       " 159: [1, 5, 9],\n",
       " 160: [1, 6, 0],\n",
       " 161: [1, 6, 1],\n",
       " 162: [1, 6, 2],\n",
       " 163: [1, 6, 3],\n",
       " 164: [1, 6, 4],\n",
       " 165: [1, 6, 5],\n",
       " 166: [1, 6, 6],\n",
       " 167: [1, 6, 7],\n",
       " 168: [1, 6, 8],\n",
       " 169: [1, 6, 9],\n",
       " 170: [1, 7, 0],\n",
       " 171: [1, 7, 1],\n",
       " 172: [1, 7, 2],\n",
       " 173: [1, 7, 3],\n",
       " 174: [1, 7, 4],\n",
       " 175: [1, 7, 5],\n",
       " 176: [1, 7, 6],\n",
       " 177: [1, 7, 7],\n",
       " 178: [1, 7, 8],\n",
       " 179: [1, 7, 9],\n",
       " 180: [1, 8, 0],\n",
       " 181: [1, 8, 1],\n",
       " 182: [1, 8, 2],\n",
       " 183: [1, 8, 3],\n",
       " 184: [1, 8, 4],\n",
       " 185: [1, 8, 5],\n",
       " 186: [1, 8, 6],\n",
       " 187: [1, 8, 7],\n",
       " 188: [1, 8, 8],\n",
       " 189: [1, 8, 9],\n",
       " 190: [1, 9, 0],\n",
       " 191: [1, 9, 1],\n",
       " 192: [1, 9, 2],\n",
       " 193: [1, 9, 3],\n",
       " 194: [1, 9, 4],\n",
       " 195: [1, 9, 5],\n",
       " 196: [1, 9, 6],\n",
       " 197: [1, 9, 7],\n",
       " 198: [1, 9, 8],\n",
       " 199: [1, 9, 9],\n",
       " 200: [2, 0, 0],\n",
       " 201: [2, 0, 1],\n",
       " 202: [2, 0, 2],\n",
       " 203: [2, 0, 3],\n",
       " 204: [2, 0, 4],\n",
       " 205: [2, 0, 5],\n",
       " 206: [2, 0, 6],\n",
       " 207: [2, 0, 7],\n",
       " 208: [2, 0, 8],\n",
       " 209: [2, 0, 9],\n",
       " 210: [2, 1, 0],\n",
       " 211: [2, 1, 1],\n",
       " 212: [2, 1, 2],\n",
       " 213: [2, 1, 3],\n",
       " 214: [2, 1, 4],\n",
       " 215: [2, 1, 5],\n",
       " 216: [2, 1, 6],\n",
       " 217: [2, 1, 7],\n",
       " 218: [2, 1, 8],\n",
       " 219: [2, 1, 9],\n",
       " 220: [2, 2, 0],\n",
       " 221: [2, 2, 1],\n",
       " 222: [2, 2, 2],\n",
       " 223: [2, 2, 3],\n",
       " 224: [2, 2, 4],\n",
       " 225: [2, 2, 5],\n",
       " 226: [2, 2, 6],\n",
       " 227: [2, 2, 7],\n",
       " 228: [2, 2, 8],\n",
       " 229: [2, 2, 9],\n",
       " 230: [2, 3, 0],\n",
       " 231: [2, 3, 1],\n",
       " 232: [2, 3, 2],\n",
       " 233: [2, 3, 3],\n",
       " 234: [2, 3, 4],\n",
       " 235: [2, 3, 5],\n",
       " 236: [2, 3, 6],\n",
       " 237: [2, 3, 7],\n",
       " 238: [2, 3, 8],\n",
       " 239: [2, 3, 9],\n",
       " 240: [2, 4, 0],\n",
       " 241: [2, 4, 1],\n",
       " 242: [2, 4, 2],\n",
       " 243: [2, 4, 3],\n",
       " 244: [2, 4, 4],\n",
       " 245: [2, 4, 5],\n",
       " 246: [2, 4, 6],\n",
       " 247: [2, 4, 7],\n",
       " 248: [2, 4, 8],\n",
       " 249: [2, 4, 9],\n",
       " 250: [2, 5, 0],\n",
       " 251: [2, 5, 1],\n",
       " 252: [2, 5, 2],\n",
       " 253: [2, 5, 3],\n",
       " 254: [2, 5, 4],\n",
       " 255: [2, 5, 5],\n",
       " 256: [2, 5, 6],\n",
       " 257: [2, 5, 7],\n",
       " 258: [2, 5, 8],\n",
       " 259: [2, 5, 9],\n",
       " 260: [2, 6, 0],\n",
       " 261: [2, 6, 1],\n",
       " 262: [2, 6, 2],\n",
       " 263: [2, 6, 3],\n",
       " 264: [2, 6, 4],\n",
       " 265: [2, 6, 5],\n",
       " 266: [2, 6, 6],\n",
       " 267: [2, 6, 7],\n",
       " 268: [2, 6, 8],\n",
       " 269: [2, 6, 9],\n",
       " 270: [2, 7, 0],\n",
       " 271: [2, 7, 1],\n",
       " 272: [2, 7, 2],\n",
       " 273: [2, 7, 3],\n",
       " 274: [2, 7, 4],\n",
       " 275: [2, 7, 5],\n",
       " 276: [2, 7, 6],\n",
       " 277: [2, 7, 7],\n",
       " 278: [2, 7, 8],\n",
       " 279: [2, 7, 9],\n",
       " 280: [2, 8, 0],\n",
       " 281: [2, 8, 1],\n",
       " 282: [2, 8, 2],\n",
       " 283: [2, 8, 3],\n",
       " 284: [2, 8, 4],\n",
       " 285: [2, 8, 5],\n",
       " 286: [2, 8, 6],\n",
       " 287: [2, 8, 7],\n",
       " 288: [2, 8, 8],\n",
       " 289: [2, 8, 9],\n",
       " 290: [2, 9, 0],\n",
       " 291: [2, 9, 1],\n",
       " 292: [2, 9, 2],\n",
       " 293: [2, 9, 3],\n",
       " 294: [2, 9, 4],\n",
       " 295: [2, 9, 5],\n",
       " 296: [2, 9, 6],\n",
       " 297: [2, 9, 7],\n",
       " 298: [2, 9, 8],\n",
       " 299: [2, 9, 9],\n",
       " 300: [3, 0, 0],\n",
       " 301: [3, 0, 1],\n",
       " 302: [3, 0, 2],\n",
       " 303: [3, 0, 3],\n",
       " 304: [3, 0, 4],\n",
       " 305: [3, 0, 5],\n",
       " 306: [3, 0, 6],\n",
       " 307: [3, 0, 7],\n",
       " 308: [3, 0, 8],\n",
       " 309: [3, 0, 9],\n",
       " 310: [3, 1, 0],\n",
       " 311: [3, 1, 1],\n",
       " 312: [3, 1, 2],\n",
       " 313: [3, 1, 3],\n",
       " 314: [3, 1, 4],\n",
       " 315: [3, 1, 5],\n",
       " 316: [3, 1, 6],\n",
       " 317: [3, 1, 7],\n",
       " 318: [3, 1, 8],\n",
       " 319: [3, 1, 9],\n",
       " 320: [3, 2, 0],\n",
       " 321: [3, 2, 1],\n",
       " 322: [3, 2, 2],\n",
       " 323: [3, 2, 3],\n",
       " 324: [3, 2, 4],\n",
       " 325: [3, 2, 5],\n",
       " 326: [3, 2, 6],\n",
       " 327: [3, 2, 7],\n",
       " 328: [3, 2, 8],\n",
       " 329: [3, 2, 9],\n",
       " 330: [3, 3, 0],\n",
       " 331: [3, 3, 1],\n",
       " 332: [3, 3, 2],\n",
       " 333: [3, 3, 3],\n",
       " 334: [3, 3, 4],\n",
       " 335: [3, 3, 5],\n",
       " 336: [3, 3, 6],\n",
       " 337: [3, 3, 7],\n",
       " 338: [3, 3, 8],\n",
       " 339: [3, 3, 9],\n",
       " 340: [3, 4, 0],\n",
       " 341: [3, 4, 1],\n",
       " 342: [3, 4, 2],\n",
       " 343: [3, 4, 3],\n",
       " 344: [3, 4, 4],\n",
       " 345: [3, 4, 5],\n",
       " 346: [3, 4, 6],\n",
       " 347: [3, 4, 7],\n",
       " 348: [3, 4, 8],\n",
       " 349: [3, 4, 9],\n",
       " 350: [3, 5, 0],\n",
       " 351: [3, 5, 1],\n",
       " 352: [3, 5, 2],\n",
       " 353: [3, 5, 3],\n",
       " 354: [3, 5, 4],\n",
       " 355: [3, 5, 5],\n",
       " 356: [3, 5, 6],\n",
       " 357: [3, 5, 7],\n",
       " 358: [3, 5, 8],\n",
       " 359: [3, 5, 9],\n",
       " 360: [3, 6, 0],\n",
       " 361: [3, 6, 1],\n",
       " 362: [3, 6, 2],\n",
       " 363: [3, 6, 3],\n",
       " 364: [3, 6, 4],\n",
       " 365: [3, 6, 5],\n",
       " 366: [3, 6, 6],\n",
       " 367: [3, 6, 7],\n",
       " 368: [3, 6, 8],\n",
       " 369: [3, 6, 9],\n",
       " 370: [3, 7, 0],\n",
       " 371: [3, 7, 1],\n",
       " 372: [3, 7, 2],\n",
       " 373: [3, 7, 3],\n",
       " 374: [3, 7, 4],\n",
       " 375: [3, 7, 5],\n",
       " 376: [3, 7, 6],\n",
       " 377: [3, 7, 7],\n",
       " 378: [3, 7, 8],\n",
       " 379: [3, 7, 9],\n",
       " 380: [3, 8, 0],\n",
       " 381: [3, 8, 1],\n",
       " 382: [3, 8, 2],\n",
       " 383: [3, 8, 3],\n",
       " 384: [3, 8, 4],\n",
       " 385: [3, 8, 5],\n",
       " 386: [3, 8, 6],\n",
       " 387: [3, 8, 7],\n",
       " 388: [3, 8, 8],\n",
       " 389: [3, 8, 9],\n",
       " 390: [3, 9, 0],\n",
       " 391: [3, 9, 1],\n",
       " 392: [3, 9, 2],\n",
       " 393: [3, 9, 3],\n",
       " 394: [3, 9, 4],\n",
       " 395: [3, 9, 5],\n",
       " 396: [3, 9, 6],\n",
       " 397: [3, 9, 7],\n",
       " 398: [3, 9, 8],\n",
       " 399: [3, 9, 9],\n",
       " 400: [4, 0, 0],\n",
       " 401: [4, 0, 1],\n",
       " 402: [4, 0, 2],\n",
       " 403: [4, 0, 3],\n",
       " 404: [4, 0, 4],\n",
       " 405: [4, 0, 5],\n",
       " 406: [4, 0, 6],\n",
       " 407: [4, 0, 7],\n",
       " 408: [4, 0, 8],\n",
       " 409: [4, 0, 9],\n",
       " 410: [4, 1, 0],\n",
       " 411: [4, 1, 1],\n",
       " 412: [4, 1, 2],\n",
       " 413: [4, 1, 3],\n",
       " 414: [4, 1, 4],\n",
       " 415: [4, 1, 5],\n",
       " 416: [4, 1, 6],\n",
       " 417: [4, 1, 7],\n",
       " 418: [4, 1, 8],\n",
       " 419: [4, 1, 9],\n",
       " 420: [4, 2, 0],\n",
       " 421: [4, 2, 1],\n",
       " 422: [4, 2, 2],\n",
       " 423: [4, 2, 3],\n",
       " 424: [4, 2, 4],\n",
       " 425: [4, 2, 5],\n",
       " 426: [4, 2, 6],\n",
       " 427: [4, 2, 7],\n",
       " 428: [4, 2, 8],\n",
       " 429: [4, 2, 9],\n",
       " 430: [4, 3, 0],\n",
       " 431: [4, 3, 1],\n",
       " 432: [4, 3, 2],\n",
       " 433: [4, 3, 3],\n",
       " 434: [4, 3, 4],\n",
       " 435: [4, 3, 5],\n",
       " 436: [4, 3, 6],\n",
       " 437: [4, 3, 7],\n",
       " 438: [4, 3, 8],\n",
       " 439: [4, 3, 9],\n",
       " 440: [4, 4, 0],\n",
       " 441: [4, 4, 1],\n",
       " 442: [4, 4, 2],\n",
       " 443: [4, 4, 3],\n",
       " 444: [4, 4, 4],\n",
       " 445: [4, 4, 5],\n",
       " 446: [4, 4, 6],\n",
       " 447: [4, 4, 7],\n",
       " 448: [4, 4, 8],\n",
       " 449: [4, 4, 9],\n",
       " 450: [4, 5, 0],\n",
       " 451: [4, 5, 1],\n",
       " 452: [4, 5, 2],\n",
       " 453: [4, 5, 3],\n",
       " 454: [4, 5, 4],\n",
       " 455: [4, 5, 5],\n",
       " 456: [4, 5, 6],\n",
       " 457: [4, 5, 7],\n",
       " 458: [4, 5, 8],\n",
       " 459: [4, 5, 9],\n",
       " 460: [4, 6, 0],\n",
       " 461: [4, 6, 1],\n",
       " 462: [4, 6, 2],\n",
       " 463: [4, 6, 3],\n",
       " 464: [4, 6, 4],\n",
       " 465: [4, 6, 5],\n",
       " 466: [4, 6, 6],\n",
       " 467: [4, 6, 7],\n",
       " 468: [4, 6, 8],\n",
       " 469: [4, 6, 9],\n",
       " 470: [4, 7, 0],\n",
       " 471: [4, 7, 1],\n",
       " 472: [4, 7, 2],\n",
       " 473: [4, 7, 3],\n",
       " 474: [4, 7, 4],\n",
       " 475: [4, 7, 5],\n",
       " 476: [4, 7, 6],\n",
       " 477: [4, 7, 7],\n",
       " 478: [4, 7, 8],\n",
       " 479: [4, 7, 9],\n",
       " 480: [4, 8, 0],\n",
       " 481: [4, 8, 1],\n",
       " 482: [4, 8, 2],\n",
       " 483: [4, 8, 3],\n",
       " 484: [4, 8, 4],\n",
       " 485: [4, 8, 5],\n",
       " 486: [4, 8, 6],\n",
       " 487: [4, 8, 7],\n",
       " 488: [4, 8, 8],\n",
       " 489: [4, 8, 9],\n",
       " 490: [4, 9, 0],\n",
       " 491: [4, 9, 1],\n",
       " 492: [4, 9, 2],\n",
       " 493: [4, 9, 3],\n",
       " 494: [4, 9, 4],\n",
       " 495: [4, 9, 5],\n",
       " 496: [4, 9, 6],\n",
       " 497: [4, 9, 7],\n",
       " 498: [4, 9, 8],\n",
       " 499: [4, 9, 9],\n",
       " 500: [5, 0, 0],\n",
       " 501: [5, 0, 1],\n",
       " 502: [5, 0, 2],\n",
       " 503: [5, 0, 3],\n",
       " 504: [5, 0, 4],\n",
       " 505: [5, 0, 5],\n",
       " 506: [5, 0, 6],\n",
       " 507: [5, 0, 7],\n",
       " 508: [5, 0, 8],\n",
       " 509: [5, 0, 9],\n",
       " 510: [5, 1, 0],\n",
       " 511: [5, 1, 1],\n",
       " 512: [5, 1, 2],\n",
       " 513: [5, 1, 3],\n",
       " 514: [5, 1, 4],\n",
       " 515: [5, 1, 5],\n",
       " 516: [5, 1, 6],\n",
       " 517: [5, 1, 7],\n",
       " 518: [5, 1, 8],\n",
       " 519: [5, 1, 9],\n",
       " 520: [5, 2, 0],\n",
       " 521: [5, 2, 1],\n",
       " 522: [5, 2, 2],\n",
       " 523: [5, 2, 3],\n",
       " 524: [5, 2, 4],\n",
       " 525: [5, 2, 5],\n",
       " 526: [5, 2, 6],\n",
       " 527: [5, 2, 7],\n",
       " 528: [5, 2, 8],\n",
       " 529: [5, 2, 9],\n",
       " 530: [5, 3, 0],\n",
       " 531: [5, 3, 1],\n",
       " 532: [5, 3, 2],\n",
       " 533: [5, 3, 3],\n",
       " 534: [5, 3, 4],\n",
       " 535: [5, 3, 5],\n",
       " 536: [5, 3, 6],\n",
       " 537: [5, 3, 7],\n",
       " 538: [5, 3, 8],\n",
       " 539: [5, 3, 9],\n",
       " 540: [5, 4, 0],\n",
       " 541: [5, 4, 1],\n",
       " 542: [5, 4, 2],\n",
       " 543: [5, 4, 3],\n",
       " 544: [5, 4, 4],\n",
       " 545: [5, 4, 5],\n",
       " 546: [5, 4, 6],\n",
       " 547: [5, 4, 7],\n",
       " 548: [5, 4, 8],\n",
       " 549: [5, 4, 9],\n",
       " 550: [5, 5, 0],\n",
       " 551: [5, 5, 1],\n",
       " 552: [5, 5, 2],\n",
       " 553: [5, 5, 3],\n",
       " 554: [5, 5, 4],\n",
       " 555: [5, 5, 5],\n",
       " 556: [5, 5, 6],\n",
       " 557: [5, 5, 7],\n",
       " 558: [5, 5, 8],\n",
       " 559: [5, 5, 9],\n",
       " 560: [5, 6, 0],\n",
       " 561: [5, 6, 1],\n",
       " 562: [5, 6, 2],\n",
       " 563: [5, 6, 3],\n",
       " 564: [5, 6, 4],\n",
       " 565: [5, 6, 5],\n",
       " 566: [5, 6, 6],\n",
       " 567: [5, 6, 7],\n",
       " 568: [5, 6, 8],\n",
       " 569: [5, 6, 9],\n",
       " 570: [5, 7, 0],\n",
       " 571: [5, 7, 1],\n",
       " 572: [5, 7, 2],\n",
       " 573: [5, 7, 3],\n",
       " 574: [5, 7, 4],\n",
       " 575: [5, 7, 5],\n",
       " 576: [5, 7, 6],\n",
       " 577: [5, 7, 7],\n",
       " 578: [5, 7, 8],\n",
       " 579: [5, 7, 9],\n",
       " 580: [5, 8, 0],\n",
       " 581: [5, 8, 1],\n",
       " 582: [5, 8, 2],\n",
       " 583: [5, 8, 3],\n",
       " 584: [5, 8, 4],\n",
       " 585: [5, 8, 5],\n",
       " 586: [5, 8, 6],\n",
       " 587: [5, 8, 7],\n",
       " 588: [5, 8, 8],\n",
       " 589: [5, 8, 9],\n",
       " 590: [5, 9, 0],\n",
       " 591: [5, 9, 1],\n",
       " 592: [5, 9, 2],\n",
       " 593: [5, 9, 3],\n",
       " 594: [5, 9, 4],\n",
       " 595: [5, 9, 5],\n",
       " 596: [5, 9, 6],\n",
       " 597: [5, 9, 7],\n",
       " 598: [5, 9, 8],\n",
       " 599: [5, 9, 9],\n",
       " 600: [6, 0, 0],\n",
       " 601: [6, 0, 1],\n",
       " 602: [6, 0, 2],\n",
       " 603: [6, 0, 3],\n",
       " 604: [6, 0, 4],\n",
       " 605: [6, 0, 5],\n",
       " 606: [6, 0, 6],\n",
       " 607: [6, 0, 7],\n",
       " 608: [6, 0, 8],\n",
       " 609: [6, 0, 9],\n",
       " 610: [6, 1, 0],\n",
       " 611: [6, 1, 1],\n",
       " 612: [6, 1, 2],\n",
       " 613: [6, 1, 3],\n",
       " 614: [6, 1, 4],\n",
       " 615: [6, 1, 5],\n",
       " 616: [6, 1, 6],\n",
       " 617: [6, 1, 7],\n",
       " 618: [6, 1, 8],\n",
       " 619: [6, 1, 9],\n",
       " 620: [6, 2, 0],\n",
       " 621: [6, 2, 1],\n",
       " 622: [6, 2, 2],\n",
       " 623: [6, 2, 3],\n",
       " 624: [6, 2, 4],\n",
       " 625: [6, 2, 5],\n",
       " 626: [6, 2, 6],\n",
       " 627: [6, 2, 7],\n",
       " 628: [6, 2, 8],\n",
       " 629: [6, 2, 9],\n",
       " 630: [6, 3, 0],\n",
       " 631: [6, 3, 1],\n",
       " 632: [6, 3, 2],\n",
       " 633: [6, 3, 3],\n",
       " 634: [6, 3, 4],\n",
       " 635: [6, 3, 5],\n",
       " 636: [6, 3, 6],\n",
       " 637: [6, 3, 7],\n",
       " 638: [6, 3, 8],\n",
       " 639: [6, 3, 9],\n",
       " 640: [6, 4, 0],\n",
       " 641: [6, 4, 1],\n",
       " 642: [6, 4, 2],\n",
       " 643: [6, 4, 3],\n",
       " 644: [6, 4, 4],\n",
       " 645: [6, 4, 5],\n",
       " 646: [6, 4, 6],\n",
       " 647: [6, 4, 7],\n",
       " 648: [6, 4, 8],\n",
       " 649: [6, 4, 9],\n",
       " 650: [6, 5, 0],\n",
       " 651: [6, 5, 1],\n",
       " 652: [6, 5, 2],\n",
       " 653: [6, 5, 3],\n",
       " 654: [6, 5, 4],\n",
       " 655: [6, 5, 5],\n",
       " 656: [6, 5, 6],\n",
       " 657: [6, 5, 7],\n",
       " 658: [6, 5, 8],\n",
       " 659: [6, 5, 9],\n",
       " 660: [6, 6, 0],\n",
       " 661: [6, 6, 1],\n",
       " 662: [6, 6, 2],\n",
       " 663: [6, 6, 3],\n",
       " 664: [6, 6, 4],\n",
       " 665: [6, 6, 5],\n",
       " 666: [6, 6, 6],\n",
       " 667: [6, 6, 7],\n",
       " 668: [6, 6, 8],\n",
       " 669: [6, 6, 9],\n",
       " 670: [6, 7, 0],\n",
       " 671: [6, 7, 1],\n",
       " 672: [6, 7, 2],\n",
       " 673: [6, 7, 3],\n",
       " 674: [6, 7, 4],\n",
       " 675: [6, 7, 5],\n",
       " 676: [6, 7, 6],\n",
       " 677: [6, 7, 7],\n",
       " 678: [6, 7, 8],\n",
       " 679: [6, 7, 9],\n",
       " 680: [6, 8, 0],\n",
       " 681: [6, 8, 1],\n",
       " 682: [6, 8, 2],\n",
       " 683: [6, 8, 3],\n",
       " 684: [6, 8, 4],\n",
       " 685: [6, 8, 5],\n",
       " 686: [6, 8, 6],\n",
       " 687: [6, 8, 7],\n",
       " 688: [6, 8, 8],\n",
       " 689: [6, 8, 9],\n",
       " 690: [6, 9, 0],\n",
       " 691: [6, 9, 1],\n",
       " 692: [6, 9, 2],\n",
       " 693: [6, 9, 3],\n",
       " 694: [6, 9, 4],\n",
       " 695: [6, 9, 5],\n",
       " 696: [6, 9, 6],\n",
       " 697: [6, 9, 7],\n",
       " 698: [6, 9, 8],\n",
       " 699: [6, 9, 9],\n",
       " 700: [7, 0, 0],\n",
       " 701: [7, 0, 1],\n",
       " 702: [7, 0, 2],\n",
       " 703: [7, 0, 3],\n",
       " 704: [7, 0, 4],\n",
       " 705: [7, 0, 5],\n",
       " 706: [7, 0, 6],\n",
       " 707: [7, 0, 7],\n",
       " 708: [7, 0, 8],\n",
       " 709: [7, 0, 9],\n",
       " 710: [7, 1, 0],\n",
       " 711: [7, 1, 1],\n",
       " 712: [7, 1, 2],\n",
       " 713: [7, 1, 3],\n",
       " 714: [7, 1, 4],\n",
       " 715: [7, 1, 5],\n",
       " 716: [7, 1, 6],\n",
       " 717: [7, 1, 7],\n",
       " 718: [7, 1, 8],\n",
       " 719: [7, 1, 9],\n",
       " 720: [7, 2, 0],\n",
       " 721: [7, 2, 1],\n",
       " 722: [7, 2, 2],\n",
       " 723: [7, 2, 3],\n",
       " 724: [7, 2, 4],\n",
       " 725: [7, 2, 5],\n",
       " 726: [7, 2, 6],\n",
       " 727: [7, 2, 7],\n",
       " 728: [7, 2, 8],\n",
       " 729: [7, 2, 9],\n",
       " 730: [7, 3, 0],\n",
       " 731: [7, 3, 1],\n",
       " 732: [7, 3, 2],\n",
       " 733: [7, 3, 3],\n",
       " 734: [7, 3, 4],\n",
       " 735: [7, 3, 5],\n",
       " 736: [7, 3, 6],\n",
       " 737: [7, 3, 7],\n",
       " 738: [7, 3, 8],\n",
       " 739: [7, 3, 9],\n",
       " 740: [7, 4, 0],\n",
       " 741: [7, 4, 1],\n",
       " 742: [7, 4, 2],\n",
       " 743: [7, 4, 3],\n",
       " 744: [7, 4, 4],\n",
       " 745: [7, 4, 5],\n",
       " 746: [7, 4, 6],\n",
       " 747: [7, 4, 7],\n",
       " 748: [7, 4, 8],\n",
       " 749: [7, 4, 9],\n",
       " 750: [7, 5, 0],\n",
       " 751: [7, 5, 1],\n",
       " 752: [7, 5, 2],\n",
       " 753: [7, 5, 3],\n",
       " 754: [7, 5, 4],\n",
       " 755: [7, 5, 5],\n",
       " 756: [7, 5, 6],\n",
       " 757: [7, 5, 7],\n",
       " 758: [7, 5, 8],\n",
       " 759: [7, 5, 9],\n",
       " 760: [7, 6, 0],\n",
       " 761: [7, 6, 1],\n",
       " 762: [7, 6, 2],\n",
       " 763: [7, 6, 3],\n",
       " 764: [7, 6, 4],\n",
       " 765: [7, 6, 5],\n",
       " 766: [7, 6, 6],\n",
       " 767: [7, 6, 7],\n",
       " 768: [7, 6, 8],\n",
       " 769: [7, 6, 9],\n",
       " 770: [7, 7, 0],\n",
       " 771: [7, 7, 1],\n",
       " 772: [7, 7, 2],\n",
       " 773: [7, 7, 3],\n",
       " 774: [7, 7, 4],\n",
       " 775: [7, 7, 5],\n",
       " 776: [7, 7, 6],\n",
       " 777: [7, 7, 7],\n",
       " 778: [7, 7, 8],\n",
       " 779: [7, 7, 9],\n",
       " 780: [7, 8, 0],\n",
       " 781: [7, 8, 1],\n",
       " 782: [7, 8, 2],\n",
       " 783: [7, 8, 3],\n",
       " 784: [7, 8, 4],\n",
       " 785: [7, 8, 5],\n",
       " 786: [7, 8, 6],\n",
       " 787: [7, 8, 7],\n",
       " 788: [7, 8, 8],\n",
       " 789: [7, 8, 9],\n",
       " 790: [7, 9, 0],\n",
       " 791: [7, 9, 1],\n",
       " 792: [7, 9, 2],\n",
       " 793: [7, 9, 3],\n",
       " 794: [7, 9, 4],\n",
       " 795: [7, 9, 5],\n",
       " 796: [7, 9, 6],\n",
       " 797: [7, 9, 7],\n",
       " 798: [7, 9, 8],\n",
       " 799: [7, 9, 9],\n",
       " 800: [8, 0, 0],\n",
       " 801: [8, 0, 1],\n",
       " 802: [8, 0, 2],\n",
       " 803: [8, 0, 3],\n",
       " 804: [8, 0, 4],\n",
       " 805: [8, 0, 5],\n",
       " 806: [8, 0, 6],\n",
       " 807: [8, 0, 7],\n",
       " 808: [8, 0, 8],\n",
       " 809: [8, 0, 9],\n",
       " 810: [8, 1, 0],\n",
       " 811: [8, 1, 1],\n",
       " 812: [8, 1, 2],\n",
       " 813: [8, 1, 3],\n",
       " 814: [8, 1, 4],\n",
       " 815: [8, 1, 5],\n",
       " 816: [8, 1, 6],\n",
       " 817: [8, 1, 7],\n",
       " 818: [8, 1, 8],\n",
       " 819: [8, 1, 9],\n",
       " 820: [8, 2, 0],\n",
       " 821: [8, 2, 1],\n",
       " 822: [8, 2, 2],\n",
       " 823: [8, 2, 3],\n",
       " 824: [8, 2, 4],\n",
       " 825: [8, 2, 5],\n",
       " 826: [8, 2, 6],\n",
       " 827: [8, 2, 7],\n",
       " 828: [8, 2, 8],\n",
       " 829: [8, 2, 9],\n",
       " 830: [8, 3, 0],\n",
       " 831: [8, 3, 1],\n",
       " 832: [8, 3, 2],\n",
       " 833: [8, 3, 3],\n",
       " 834: [8, 3, 4],\n",
       " 835: [8, 3, 5],\n",
       " 836: [8, 3, 6],\n",
       " 837: [8, 3, 7],\n",
       " 838: [8, 3, 8],\n",
       " 839: [8, 3, 9],\n",
       " 840: [8, 4, 0],\n",
       " 841: [8, 4, 1],\n",
       " 842: [8, 4, 2],\n",
       " 843: [8, 4, 3],\n",
       " 844: [8, 4, 4],\n",
       " 845: [8, 4, 5],\n",
       " 846: [8, 4, 6],\n",
       " 847: [8, 4, 7],\n",
       " 848: [8, 4, 8],\n",
       " 849: [8, 4, 9],\n",
       " 850: [8, 5, 0],\n",
       " 851: [8, 5, 1],\n",
       " 852: [8, 5, 2],\n",
       " 853: [8, 5, 3],\n",
       " 854: [8, 5, 4],\n",
       " 855: [8, 5, 5],\n",
       " 856: [8, 5, 6],\n",
       " 857: [8, 5, 7],\n",
       " 858: [8, 5, 8],\n",
       " 859: [8, 5, 9],\n",
       " 860: [8, 6, 0],\n",
       " 861: [8, 6, 1],\n",
       " 862: [8, 6, 2],\n",
       " 863: [8, 6, 3],\n",
       " 864: [8, 6, 4],\n",
       " 865: [8, 6, 5],\n",
       " 866: [8, 6, 6],\n",
       " 867: [8, 6, 7],\n",
       " 868: [8, 6, 8],\n",
       " 869: [8, 6, 9],\n",
       " 870: [8, 7, 0],\n",
       " 871: [8, 7, 1],\n",
       " 872: [8, 7, 2],\n",
       " 873: [8, 7, 3],\n",
       " 874: [8, 7, 4],\n",
       " 875: [8, 7, 5],\n",
       " 876: [8, 7, 6],\n",
       " 877: [8, 7, 7],\n",
       " 878: [8, 7, 8],\n",
       " 879: [8, 7, 9],\n",
       " 880: [8, 8, 0],\n",
       " 881: [8, 8, 1],\n",
       " 882: [8, 8, 2],\n",
       " 883: [8, 8, 3],\n",
       " 884: [8, 8, 4],\n",
       " 885: [8, 8, 5],\n",
       " 886: [8, 8, 6],\n",
       " 887: [8, 8, 7],\n",
       " 888: [8, 8, 8],\n",
       " 889: [8, 8, 9],\n",
       " 890: [8, 9, 0],\n",
       " 891: [8, 9, 1],\n",
       " 892: [8, 9, 2],\n",
       " 893: [8, 9, 3],\n",
       " 894: [8, 9, 4],\n",
       " 895: [8, 9, 5],\n",
       " 896: [8, 9, 6],\n",
       " 897: [8, 9, 7],\n",
       " 898: [8, 9, 8],\n",
       " 899: [8, 9, 9],\n",
       " 900: [9, 0, 0],\n",
       " 901: [9, 0, 1],\n",
       " 902: [9, 0, 2],\n",
       " 903: [9, 0, 3],\n",
       " 904: [9, 0, 4],\n",
       " 905: [9, 0, 5],\n",
       " 906: [9, 0, 6],\n",
       " 907: [9, 0, 7],\n",
       " 908: [9, 0, 8],\n",
       " 909: [9, 0, 9],\n",
       " 910: [9, 1, 0],\n",
       " 911: [9, 1, 1],\n",
       " 912: [9, 1, 2],\n",
       " 913: [9, 1, 3],\n",
       " 914: [9, 1, 4],\n",
       " 915: [9, 1, 5],\n",
       " 916: [9, 1, 6],\n",
       " 917: [9, 1, 7],\n",
       " 918: [9, 1, 8],\n",
       " 919: [9, 1, 9],\n",
       " 920: [9, 2, 0],\n",
       " 921: [9, 2, 1],\n",
       " 922: [9, 2, 2],\n",
       " 923: [9, 2, 3],\n",
       " 924: [9, 2, 4],\n",
       " 925: [9, 2, 5],\n",
       " 926: [9, 2, 6],\n",
       " 927: [9, 2, 7],\n",
       " 928: [9, 2, 8],\n",
       " 929: [9, 2, 9],\n",
       " 930: [9, 3, 0],\n",
       " 931: [9, 3, 1],\n",
       " 932: [9, 3, 2],\n",
       " 933: [9, 3, 3],\n",
       " 934: [9, 3, 4],\n",
       " 935: [9, 3, 5],\n",
       " 936: [9, 3, 6],\n",
       " 937: [9, 3, 7],\n",
       " 938: [9, 3, 8],\n",
       " 939: [9, 3, 9],\n",
       " 940: [9, 4, 0],\n",
       " 941: [9, 4, 1],\n",
       " 942: [9, 4, 2],\n",
       " 943: [9, 4, 3],\n",
       " 944: [9, 4, 4],\n",
       " 945: [9, 4, 5],\n",
       " 946: [9, 4, 6],\n",
       " 947: [9, 4, 7],\n",
       " 948: [9, 4, 8],\n",
       " 949: [9, 4, 9],\n",
       " 950: [9, 5, 0],\n",
       " 951: [9, 5, 1],\n",
       " 952: [9, 5, 2],\n",
       " 953: [9, 5, 3],\n",
       " 954: [9, 5, 4],\n",
       " 955: [9, 5, 5],\n",
       " 956: [9, 5, 6],\n",
       " 957: [9, 5, 7],\n",
       " 958: [9, 5, 8],\n",
       " 959: [9, 5, 9],\n",
       " 960: [9, 6, 0],\n",
       " 961: [9, 6, 1],\n",
       " 962: [9, 6, 2],\n",
       " 963: [9, 6, 3],\n",
       " 964: [9, 6, 4],\n",
       " 965: [9, 6, 5],\n",
       " 966: [9, 6, 6],\n",
       " 967: [9, 6, 7],\n",
       " 968: [9, 6, 8],\n",
       " 969: [9, 6, 9],\n",
       " 970: [9, 7, 0],\n",
       " 971: [9, 7, 1],\n",
       " 972: [9, 7, 2],\n",
       " 973: [9, 7, 3],\n",
       " 974: [9, 7, 4],\n",
       " 975: [9, 7, 5],\n",
       " 976: [9, 7, 6],\n",
       " 977: [9, 7, 7],\n",
       " 978: [9, 7, 8],\n",
       " 979: [9, 7, 9],\n",
       " 980: [9, 8, 0],\n",
       " 981: [9, 8, 1],\n",
       " 982: [9, 8, 2],\n",
       " 983: [9, 8, 3],\n",
       " 984: [9, 8, 4],\n",
       " 985: [9, 8, 5],\n",
       " 986: [9, 8, 6],\n",
       " 987: [9, 8, 7],\n",
       " 988: [9, 8, 8],\n",
       " 989: [9, 8, 9],\n",
       " 990: [9, 9, 0],\n",
       " 991: [9, 9, 1],\n",
       " 992: [9, 9, 2],\n",
       " 993: [9, 9, 3],\n",
       " 994: [9, 9, 4],\n",
       " 995: [9, 9, 5],\n",
       " 996: [9, 9, 6],\n",
       " 997: [9, 9, 7],\n",
       " 998: [9, 9, 8],\n",
       " 999: [9, 9, 9]}"
      ]
     },
     "execution_count": 24,
     "metadata": {},
     "output_type": "execute_result"
    }
   ],
   "source": [
    "{x:[x//base**2, x//base%base, x%base] for x in range(base**3)}"
   ]
  },
  {
   "cell_type": "code",
   "execution_count": 25,
   "metadata": {
    "collapsed": false
   },
   "outputs": [
    {
     "data": {
      "text/plain": [
       "{0: [0, 0, 0],\n",
       " 1: [0, 0, 1],\n",
       " 2: [0, 1, 0],\n",
       " 3: [0, 1, 1],\n",
       " 4: [1, 0, 0],\n",
       " 5: [1, 0, 1],\n",
       " 6: [1, 1, 0],\n",
       " 7: [1, 1, 1]}"
      ]
     },
     "execution_count": 25,
     "metadata": {},
     "output_type": "execute_result"
    }
   ],
   "source": [
    "base = 2\n",
    "\n",
    "{x:[x//base**2, x//base%base, x%base] for x in range(base**3)}"
   ]
  },
  {
   "cell_type": "markdown",
   "metadata": {},
   "source": [
    "**Comprehensions that iterate over dictionaries**\n",
    "\n",
    "We can write list comprehensions that iterate over the keys or the values of a dictionary, using `keys()` or `values()`:"
   ]
  },
  {
   "cell_type": "code",
   "execution_count": 26,
   "metadata": {
    "collapsed": false
   },
   "outputs": [
    {
     "data": {
      "text/plain": [
       "[6, 8]"
      ]
     },
     "execution_count": 26,
     "metadata": {},
     "output_type": "execute_result"
    }
   ],
   "source": [
    "[2*x for x in {4:'a', 3:'b'}.keys()]"
   ]
  },
  {
   "cell_type": "code",
   "execution_count": 27,
   "metadata": {
    "collapsed": false
   },
   "outputs": [
    {
     "data": {
      "text/plain": [
       "['b', 'a']"
      ]
     },
     "execution_count": 27,
     "metadata": {},
     "output_type": "execute_result"
    }
   ],
   "source": [
    "[x for x in {4:'a', 3:'b'}.values()]"
   ]
  },
  {
   "cell_type": "markdown",
   "metadata": {},
   "source": [
    "Given two dictionaries `A` and `B`, we can write comprehensions that iterate over the union or intersection of the keys, using the _union_ operator `|` and _intersection_ operator `&` we learned about in Section 0.5.4."
   ]
  },
  {
   "cell_type": "code",
   "execution_count": 28,
   "metadata": {
    "collapsed": false
   },
   "outputs": [
    {
     "data": {
      "text/plain": [
       "['b', 'a', 'c']"
      ]
     },
     "execution_count": 28,
     "metadata": {},
     "output_type": "execute_result"
    }
   ],
   "source": [
    "[k for k in {'a':1, 'b':2}.keys() | {'b':3, 'c':4}.keys()]"
   ]
  },
  {
   "cell_type": "code",
   "execution_count": 29,
   "metadata": {
    "collapsed": false
   },
   "outputs": [
    {
     "data": {
      "text/plain": [
       "['b']"
      ]
     },
     "execution_count": 29,
     "metadata": {},
     "output_type": "execute_result"
    }
   ],
   "source": [
    "[k for k in {'a':1, 'b':2}.keys() & {'b':3, 'c':4}.keys()]"
   ]
  },
  {
   "cell_type": "markdown",
   "metadata": {},
   "source": [
    "Often we will want a comprehension that iterates over the `(key, value)` _pairs_ of a dictionary using `items()`. Each pair is a _tuple_."
   ]
  },
  {
   "cell_type": "code",
   "execution_count": 31,
   "metadata": {
    "collapsed": false
   },
   "outputs": [
    {
     "data": {
      "text/plain": [
       "[('Agent Smith', 'Hugo'),\n",
       " ('Trinity', 'Carrie-Anne'),\n",
       " ('Neo', 'Philip'),\n",
       " ('Morpheus', 'Laurance')]"
      ]
     },
     "execution_count": 31,
     "metadata": {},
     "output_type": "execute_result"
    }
   ],
   "source": [
    "[myitem for myitem in mydict.items()]"
   ]
  },
  {
   "cell_type": "markdown",
   "metadata": {},
   "source": [
    "SInce the items are _tuples_, we can access the key and value _separately_ using _unpacking_:"
   ]
  },
  {
   "cell_type": "code",
   "execution_count": 32,
   "metadata": {
    "collapsed": false
   },
   "outputs": [
    {
     "data": {
      "text/plain": [
       "['Agent Smith is played by Hugo',\n",
       " 'Trinity is played by Carrie-Anne',\n",
       " 'Neo is played by Philip',\n",
       " 'Morpheus is played by Laurance']"
      ]
     },
     "execution_count": 32,
     "metadata": {},
     "output_type": "execute_result"
    }
   ],
   "source": [
    "[k + \" is played by \" + v for (k, v) in mydict.items()]"
   ]
  },
  {
   "cell_type": "code",
   "execution_count": 33,
   "metadata": {
    "collapsed": false
   },
   "outputs": [
    {
     "data": {
      "text/plain": [
       "[201, 8, 8]"
      ]
     },
     "execution_count": 33,
     "metadata": {},
     "output_type": "execute_result"
    }
   ],
   "source": [
    "[2*k+v for (k, v) in {4:0, 3:2, 100:1}.items()]"
   ]
  },
  {
   "cell_type": "markdown",
   "metadata": {},
   "source": [
    "**Task 0.5.26**: Suppose `d` is a dictionary that maps some employee IDs (a subset of the integers from 0 to `n-1`) to salaries. Suppose `L` is an n-element list whose $i^{\\text{th}}$ element is the name of employee ID `i`. Our goal is to write a comprehension whose value is a dictionary mapping employee names to salaries. We can assume that employee names are distinct."
   ]
  },
  {
   "cell_type": "code",
   "execution_count": 36,
   "metadata": {
    "collapsed": false
   },
   "outputs": [
    {
     "data": {
      "text/plain": [
       "{'Curly': 1200.5, 'Larry': 1000.0, 'Moe': 990}"
      ]
     },
     "execution_count": 36,
     "metadata": {},
     "output_type": "execute_result"
    }
   ],
   "source": [
    "id2salary = {0:1000.0, 3:990, 1:1200.50}\n",
    "names = ['Larry', 'Curly', '', 'Moe']\n",
    "\n",
    "{emp:id2salary[i]  for i, emp in enumerate(names) if i in id2salary}"
   ]
  },
  {
   "cell_type": "markdown",
   "metadata": {},
   "source": [
    "### 0.5.9 Defining one-line procedures"
   ]
  },
  {
   "cell_type": "markdown",
   "metadata": {},
   "source": [
    "The word `def` introduces a procedure definition.\n",
    "\n",
    "_formal_ vs _actual_ argument\n",
    "\n",
    "When the procedure is invoked, the formal argument (the variable) is temporarily bound to the actual argument, and the body of the procedure is executed. In the end, the binding of the actual argument is removed. (The binding is temporary.)"
   ]
  },
  {
   "cell_type": "markdown",
   "metadata": {},
   "source": [
    "**Task 0.5.27**:"
   ]
  },
  {
   "cell_type": "code",
   "execution_count": 42,
   "metadata": {
    "collapsed": false
   },
   "outputs": [
    {
     "data": {
      "text/plain": [
       "-12"
      ]
     },
     "execution_count": 42,
     "metadata": {},
     "output_type": "execute_result"
    }
   ],
   "source": [
    "def twice(z): return 2*z\n",
    "\n",
    "twice(-6)"
   ]
  },
  {
   "cell_type": "markdown",
   "metadata": {},
   "source": [
    "**Task 0.5.28**:"
   ]
  },
  {
   "cell_type": "code",
   "execution_count": 45,
   "metadata": {
    "collapsed": false
   },
   "outputs": [
    {
     "data": {
      "text/plain": [
       "[2, 6, 8]"
      ]
     },
     "execution_count": 45,
     "metadata": {},
     "output_type": "execute_result"
    }
   ],
   "source": [
    "def nextInts(L): return [x+1 for x in L]\n",
    "    \n",
    "l = [1, 5, 7]\n",
    "nextInts(l)"
   ]
  },
  {
   "cell_type": "markdown",
   "metadata": {},
   "source": [
    "**Task 0.5.29**:"
   ]
  },
  {
   "cell_type": "code",
   "execution_count": 46,
   "metadata": {
    "collapsed": false
   },
   "outputs": [
    {
     "data": {
      "text/plain": [
       "[1, 8, 27]"
      ]
     },
     "execution_count": 46,
     "metadata": {},
     "output_type": "execute_result"
    }
   ],
   "source": [
    "def cubes(L): return [x**3 for x in L]\n",
    "\n",
    "l = [1, 2, 3]\n",
    "cubes(l)"
   ]
  },
  {
   "cell_type": "markdown",
   "metadata": {},
   "source": [
    "**Task 0.5.30**:"
   ]
  },
  {
   "cell_type": "code",
   "execution_count": 49,
   "metadata": {
    "collapsed": false
   },
   "outputs": [
    {
     "data": {
      "text/plain": [
       "['B', 'C', 'A']"
      ]
     },
     "execution_count": 49,
     "metadata": {},
     "output_type": "execute_result"
    }
   ],
   "source": [
    "def dict2list(dct, keylst): return [dct[k] for k in keylst if k in dct]\n",
    "\n",
    "d = {'a':'A', 'b':'B', 'c':'C'}\n",
    "klst = ['b', 'c', 'a']\n",
    "\n",
    "dict2list(d, klst)"
   ]
  },
  {
   "cell_type": "markdown",
   "metadata": {},
   "source": [
    "**Task 0.5.31**:"
   ]
  },
  {
   "cell_type": "code",
   "execution_count": 51,
   "metadata": {
    "collapsed": false
   },
   "outputs": [
    {
     "data": {
      "text/plain": [
       "{'a': 'A', 'b': 'B', 'c': 'C'}"
      ]
     },
     "execution_count": 51,
     "metadata": {},
     "output_type": "execute_result"
    }
   ],
   "source": [
    "L = ['A', 'B', 'C']\n",
    "klst = ['a', 'b', 'c']\n",
    "\n",
    "def list2dict(L, keylist): return {k:L[i] for (i, k) in enumerate(keylist)}\n",
    "\n",
    "list2dict(L, klst)"
   ]
  },
  {
   "cell_type": "code",
   "execution_count": 53,
   "metadata": {
    "collapsed": false
   },
   "outputs": [
    {
     "data": {
      "text/plain": [
       "{'a': 'A', 'b': 'B', 'c': 'C'}"
      ]
     },
     "execution_count": 53,
     "metadata": {},
     "output_type": "execute_result"
    }
   ],
   "source": [
    "def list2dict2(L, keylist): return {keylist[i]:L[i] for i in range(len(keylist))}\n",
    "\n",
    "list2dict2(L, klst)"
   ]
  },
  {
   "cell_type": "code",
   "execution_count": 55,
   "metadata": {
    "collapsed": false
   },
   "outputs": [
    {
     "data": {
      "text/plain": [
       "{'a': 'A', 'b': 'B', 'c': 'C'}"
      ]
     },
     "execution_count": 55,
     "metadata": {},
     "output_type": "execute_result"
    }
   ],
   "source": [
    "def list2dict3(L, keylst): return {k:L[i] for (i, k) in zip(list(range(len(keylst))), keylst)}\n",
    "\n",
    "list2dict3(L, klst)"
   ]
  },
  {
   "cell_type": "code",
   "execution_count": null,
   "metadata": {
    "collapsed": true
   },
   "outputs": [],
   "source": []
  }
 ],
 "metadata": {
  "anaconda-cloud": {},
  "kernelspec": {
   "display_name": "Python 3",
   "language": "python",
   "name": "python3"
  },
  "language_info": {
   "codemirror_mode": {
    "name": "ipython",
    "version": 3
   },
   "file_extension": ".py",
   "mimetype": "text/x-python",
   "name": "python",
   "nbconvert_exporter": "python",
   "pygments_lexer": "ipython3",
   "version": "3.5.2+"
  }
 },
 "nbformat": 4,
 "nbformat_minor": 1
}
